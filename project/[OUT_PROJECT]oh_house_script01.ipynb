{
 "cells": [
  {
   "cell_type": "code",
   "execution_count": null,
   "metadata": {},
   "outputs": [],
   "source": [
    "import pandas as pd\n",
    "import numpy as np\n",
    "import pickle"
   ]
  },
  {
   "cell_type": "code",
   "execution_count": null,
   "metadata": {},
   "outputs": [],
   "source": [
    "from sklearn.decomposition import PCA\n",
    "from sklearn.preprocessing import MinMaxScaler\n",
    "from sklearn.model_selection import train_test_split\n",
    "from sklearn.discriminant_analysis import LinearDiscriminantAnalysis\n",
    "# pandas.get_dummies()도 사용할 것\n",
    "\n",
    "from sklearn.cluster import KMeans\n",
    "from sklearn.cluster import DBSCAN\n",
    "\n",
    "from sklearn.tree import DecisionTreeClassifier, DecisionTreeRegressor\n",
    "from sklearn.ensemble import RandomForestClassifier, RandomForestRegressor\n",
    "import xgboost as xgb\n",
    "from xgboost import plot_importance\n",
    "\n",
    "import matplotlib.pyplot as plt\n",
    "from mpl_toolkits.mplot3d import Axes3D\n",
    "\n",
    "from imblearn.over_sampling import SMOTE\n",
    "from sklearn.metrics import accuracy_score"
   ]
  },
  {
   "cell_type": "code",
   "execution_count": null,
   "metadata": {},
   "outputs": [],
   "source": [
    "with open(\"../DATA/final_df_user_statistics.pkl\", 'rb') as f:\n",
    "    final_stat = pickle.load(f)"
   ]
  },
  {
   "cell_type": "code",
   "execution_count": null,
   "metadata": {
    "scrolled": true
   },
   "outputs": [],
   "source": [
    "final_stat.head()"
   ]
  },
  {
   "cell_type": "code",
   "execution_count": null,
   "metadata": {},
   "outputs": [],
   "source": [
    "df_PCA = final_stat.copy()\n",
    "df_Tree = final_stat.copy()"
   ]
  },
  {
   "cell_type": "code",
   "execution_count": null,
   "metadata": {},
   "outputs": [],
   "source": [
    "df_PCA = df_PCA.join(pd.get_dummies(df_PCA[['major_platform']]), how = 'inner')\n",
    "df_PCA.drop('major_platform', axis = 1, inplace = True)"
   ]
  },
  {
   "cell_type": "code",
   "execution_count": null,
   "metadata": {},
   "outputs": [],
   "source": [
    "scaler = MinMaxScaler(copy=True, feature_range=(0, 1))\n",
    "scaler.fit(df_PCA.drop(\"three\", axis = 1))\n",
    "print(scaler.data_max_)"
   ]
  },
  {
   "cell_type": "code",
   "execution_count": null,
   "metadata": {},
   "outputs": [],
   "source": [
    "X = scaler.transform(df_PCA.drop(\"three\", axis = 1))\n",
    "y = np.array(df_PCA.three) # True, False\n",
    "\n",
    "scaler.fit(X)\n",
    "\n",
    "print(scaler)"
   ]
  },
  {
   "cell_type": "code",
   "execution_count": null,
   "metadata": {},
   "outputs": [],
   "source": [
    "pca = PCA(n_components = 3, random_state = 42)\n",
    "pca.fit(X).transform(X)"
   ]
  },
  {
   "cell_type": "code",
   "execution_count": null,
   "metadata": {},
   "outputs": [],
   "source": [
    "# Percentage of variance explained for each components\n",
    "print('explained variance ratio (first three components): %s'\n",
    "      % str(pca.explained_variance_ratio_))"
   ]
  },
  {
   "cell_type": "code",
   "execution_count": null,
   "metadata": {},
   "outputs": [],
   "source": [
    "fig = plt.figure(1, figsize = (4,3))\n",
    "plt.clf()\n",
    "ax = Axes3D(fig, rect = [0, 0, .95, 1], elev = 48, azim = 134)\n",
    "\n",
    "plt.cla()"
   ]
  },
  {
   "cell_type": "code",
   "execution_count": null,
   "metadata": {},
   "outputs": [],
   "source": [
    "ax.scatter(X[:, 0], X[:, 1], X[:, 2], c=y,\n",
    "           cmap=plt.cm.Set1, edgecolor='k', s=40)"
   ]
  },
  {
   "cell_type": "code",
   "execution_count": null,
   "metadata": {},
   "outputs": [],
   "source": [
    "plt.show()"
   ]
  },
  {
   "cell_type": "markdown",
   "metadata": {},
   "source": [
    "### 트리 - three를 y로"
   ]
  },
  {
   "cell_type": "code",
   "execution_count": null,
   "metadata": {},
   "outputs": [],
   "source": [
    "df_Tree.drop(['total','avg','med','purchase_log'], axis = 1,inplace = True)\n",
    "df_Tree = df_Tree.join(pd.get_dummies(df_Tree[['major_platform']]), how = 'inner')\n",
    "df_Tree.drop('major_platform', axis = 1, inplace = True)\n",
    "df_Tree.head()"
   ]
  },
  {
   "cell_type": "code",
   "execution_count": null,
   "metadata": {},
   "outputs": [],
   "source": [
    "X = np.array(df_Tree.drop(\"three\", axis = 1))\n",
    "y = np.array(df_Tree.three)\n",
    "#y = np.array(df_Tree.major_platform.apply(lambda x: 0 if x==\"Android\" else (1 if x=='iOS' else 2)))\n",
    "#y = np.array(df_Tree.major_platform.apply(lambda x: 0 if (x==\"Android\" or x=='iOS') else 1))"
   ]
  },
  {
   "cell_type": "code",
   "execution_count": null,
   "metadata": {},
   "outputs": [],
   "source": [
    "set(y)"
   ]
  },
  {
   "cell_type": "code",
   "execution_count": null,
   "metadata": {},
   "outputs": [],
   "source": [
    "X_train, X_test, y_train, y_test = train_test_split(X, y, test_size=0.2, random_state=42)"
   ]
  },
  {
   "cell_type": "code",
   "execution_count": null,
   "metadata": {},
   "outputs": [],
   "source": [
    "Dtree = DecisionTreeClassifier(max_depth = 8)\n",
    "Rtree = RandomForestClassifier(n_estimators=100, random_state=42)"
   ]
  },
  {
   "cell_type": "code",
   "execution_count": null,
   "metadata": {},
   "outputs": [],
   "source": [
    "Dtree = Dtree.fit(X_train, y_train)\n",
    "Rtree = Rtree.fit(X_train, y_train)"
   ]
  },
  {
   "cell_type": "code",
   "execution_count": null,
   "metadata": {},
   "outputs": [],
   "source": [
    "print(\"D훈련 세트 정확도: {:.3f}\".format(Dtree.score(X_train, y_train)))\n",
    "print(\"D훈련 세트 정확도: {:.3f}\".format(Rtree.score(X_train, y_train)))"
   ]
  },
  {
   "cell_type": "code",
   "execution_count": null,
   "metadata": {},
   "outputs": [],
   "source": [
    "print(\"D시험 세트 정확도: {:.3f}\".format(Dtree.score(X_test, y_test)))\n",
    "print(\"R시험 세트 정확도: {:.3f}\".format(Rtree.score(X_test, y_test)))"
   ]
  },
  {
   "cell_type": "markdown",
   "metadata": {},
   "source": [
    "## RandomForest 변수 별 중요도"
   ]
  },
  {
   "cell_type": "code",
   "execution_count": null,
   "metadata": {},
   "outputs": [],
   "source": [
    "importances = Rtree.feature_importances_\n",
    "std = np.std([tree.feature_importances_ for tree in Rtree.estimators_],\n",
    "             axis=0)\n",
    "indices = np.argsort(importances)[::-1]"
   ]
  },
  {
   "cell_type": "code",
   "execution_count": null,
   "metadata": {},
   "outputs": [],
   "source": [
    "print(\"Feature ranking:\")\n",
    "\n",
    "for f in range(X.shape[1]):\n",
    "    print(\"%d. feature %d (%f)\" % (f + 1, indices[f], importances[indices[f]]))\n",
    "\n",
    "# Plot the feature importances of the forest\n",
    "plt.figure()\n",
    "plt.title(\"Feature importances\")\n",
    "plt.bar(range(X.shape[1]), importances[indices],\n",
    "       color=\"r\", yerr=std[indices], align=\"center\")\n",
    "plt.xticks(range(X.shape[1]), indices)\n",
    "plt.xlim([-1, X.shape[1]])\n",
    "plt.show()"
   ]
  },
  {
   "cell_type": "markdown",
   "metadata": {},
   "source": [
    "## 의사결정나무 변수 별 중요도"
   ]
  },
  {
   "cell_type": "code",
   "execution_count": null,
   "metadata": {},
   "outputs": [],
   "source": [
    "importances = Dtree.feature_importances_\n",
    "std = np.std([Dtree.feature_importances_],axis=0)\n",
    "indices = np.argsort(importances)[::-1]"
   ]
  },
  {
   "cell_type": "code",
   "execution_count": null,
   "metadata": {},
   "outputs": [],
   "source": [
    "print(\"Feature ranking:\")\n",
    "\n",
    "for f in range(X.shape[1]):\n",
    "    print(\"%d. feature %d (%f)\" % (f + 1, indices[f], importances[indices[f]]))\n",
    "\n",
    "# Plot the feature importances of the forest\n",
    "plt.figure()\n",
    "plt.title(\"Feature importances\")\n",
    "plt.bar(range(X.shape[1]), importances[indices],\n",
    "       color=\"r\", yerr=std[indices], align=\"center\")\n",
    "plt.xticks(range(X.shape[1]), indices)\n",
    "plt.xlim([-1, X.shape[1]])\n",
    "plt.show()"
   ]
  },
  {
   "cell_type": "code",
   "execution_count": null,
   "metadata": {},
   "outputs": [],
   "source": [
    "flag = 0\n",
    "for _ in df_Tree.drop(\"three\", axis = 1).columns:\n",
    "    print(str(flag)+\" : \"+_)\n",
    "    flag += 1"
   ]
  },
  {
   "cell_type": "code",
   "execution_count": null,
   "metadata": {},
   "outputs": [],
   "source": [
    "print(df_Tree.purchase_count.value_counts().mean())"
   ]
  },
  {
   "cell_type": "code",
   "execution_count": null,
   "metadata": {},
   "outputs": [],
   "source": [
    "pd.DataFrame(df_Tree.purchase_count.value_counts()).iloc[40]"
   ]
  },
  {
   "cell_type": "markdown",
   "metadata": {},
   "source": [
    "## 트리 - 많이 산 사람~"
   ]
  },
  {
   "cell_type": "code",
   "execution_count": null,
   "metadata": {},
   "outputs": [],
   "source": [
    "df_Tree = final_stat.copy()\n",
    "#df_Tree.drop(['total','avg','med','purchase_log'], axis = 1,inplace = True) # 점수는 test/train 모두 0.96정도로 나온다.\n",
    "df_Tree.drop(['total','avg','med','purchase_log','view_count'], axis = 1,inplace = True) #view_count를 제외해보자\n",
    "df_Tree = df_Tree.join(pd.get_dummies(df_Tree[['major_platform']]), how = 'inner')\n",
    "df_Tree.drop('major_platform', axis = 1, inplace = True)\n",
    "df_Tree.head()"
   ]
  },
  {
   "cell_type": "code",
   "execution_count": null,
   "metadata": {},
   "outputs": [],
   "source": [
    "X = np.array(df_Tree.drop(\"purchase_count\", axis = 1))\n",
    "y = np.array(df_Tree.purchase_count.apply(lambda x: \"HEAVY\" if x >= 18 else \"LIGHT\"))"
   ]
  },
  {
   "cell_type": "code",
   "execution_count": null,
   "metadata": {},
   "outputs": [],
   "source": [
    "set(y)"
   ]
  },
  {
   "cell_type": "code",
   "execution_count": null,
   "metadata": {},
   "outputs": [],
   "source": [
    "X_train, X_test, y_train, y_test = train_test_split(X, y, test_size=0.2, random_state=42)"
   ]
  },
  {
   "cell_type": "code",
   "execution_count": null,
   "metadata": {},
   "outputs": [],
   "source": [
    "Dtree = DecisionTreeClassifier(max_depth = 8)\n",
    "Rtree = RandomForestClassifier(n_estimators=100, random_state=42)"
   ]
  },
  {
   "cell_type": "code",
   "execution_count": null,
   "metadata": {},
   "outputs": [],
   "source": [
    "Dtree = Dtree.fit(X_train, y_train)\n",
    "Rtree = Rtree.fit(X_train, y_train)"
   ]
  },
  {
   "cell_type": "code",
   "execution_count": null,
   "metadata": {},
   "outputs": [],
   "source": [
    "print(\"D훈련 세트 정확도: {:.3f}\".format(Dtree.score(X_train, y_train)))\n",
    "print(\"R훈련 세트 정확도: {:.3f}\".format(Rtree.score(X_train, y_train)))"
   ]
  },
  {
   "cell_type": "code",
   "execution_count": null,
   "metadata": {},
   "outputs": [],
   "source": [
    "print(\"D시험 세트 정확도: {:.3f}\".format(Dtree.score(X_test, y_test)))\n",
    "print(\"R시험 세트 정확도: {:.3f}\".format(Rtree.score(X_test, y_test)))"
   ]
  },
  {
   "cell_type": "markdown",
   "metadata": {},
   "source": [
    "## 트리 중요도"
   ]
  },
  {
   "cell_type": "code",
   "execution_count": null,
   "metadata": {},
   "outputs": [],
   "source": [
    "importances = Dtree.feature_importances_\n",
    "std = np.std([Dtree.feature_importances_],axis=0)\n",
    "indices = np.argsort(importances)[::-1]\n",
    "\n",
    "print(\"Feature ranking:\")\n",
    "\n",
    "for f in range(X.shape[1]):\n",
    "    print(\"%d. feature %d (%f)\" % (f + 1, indices[f], importances[indices[f]]))\n",
    "\n",
    "# Plot the feature importances of the forest\n",
    "plt.figure()\n",
    "plt.title(\"Feature importances\")\n",
    "plt.bar(range(X.shape[1]), importances[indices],\n",
    "       color=\"r\", yerr=std[indices], align=\"center\")\n",
    "plt.xticks(range(X.shape[1]), indices)\n",
    "plt.xlim([-1, X.shape[1]])\n",
    "plt.show()"
   ]
  },
  {
   "cell_type": "markdown",
   "metadata": {},
   "source": [
    "## 랜덤포레스트 중요도"
   ]
  },
  {
   "cell_type": "code",
   "execution_count": null,
   "metadata": {},
   "outputs": [],
   "source": [
    "importances = Rtree.feature_importances_\n",
    "std = np.std([tree.feature_importances_ for tree in Rtree.estimators_],\n",
    "             axis=0)\n",
    "indices = np.argsort(importances)[::-1]\n",
    "\n",
    "print(\"Feature ranking:\")\n",
    "\n",
    "for f in range(X.shape[1]):\n",
    "    print(\"%d. feature %d (%f)\" % (f + 1, indices[f], importances[indices[f]]))\n",
    "\n",
    "# Plot the feature importances of the forest\n",
    "plt.figure()\n",
    "plt.title(\"Feature importances\")\n",
    "plt.bar(range(X.shape[1]), importances[indices],\n",
    "       color=\"r\", yerr=std[indices], align=\"center\")\n",
    "plt.xticks(range(X.shape[1]), indices)\n",
    "plt.xlim([-1, X.shape[1]])\n",
    "plt.show()"
   ]
  },
  {
   "cell_type": "code",
   "execution_count": null,
   "metadata": {},
   "outputs": [],
   "source": [
    "flag = 0\n",
    "for _ in df_Tree.drop(\"purchase_count\", axis = 1).columns:\n",
    "    print(str(flag)+\" : \"+_)\n",
    "    flag += 1"
   ]
  },
  {
   "cell_type": "code",
   "execution_count": null,
   "metadata": {},
   "outputs": [],
   "source": [
    "df_Pcount = pd.DataFrame(df_Tree.purchase_count.value_counts()).sort_index()"
   ]
  },
  {
   "cell_type": "code",
   "execution_count": null,
   "metadata": {},
   "outputs": [],
   "source": [
    "df_Pcount.reset_index(inplace=True)"
   ]
  },
  {
   "cell_type": "code",
   "execution_count": null,
   "metadata": {},
   "outputs": [],
   "source": [
    "x_ax = df_Pcount.index\n",
    "y_ax = df_Pcount.purchase_count.values"
   ]
  },
  {
   "cell_type": "code",
   "execution_count": null,
   "metadata": {},
   "outputs": [],
   "source": [
    "y_ax"
   ]
  },
  {
   "cell_type": "code",
   "execution_count": null,
   "metadata": {},
   "outputs": [],
   "source": [
    "for _ in range(df_Pcount.count()[1]):\n",
    "    t1 = int(df_Pcount.loc[_][0])\n",
    "    t2 = int(df_Pcount.loc[_][1])\n",
    "    print(str(t1)+\"개 구입한 사람 : \"+str(t2)+\"명\")"
   ]
  },
  {
   "cell_type": "code",
   "execution_count": null,
   "metadata": {},
   "outputs": [],
   "source": [
    "# 6개 구입한 사람들의 user_id\n",
    "six_buyer = df_Tree[df_Tree.purchase_count == 6].index"
   ]
  },
  {
   "cell_type": "code",
   "execution_count": null,
   "metadata": {},
   "outputs": [],
   "source": [
    "data_purc_original = pd.read_csv(\"../assets/purchases_20180117.csv\")\n",
    "data_production_original = pd.read_csv(\"../assets/productions_20180117.csv\")"
   ]
  },
  {
   "cell_type": "code",
   "execution_count": null,
   "metadata": {},
   "outputs": [],
   "source": [
    "data_purc_original.head(2)"
   ]
  },
  {
   "cell_type": "code",
   "execution_count": null,
   "metadata": {},
   "outputs": [],
   "source": [
    "data_production_original.head(2)"
   ]
  },
  {
   "cell_type": "code",
   "execution_count": null,
   "metadata": {},
   "outputs": [],
   "source": [
    "data_merge_original = pd.merge(data_purc_original, data_production_original)"
   ]
  },
  {
   "cell_type": "code",
   "execution_count": null,
   "metadata": {},
   "outputs": [],
   "source": [
    "data_merge_original.head()"
   ]
  },
  {
   "cell_type": "code",
   "execution_count": null,
   "metadata": {},
   "outputs": [],
   "source": [
    "x = 651444\n",
    "tempdf_ = data_merge_original[data_merge_original.user_id == x]\n",
    "tempdf_.sort_values('cost')"
   ]
  },
  {
   "cell_type": "code",
   "execution_count": null,
   "metadata": {},
   "outputs": [],
   "source": [
    "six_df = pd.DataFrame()\n",
    "for _ in six_buyer:\n",
    "    df = data_merge_original[data_merge_original.user_id == _]\n",
    "\n",
    "# 아래의 예시는 할인율이 큰 경우도 있다.\n",
    "# 만약에 몇개 샀는지 기준으로 분석을 하려면 이러한 데이터가 더 필요할지도 모르겠다.\n",
    "    "
   ]
  },
  {
   "cell_type": "code",
   "execution_count": null,
   "metadata": {},
   "outputs": [],
   "source": [
    "c1= np.array(df_Tree.put_cart_count)\n",
    "c2 = np.array(df_Tree.scrap_count)\n",
    "c3 = np.array(df_Tree.category_view_Production)\n",
    "c4 = np.array(df_Tree.category_view_Card)\n",
    "c5 = np.array(df_Tree.category_view_Advice)\n",
    "c6 = np.array(df_Tree.category_view_Project)\n",
    "c7 = np.array(df_Tree.category_view_Exhibition)\n",
    "c8 = np.array(df_Tree.purchase_count)\n",
    "print(\"c2\",np.corrcoef(c1, c2)[0][1])\n",
    "print(\"c3\",np.corrcoef(c1, c3)[0][1])\n",
    "print(\"c4\",np.corrcoef(c1, c4)[0][1])\n",
    "print(\"c5\",np.corrcoef(c1, c5)[0][1])\n",
    "print(\"c6\",np.corrcoef(c1, c6)[0][1])\n",
    "print(\"c7\",np.corrcoef(c1, c7)[0][1])\n",
    "print(\"c8\",np.corrcoef(c1, c8)[0][1])"
   ]
  },
  {
   "cell_type": "code",
   "execution_count": null,
   "metadata": {},
   "outputs": [],
   "source": [
    "# 인당 플랫폼 개수 세어보고 각 플랫폼에서 몇 시에 들어왔었는지까지 알아보기"
   ]
  },
  {
   "cell_type": "markdown",
   "metadata": {},
   "source": [
    "## HEAVY&LIGHT  - 카트 빼고"
   ]
  },
  {
   "cell_type": "code",
   "execution_count": null,
   "metadata": {},
   "outputs": [],
   "source": [
    "df_Tree = final_stat.copy()\n",
    "#df_Tree.drop(['total','avg','med','purchase_log'], axis = 1,inplace = True) # 점수는 test/train 모두 0.96정도로 나온다.\n",
    "#df_Tree.drop(['total','avg','med','purchase_log','view_count', 'put_cart_count'], axis = 1,inplace = True) #view_count를 제외해보자\n",
    "df_Tree.drop(['total','avg','med','purchase_log','view_count', 'put_cart_count'], axis = 1,inplace = True) #view_count를 제외해보자\n",
    "df_Tree = df_Tree.join(pd.get_dummies(df_Tree[['major_platform']]), how = 'inner')\n",
    "df_Tree.drop('major_platform', axis = 1, inplace = True)\n",
    "\n",
    "X = np.array(df_Tree.drop(\"purchase_count\", axis = 1))\n",
    "y = np.array(df_Tree.purchase_count.apply(lambda x: \"HEAVY\" if x >= 18 else \"LIGHT\"))\n",
    "\n",
    "X_train, X_test, y_train, y_test = train_test_split(X, y, test_size=0.2, random_state=42)\n",
    "\n",
    "Dtree = DecisionTreeClassifier(max_depth = 8)\n",
    "Rtree = RandomForestClassifier(n_estimators=100, random_state=42)"
   ]
  },
  {
   "cell_type": "code",
   "execution_count": null,
   "metadata": {},
   "outputs": [],
   "source": [
    "Dtree = Dtree.fit(X_train, y_train)\n",
    "Rtree = Rtree.fit(X_train, y_train)"
   ]
  },
  {
   "cell_type": "code",
   "execution_count": null,
   "metadata": {},
   "outputs": [],
   "source": [
    "print(\"D훈련 세트 정확도: {:.3f}\".format(Dtree.score(X_train, y_train)))\n",
    "print(\"R훈련 세트 정확도: {:.3f}\".format(Rtree.score(X_train, y_train)))\n",
    "\n",
    "print(\"D시험 세트 정확도: {:.3f}\".format(Dtree.score(X_test, y_test)))\n",
    "print(\"R시험 세트 정확도: {:.3f}\".format(Rtree.score(X_test, y_test)))"
   ]
  },
  {
   "cell_type": "code",
   "execution_count": null,
   "metadata": {},
   "outputs": [],
   "source": [
    "# 트리 중요도 \n",
    "importances = Dtree.feature_importances_\n",
    "std = np.std([Dtree.feature_importances_],axis=0)\n",
    "indices = np.argsort(importances)[::-1]\n",
    "\n",
    "print(\"Feature ranking:\")\n",
    "\n",
    "for f in range(X.shape[1]):\n",
    "    print(\"%d. feature %d (%f)\" % (f + 1, indices[f], importances[indices[f]]))\n",
    "\n",
    "# Plot the feature importances of the forest\n",
    "plt.figure()\n",
    "plt.title(\"Feature importances\")\n",
    "plt.bar(range(X.shape[1]), importances[indices],\n",
    "       color=\"r\", yerr=std[indices], align=\"center\")\n",
    "plt.xticks(range(X.shape[1]), indices)\n",
    "plt.xlim([-1, X.shape[1]])\n",
    "plt.show()"
   ]
  },
  {
   "cell_type": "code",
   "execution_count": null,
   "metadata": {},
   "outputs": [],
   "source": [
    "# 랜덤포레스트 중요도\n",
    "importances = Rtree.feature_importances_\n",
    "std = np.std([tree.feature_importances_ for tree in Rtree.estimators_],\n",
    "             axis=0)\n",
    "indices = np.argsort(importances)[::-1]\n",
    "\n",
    "print(\"Feature ranking:\")\n",
    "\n",
    "for f in range(X.shape[1]):\n",
    "    print(\"%d. feature %d (%f)\" % (f + 1, indices[f], importances[indices[f]]))\n",
    "\n",
    "# Plot the feature importances of the forest\n",
    "plt.figure()\n",
    "plt.title(\"Feature importances\")\n",
    "plt.bar(range(X.shape[1]), importances[indices],\n",
    "       color=\"r\", yerr=std[indices], align=\"center\")\n",
    "plt.xticks(range(X.shape[1]), indices)\n",
    "plt.xlim([-1, X.shape[1]])\n",
    "plt.show()"
   ]
  },
  {
   "cell_type": "code",
   "execution_count": null,
   "metadata": {},
   "outputs": [],
   "source": [
    "flag = 0\n",
    "for _ in df_Tree.drop(\"purchase_count\", axis = 1).columns:\n",
    "    print(str(flag)+\" : \"+_)\n",
    "    flag += 1"
   ]
  },
  {
   "cell_type": "markdown",
   "metadata": {},
   "source": [
    "## SMOTE 사용해보기"
   ]
  },
  {
   "cell_type": "code",
   "execution_count": null,
   "metadata": {},
   "outputs": [],
   "source": [
    "df_Tree = final_stat.copy()\n",
    "#df_Tree.drop(['total','avg','med','purchase_log'], axis = 1,inplace = True) # 점수는 test/train 모두 0.96정도로 나온다.\n",
    "#df_Tree.drop(['total','avg','med','purchase_log','view_count', 'put_cart_count'], axis = 1,inplace = True) #view_count를 제외해보자\n",
    "df_Tree.drop(['total','avg','med','purchase_log','view_count', 'put_cart_count', 'category_view_Production'], axis = 1,inplace = True)\n",
    "df_Tree = df_Tree.join(pd.get_dummies(df_Tree[['major_platform']]), how = 'inner')\n",
    "df_Tree.drop('major_platform', axis = 1, inplace = True)\n",
    "\n",
    "X = np.array(df_Tree.drop(\"purchase_count\", axis = 1))\n",
    "y = np.array(df_Tree.purchase_count.apply(lambda x: \"HEAVY\" if x >= 18 else \"LIGHT\"))\n",
    "\n",
    "X_train, X_test, y_train, y_test = train_test_split(X, y, test_size=0.2, random_state=42)\n",
    "\n",
    "oversampler = SMOTE(random_state = 42)\n",
    "smote_train, smote_target = oversampler.fit_sample(X_train, y_train)\n",
    "\n",
    "Rtree.fit(smote_train, smote_target)\n",
    "print(\"Fitting of Random Forest as finished\")\n",
    "print(\"R훈련 세트 정확도: {:.3f}\".format(Rtree.score(smote_train, smote_target)))"
   ]
  },
  {
   "cell_type": "code",
   "execution_count": null,
   "metadata": {},
   "outputs": [],
   "source": [
    "rf_predictions = Rtree.predict(X_test)\n",
    "print(\"Predictions finished\")"
   ]
  },
  {
   "cell_type": "code",
   "execution_count": null,
   "metadata": {},
   "outputs": [],
   "source": [
    "print(\"R훈련 세트 정확도: {:.3f}\".format(accuracy_score(y_test, rf_predictions)))"
   ]
  },
  {
   "cell_type": "code",
   "execution_count": null,
   "metadata": {
    "scrolled": false
   },
   "outputs": [],
   "source": [
    "# 랜덤포레스트 중요도\n",
    "importances = Rtree.feature_importances_\n",
    "std = np.std([tree.feature_importances_ for tree in Rtree.estimators_],\n",
    "             axis=0)\n",
    "indices = np.argsort(importances)[::-1]\n",
    "\n",
    "print(\"Feature ranking:\")\n",
    "\n",
    "for f in range(X.shape[1]):\n",
    "    print(\"%d. feature %d (%f)\" % (f + 1, indices[f], importances[indices[f]]))\n",
    "\n",
    "# Plot the feature importances of the forest\n",
    "plt.figure()\n",
    "plt.title(\"Feature importances\")\n",
    "plt.bar(range(X.shape[1]), importances[indices],\n",
    "       color=\"r\", yerr=std[indices], align=\"center\")\n",
    "plt.xticks(range(X.shape[1]), indices)\n",
    "plt.xlim([-1, X.shape[1]])\n",
    "plt.show()"
   ]
  },
  {
   "cell_type": "code",
   "execution_count": null,
   "metadata": {},
   "outputs": [],
   "source": [
    "flag = 0\n",
    "for _ in df_Tree.drop(\"purchase_count\", axis = 1).columns:\n",
    "    print(str(flag)+\" : \"+_)\n",
    "    flag += 1"
   ]
  },
  {
   "cell_type": "code",
   "execution_count": null,
   "metadata": {},
   "outputs": [],
   "source": [
    "df_three = df_Tree[df_Tree.three == True]"
   ]
  },
  {
   "cell_type": "code",
   "execution_count": null,
   "metadata": {},
   "outputs": [],
   "source": [
    "df_three_purcx = df_three[df_three.purchase_count==0]\n",
    "df_three_purco = df_three[df_three.purchase_count >0]"
   ]
  },
  {
   "cell_type": "code",
   "execution_count": null,
   "metadata": {
    "scrolled": true
   },
   "outputs": [],
   "source": [
    "df_three_purco.drop([\"like_count\",\"user_info\",\"category_view_Production\"],axis = 1).describe()"
   ]
  },
  {
   "cell_type": "code",
   "execution_count": null,
   "metadata": {},
   "outputs": [],
   "source": [
    "df_purc2_5 = df_Tree[(df_Tree.purchase_count >= 2) &  (df_Tree.purchase_count <= 5)]\n",
    "df_purc2_5.drop([\"like_count\",\"user_info\",\"category_view_Production\"],axis = 1).describe()"
   ]
  },
  {
   "cell_type": "code",
   "execution_count": null,
   "metadata": {},
   "outputs": [],
   "source": [
    "df_purc6_10 = df_Tree[(df_Tree.purchase_count >= 6) &  (df_Tree.purchase_count <= 10)]\n",
    "df_purc6_10.drop([\"like_count\",\"user_info\",\"category_view_Production\"],axis = 1).describe()"
   ]
  },
  {
   "cell_type": "code",
   "execution_count": null,
   "metadata": {},
   "outputs": [],
   "source": [
    "df_purc6_10 = df_Tree[(df_Tree.purchase_count >= 11) &  (df_Tree.purchase_count <= 20)]\n",
    "df_purc6_10.drop([\"like_count\",\"user_info\",\"category_view_Production\"],axis = 1).describe()"
   ]
  },
  {
   "cell_type": "code",
   "execution_count": null,
   "metadata": {},
   "outputs": [],
   "source": [
    "df_purc6_10 = df_Tree[(df_Tree.purchase_count >= 21) &  (df_Tree.purchase_count <= 30)]\n",
    "df_purc6_10.drop([\"like_count\",\"user_info\",\"category_view_Production\"],axis = 1).describe()"
   ]
  },
  {
   "cell_type": "code",
   "execution_count": null,
   "metadata": {},
   "outputs": [],
   "source": [
    "df_purc6_10 = df_Tree[(df_Tree.purchase_count >= 31) &  (df_Tree.purchase_count <= 45)]\n",
    "df_purc6_10.drop([\"like_count\",\"user_info\",\"category_view_Production\"],axis = 1).describe()"
   ]
  },
  {
   "cell_type": "code",
   "execution_count": null,
   "metadata": {
    "scrolled": true
   },
   "outputs": [],
   "source": [
    "df_purc6_10 = df_Tree[(df_Tree.purchase_count >= 46)]\n",
    "df_purc6_10.drop([\"like_count\",\"user_info\",\"category_view_Production\"],axis = 1).describe()"
   ]
  },
  {
   "cell_type": "markdown",
   "metadata": {},
   "source": [
    "## XGBoost"
   ]
  },
  {
   "cell_type": "code",
   "execution_count": null,
   "metadata": {},
   "outputs": [],
   "source": [
    "print(type(smote_train))\n",
    "churn_dmatrix = xgb.DMatrix(data = smote_train,\n",
    "                            label = np.array(pd.Series(smote_target).apply(lambda x: 0 if x == 'LIGHT' else 1)))"
   ]
  },
  {
   "cell_type": "code",
   "execution_count": null,
   "metadata": {},
   "outputs": [],
   "source": [
    "params = {'objective':'binary:logistic', \"max_depth\":4}"
   ]
  },
  {
   "cell_type": "code",
   "execution_count": null,
   "metadata": {},
   "outputs": [],
   "source": [
    "cv_results = xgb.cv(dtrain = churn_dmatrix, params = params, nfold=4, num_boost_round = 10, metrics = \"error\", as_pandas=True)"
   ]
  },
  {
   "cell_type": "code",
   "execution_count": null,
   "metadata": {},
   "outputs": [],
   "source": [
    "print(\"Accuracy: %f\" %((1-cv_results[\"test-error-mean\"].iloc[-1])))"
   ]
  },
  {
   "cell_type": "code",
   "execution_count": null,
   "metadata": {},
   "outputs": [],
   "source": [
    "model = xgb.XGBClassifier(params = params)\n",
    "model.fit(smote_train,smote_target)"
   ]
  },
  {
   "cell_type": "code",
   "execution_count": null,
   "metadata": {},
   "outputs": [],
   "source": [
    "plot_importance(model)\n",
    "plt.show()"
   ]
  },
  {
   "cell_type": "code",
   "execution_count": null,
   "metadata": {},
   "outputs": [],
   "source": [
    "flag = 0\n",
    "for _ in df_Tree.drop(\"purchase_count\", axis = 1).columns:\n",
    "    print(str(flag)+\" : \"+_)\n",
    "    flag += 1"
   ]
  },
  {
   "cell_type": "code",
   "execution_count": null,
   "metadata": {},
   "outputs": [],
   "source": [
    "y_pred = model.predict(X_test)"
   ]
  },
  {
   "cell_type": "code",
   "execution_count": null,
   "metadata": {},
   "outputs": [],
   "source": [
    "accuracy_score(y_test, y_pred)"
   ]
  },
  {
   "cell_type": "code",
   "execution_count": null,
   "metadata": {},
   "outputs": [],
   "source": []
  }
 ],
 "metadata": {
  "kernelspec": {
   "display_name": "Python 3",
   "language": "python",
   "name": "python3"
  },
  "language_info": {
   "codemirror_mode": {
    "name": "ipython",
    "version": 3
   },
   "file_extension": ".py",
   "mimetype": "text/x-python",
   "name": "python",
   "nbconvert_exporter": "python",
   "pygments_lexer": "ipython3",
   "version": "3.6.4"
  }
 },
 "nbformat": 4,
 "nbformat_minor": 2
}
