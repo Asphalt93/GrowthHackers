{
 "cells": [
  {
   "cell_type": "markdown",
   "metadata": {},
   "source": [
    "# INSTACART MARKET  BASKET ANALYSIS"
   ]
  },
  {
   "cell_type": "markdown",
   "metadata": {},
   "source": [
    "Kaggle 커널에 올라온 자료로 공부한 내용을 정리한 자료이다.<br>\n",
    "해당 자료에서는 Light GBM을 적용하는 과정에 집중을 하도록하고, 각 데이터에 대한 탐색은 EDA자료를 참고하도록 한다."
   ]
  },
  {
   "cell_type": "markdown",
   "metadata": {},
   "source": [
    "<b> 스크립트 작성자 : Paul-Antoine Nguyen  </b>  <br>\n",
    "<b> 해설 및 추가 설명 : Jaehoon Kim </b> <br><br>\n",
    "이 스크립트는 고객이 주문한 모든 물품들을 고려한다고 한다.<br>\n",
    "모델의 학습은 \"train\" 데이터의 재주문 확률을 계산하여 진행하였다. <br>\n",
    "<br>\n",
    "결과 제출에 대하여는 일정 확률 수치를 넘긴 건에 대하여만 재주문한다고 보았다.\n",
    "\n",
    "#### 출처 : https://www.kaggle.com/paulantoine/light-gbm-benchmark-0-3692/code
   ]
  },
  {
   "cell_type": "markdown",
   "metadata": {},
   "source": [
    " "
   ]
  },
  {
   "cell_type": "markdown",
   "metadata": {},
   "source": [
    "## 사용한 라이브러리\n",
    "\n",
    "<b>1. numpy</b><br>\n",
    "<b>2. pandas</b><br>\n",
    "<b>3. lightgbm</b> : LGBM은 트리 기반의 알고리즘을 사용하는 gradient boosting 프레임워크이다.<br>\n",
    "<p>\n",
    "### LGBM이 다른 트리 기반의 알고리즘과 어떻게 다를까?\n",
    "LGBM은 트리를 수직적(Leaf-wise)으로 성장시킨다. 보통 알고리즘들은 수평적(Level-wise)로 성장시킨다. LGBM은 성장할 때 델타 손실이 최대가 되는 잎을 고른다. 이 Leaf-wise 알고리즘은 Level-wise 알고리즘보다 손실(loss)를 더 줄일 수 있다. 아래는 Leaf-wise와 Level-wise를 비교한 그림이다.<br>\n",
    "<img src=\"img_set/leaf_wise.png\" width=\"500\" height=\"500\">\n",
    "<img src=\"img_set/level_wise.png\" width=\"500\" height=\"500\">\n",
    "<p>\n",
    "### LGBM이 이토록 인기를 끄는 이유는 무엇일까?\n",
    "데이터의 크기가 날이 갈수록 커짐에 따라 데이터 과학에 쓰이는 전통적인 알고리즘으로는 빠른 결과를 가지기가 힘들어졌다. LGBM은 앞에 \"Light\"라고 어두에서 언급되고 있다. 왜냐하면 <b>빠른 속도</b>를 가지고 있기 때문이다. LGBM은 또한 <b>대용량의 데이터를 핸들링</b>할 수 있으며 코드를 실행하는데에 <b>비교적 적은 메모리를 차지</b>한다.<br>LGBM이 인기있는 또 다른 이유는 이 알고리즘이 <b>결과의 정확도(accuracy)</b>에 집중하기 때문이다. LGBM은 <b>그래픽 카드를 이용한 학습(GPU Learning)</b>을 지원하며 위와 같은 이유들로 인하여 데이터 과학자들로부터 많이 사용되고 있다.<br>\n",
    "\n",
    "<p>\n",
    "### LGBM은 모든 곳에 쓰일 수 있나요?\n",
    "<b>아닙니다.</b> LGBM이 작은 데이터셋에 이용되는 것은 권장되지 않습니다. 왜냐하면 LGBM은 오버피팅에 민감하기 때문에 작은 데이터에서는 오버핏이 쉽게 일어나기 때문입니다. 일단 LGBM을 어느 정도의 크기의 데이터에서 사용해야한다는 공식적인 룰은 없지만 내 경험에 의하면 <b>적어도 10,000 행 이상의 데이터</b>에서만 사용하는 것을 권장한다.<br>\n",
    "\n",
    "<br>\n",
    "\\*\\* LGBM에 대한 전반적인 설명은 https://medium.com/@pushkarmandot/https-medium-com-pushkarmandot-what-is-lightgbm-how-to-implement-it-how-to-fine-tune-the-parameters-60347819b7fc\ 를 참고하였음.\n",
    "<br>\n",
    "\\*\\* Leaf-wise와 Level-wise에 대한 설명은 https://datascience.stackexchange.com/questions/26699/decision-trees-leaf-wise-best-first-and-level-wise-tree-traverse\ 를 참고할 것."
   ]
  },
  {
   "cell_type": "code",
   "execution_count": 1,
   "metadata": {},
   "outputs": [],
   "source": [
    "import numpy as np\n",
    "import pandas as pd\n",
    "import lightgbm as lgb\n",
    "IDIR = 'data/' # 경로 설정"
   ]
  },
  {
   "cell_type": "markdown",
   "metadata": {},
   "source": [
    " "
   ]
  },
  {
   "cell_type": "markdown",
   "metadata": {},
   "source": [
    "## 인스타카트 데이터 불러오기\n",
    "### 왜 dtype로 피처마다의 데이터 타입을 지정하였을까?\n",
    "파이썬에 입력되는 데이터는 기본적으로 int64, float64 ... 등 64비트 입니다.<br>\n",
    "따라서 실제로 쓰는 자리 수는 두 자리라 하더라도 64비트가 허용하는 자리수 만큼 메모리를 차지하고 있게 됩니다. 즉, 메모리 낭비가 일어나며 데이터셋이 큰 경우에는 이 낭비되는 양이 더욱 커지게 됩니다. 따라서 적절한 데이터 타입으로 변환시켜주는 것이 필요하게 됩니다.<br>\n",
    "<img src=\"img_set/01_dtype.png\" width=\"500\" height=\"500\"><br><br>\n",
    "\n",
    "\n",
    "### read_csv\\(\\)내에 있는 usecols 인자는 무엇에 쓰이는가요?\n",
    "pandas.read_csv\\(\\) 내에 인자로 쓰이는 usecols는 필요한 칼럼만 가져오고 나머지는 버리도록하는 기능을 합니다. \n"
   ]
  },
  {
   "cell_type": "code",
   "execution_count": 2,
   "metadata": {},
   "outputs": [
    {
     "name": "stdout",
     "output_type": "stream",
     "text": [
      "loading prior\n",
      "loading train\n",
      "loading orders\n",
      "loading products\n",
      "priors (32434489, 4): order_id, product_id, add_to_cart_order, reordered\n",
      "orders (3421083, 7): order_id, user_id, eval_set, order_number, order_dow, order_hour_of_day, days_since_prior_order\n",
      "train (1384617, 4): order_id, product_id, add_to_cart_order, reordered\n"
     ]
    }
   ],
   "source": [
    "print('loading prior')\n",
    "priors = pd.read_csv(IDIR + 'order_products__prior.csv', dtype={\n",
    "            'order_id': np.int32,\n",
    "            'product_id': np.uint16,\n",
    "            'add_to_cart_order': np.int16,\n",
    "            'reordered': np.int8})\n",
    "\n",
    "print('loading train')\n",
    "train = pd.read_csv(IDIR + 'order_products__train.csv', dtype={\n",
    "            'order_id': np.int32,\n",
    "            'product_id': np.uint16,\n",
    "            'add_to_cart_order': np.int16,\n",
    "            'reordered': np.int8})\n",
    "\n",
    "print('loading orders')\n",
    "orders = pd.read_csv(IDIR + 'orders.csv', dtype={\n",
    "        'order_id': np.int32,\n",
    "        'user_id': np.int32,\n",
    "        'eval_set': 'category',\n",
    "        'order_number': np.int16,\n",
    "        'order_dow': np.int8,\n",
    "        'order_hour_of_day': np.int8,\n",
    "        'days_since_prior_order': np.float32})\n",
    "\n",
    "print('loading products')\n",
    "products = pd.read_csv(IDIR + 'products.csv', dtype={\n",
    "        'product_id': np.uint16,\n",
    "        'order_id': np.int32, #이 스크립트에서는 order_id를 제외하였다.\n",
    "        'aisle_id': np.uint8,\n",
    "        'department_id': np.uint8},\n",
    "        usecols=['product_id', 'aisle_id', 'department_id'])\n",
    "\n",
    "print('priors {}: {}'.format(priors.shape, ', '.join(priors.columns)))\n",
    "print('orders {}: {}'.format(orders.shape, ', '.join(orders.columns)))\n",
    "print('train {}: {}'.format(train.shape, ', '.join(train.columns)))\n"
   ]
  },
  {
   "cell_type": "markdown",
   "metadata": {},
   "source": [
    " "
   ]
  },
  {
   "cell_type": "markdown",
   "metadata": {},
   "source": [
    "## priors 데이터 조작하기 \\( 제품 피처 계산하기 \\) \n",
    "이 부분은 priors 데이터셋을 정리하여 product 데이터셋에 합치는 과정이다.<br>\n",
    "<p>\n",
    "#### prods 데이터셋의 피처 설명\n",
    "<b>orders</b> : priors에서 product_id의 개수를 센 값이다. 얼마나 많이 판매된 상품인지 알 수 있다.<br>\n",
    "<b>reorders</b> : priors의 product_id 별로 reordered 데이터를 통합한 뒤 이를 모두 더한다. 재구매인 경우 1 아닌 경우 0이므로 이 각 제품마다의 값들을 더한다면 재주문된 횟수를 알 수 있다.<br>\n",
    "<b>reorder_rate</b> : 계산된 prods의 reorders 값을 orders 값으로 나눈 데이터.<br>\n",
    "<br><br>\n",
    "product_id를 기준으로해서 products 데이터셋과 새로만든 prods 데이터셋을 합친다.<br>\n",
    "그리고 업데이트된 products 데이터셋의 인덱스 값을 product_id 칼럼으로 지정한다. <br>\n",
    "<br>마지막에는 필요가 없어진 prods 데이터셋을 삭제한다.\n",
    "\n",
    "<img src=\"img_set/02_groupby.png\" width=\"600\" height=\"600\"> <br><br><br>\n",
    "### size() 함수는 무엇인가요?\n",
    "groupby\\(\\).size\\(\\)로 이용되며, groupby구문으로 생성된 데이터그룹의 데이터 개수를 구하는 함수이다.<br>\n",
    "다만, count\\(\\)의 경우에는 NaN 값을 제외하는 반면 size\\(\\)의 경우에는 <b>NaN 값까지 개수에 포함</b>을 한다.<br>\n",
    "** 예시와 자세한 내용은 https://stackoverflow.com/questions/33346591/what-is-the-difference-between-size-and-count-in-pandas\ 를 참고하도록 한다."
   ]
  },
  {
   "cell_type": "code",
   "execution_count": 3,
   "metadata": {},
   "outputs": [
    {
     "name": "stdout",
     "output_type": "stream",
     "text": [
      "computing product f\n"
     ]
    }
   ],
   "source": [
    "print('computing product f')\n",
    "prods = pd.DataFrame()\n",
    "prods['orders'] = priors.groupby(priors.product_id).size().astype(np.int32)\n",
    "prods['reorders'] = priors['reordered'].groupby(priors.product_id).sum().astype(np.float32)\n",
    "prods['reorder_rate'] = (prods.reorders / prods.orders).astype(np.float32)\n",
    "products = products.join(prods, on='product_id')\n",
    "products.set_index('product_id', drop=False, inplace=True)\n",
    "del prods"
   ]
  },
  {
   "cell_type": "markdown",
   "metadata": {},
   "source": [
    "<b>아래의 코드는 orders 데이터셋을 prior 셋에 합치도록 진행한다.</b><br>\n",
    "<img src=\"img_set/03_join_result.png\" width=\"700\" height=\"700\">"
   ]
  },
  {
   "cell_type": "code",
   "execution_count": 4,
   "metadata": {},
   "outputs": [
    {
     "name": "stdout",
     "output_type": "stream",
     "text": [
      "add order info to priors\n"
     ]
    }
   ],
   "source": [
    "print('add order info to priors')\n",
    "orders.set_index('order_id', inplace=True, drop=False)\n",
    "priors = priors.join(orders, on='order_id', rsuffix='_')\n",
    "priors.drop('order_id_', inplace=True, axis=1)\n"
   ]
  },
  {
   "cell_type": "markdown",
   "metadata": {},
   "source": [
    " "
   ]
  },
  {
   "cell_type": "markdown",
   "metadata": {},
   "source": [
    "## 유저 피처 계산하기\n",
    "이 부분은 orders 데이터셋을 정리하여 prior 데이터셋에 합치는 과정이다.\n",
    "\n",
    "#### orders 데이터셋의 피처 설명 <br>\n",
    "order_id : 주문번호(장바구니 번호)<br>\n",
    "user_id : 고객번호<br>\n",
    "eval_set : 어느 데이터 세트에 포함되는지 (prior? train?)<br>\n",
    "order_number : 몇 번째 주문을 한 것인지(몇 번째로 주문한 장바구니인지)<br>\n",
    "order_dow : dow는 day of week로 어떤 요일에 주문했는지 알 수 있다.<br>\n",
    "order_hour_of_day : 몇 시에 주문했는지를 알 수 있다.<br>\n",
    "days_since_prior_order : 같은 주문을 몇 일 전에 했었는지 알 수 있다.<br>\n",
    "\n",
    "orders의 user_id를 그룹으로 묶은 뒤 days_since_prior_order의 평균을 구한다. (그 다음 float32로 데이터 타입을 변경해준다) <br>\n",
    "orders의 user_Id 각각이 몇 번 주문을 했는지 size()함수를 이용해서 구한다.<br>\n",
    "위 각각의 결과를 'average_days_between_orders'와 'nb_orders'라는 이름의 칼럼으로서 usr 데이터프레임에 삽입한다.<br>\n",
    "<img src=\"img_set/04_usr.png\" width=\"350\" height=\"350\"> <br>\n",
    "<br>\n",
    "\n",
    "#### priors 데이터셋의 피처 설명 <br>\n",
    "order_id : 주문번호(장바구니 번호)<br>\n",
    "product_id : 제품 번호<br>\n",
    "add_to_cart_order : 장바구니에 집어넣은 순서<br>\n",
    "reordered : 재주문 여부(0 ==> 재주문 X :::::  1 ==> 재주문 O)<br>\n",
    "user_id : 고객 번호<br>\n",
    "eval_set : 어느 데이터 세트에 포함되는지 (prior? train?)<br>\n",
    "order_number : 몇 번째 주문을 한 것인지(몇 번째로 주문한 장바구니인지)<br>\n",
    "order_dow : dow는 day of week로 어떤 요일에 주문했는지 알 수 있다.<br>\n",
    "order_hour_of_day : 몇 시에 주문했는지를 알 수 있다.<br>\n",
    "days_since_prior_order : 같은 주문을 몇 일 전에 했었는지 알 수 있다.<br>\n",
    "\n",
    "priors의 각 user_id가 몇 개의 제품을 구매 했었는지 size()함수를 이용해서 구한다.<br>\n",
    "set을 사용해서 각 user_id가 구매했던 제품 번호의 UNIQUE 값을 구한다. (set 자료형은 중복되는 데이터가 없도록하기 때문)<br>\n",
    "그리고 그렇게 구한 제품번호의 UNIQUE 값이 각 user_id 별로 몇 개가 있는지 구한다.<br>\n",
    "위 각각의 결과를 'total_items', 'all_products', 'total_distinct_items'라는 이름의 칼럼으로서 users 데이터프레임에 삽입한다.<br>\n",
    "<img src=\"img_set/05_users.png\" width=\"700\" height=\"700\"> <br>\n",
    "<br>\n",
    "\n",
    "\n",
    "새로 생성한 두 데이터프레임을 join한다. users에 usr을 조인한 결과는 다음과 같다.<br>\n",
    "<img src=\"img_set/06_join.png\" width=\"700\" height=\"700\"> <br>\n",
    "<br>\n",
    "마지막에는 필요가 없어진 usr 데이터프레임을 삭제한다. (이미 users 데이터프레임에 합쳤기 때문!)<br>\n",
    "그리고 users 데이터프레임에 각 user_id의 \\[총 구매 제품 개수\\]를 \\[총 구매 횟수\\]로 나누어서 <b>한 번의 구매당 평균 몇 개의 제품을 구입</b>했는지에 대한 칼럼을 추가한다. "
   ]
  },
  {
   "cell_type": "code",
   "execution_count": 5,
   "metadata": {},
   "outputs": [
    {
     "name": "stdout",
     "output_type": "stream",
     "text": [
      "computing user f\n",
      "user f (206209, 6)\n"
     ]
    }
   ],
   "source": [
    "### user features\n",
    "print('computing user f')\n",
    "usr = pd.DataFrame()\n",
    "usr['average_days_between_orders'] = orders.groupby('user_id')['days_since_prior_order'].mean().astype(np.float32)\n",
    "usr['nb_orders'] = orders.groupby('user_id').size().astype(np.int16)\n",
    "\n",
    "users = pd.DataFrame()\n",
    "users['total_items'] = priors.groupby('user_id').size().astype(np.int16)\n",
    "users['all_products'] = priors.groupby('user_id')['product_id'].apply(set)\n",
    "users['total_distinct_items'] = (users.all_products.map(len)).astype(np.int16)\n",
    "\n",
    "users = users.join(usr)\n",
    "del usr\n",
    "users['average_basket'] = (users.total_items / users.nb_orders).astype(np.float32)\n",
    "print('user f', users.shape)"
   ]
  },
  {
   "cell_type": "markdown",
   "metadata": {},
   "source": [
    " "
   ]
  },
  {
   "cell_type": "markdown",
   "metadata": {},
   "source": [
    "## [유저 X 제품] 피처 생성하기\n",
    "\\[유저X제품\\]을 하기 위해서 product_id와 user_id를 하나로 합친 새로운 id를 생성한다.<br><br>\n",
    "예시 )<br>\n",
    "product_id : 123456<br>\n",
    "user_id : 9999999<br>\n",
    "====> user_product : 99999999123456 "
   ]
  },
  {
   "cell_type": "code",
   "execution_count": 6,
   "metadata": {},
   "outputs": [
    {
     "name": "stdout",
     "output_type": "stream",
     "text": [
      "compute userXproduct f - this is long...\n"
     ]
    }
   ],
   "source": [
    "### userXproduct features\n",
    "\n",
    "print('compute userXproduct f - this is long...')\n",
    "priors['user_product'] = priors.product_id + priors.user_id * 100000"
   ]
  },
  {
   "cell_type": "markdown",
   "metadata": {},
   "source": [
    "#### PANDAS에서 itertuples는 어떤 쓰임을 가질까?<br>\n",
    "\n",
    "데이터프레임에 itertuples()를 사용할 경우 각 행의 데이터를 튜플 자료형으로 반환한다.<br>\n",
    "사용 예시는 다음과 같다.<br>\n",
    "<img src=\"img_set/07_example.png\" width=\"700\" height=\"700\"> <br>\n",
    "( 출처 : https://pandas.pydata.org/pandas-docs/stable/generated/pandas.DataFrame.itertuples.html )\n",
    "<br><br>\n",
    "z에는 priors의 단일 user_product 데이터가 들어간다.<br>\n",
    "따라서 딕셔너리d에 user_product가 없는 경우에는 새로 데이터를 추가한다.<br>\n",
    "처음 데이터를 추가할 때 (1, (row.order_number, row.order_id), row.add_to_cart_order )에서 1은 업데이트가 이루어진 횟수를 의미한다.<br>\n",
    "기존의 데이터가 딕셔너리에 있는 경우에는,<br> <b>#1</b> 업데이트 횟수를 1 추가하고,<br> <b>#2</b> 가장 최신의 주문순서 및 해당 장바구니 번호로 업데이트,<br> <b>#3</b> 장바구니에 추가한 순서를 기존의 값에 더한다.<br>\n",
    "**딕셔너리d에는 각 유저의 구입한 제품 별 정보가 들어간다. <=== <b>user_product</b> !!"
   ]
  },
  {
   "cell_type": "code",
   "execution_count": 7,
   "metadata": {},
   "outputs": [],
   "source": [
    "d= dict()\n",
    "for row in priors.itertuples():\n",
    "    z = row.user_product\n",
    "    if z not in d:\n",
    "        d[z] = (1,\n",
    "                (row.order_number, row.order_id),\n",
    "                row.add_to_cart_order)\n",
    "    else:\n",
    "        d[z] = (d[z][0] + 1,\n",
    "                max(d[z][1], (row.order_number, row.order_id)),\n",
    "                d[z][2] + row.add_to_cart_order)"
   ]
  },
  {
   "cell_type": "markdown",
   "metadata": {},
   "source": [
    "결과로 나온 딕셔너리를 PANDAS의 userXproduct라는 데이터프레임으로 변환한다.<br>\n",
    "각각의 칼럼의 의미는 다음과 같다.<br>\n",
    "nb_orders : 해당 제품을 몇 번 구매를 하였는가?<br>\n",
    "last_order_id : 해당 제품을 마지막으로 구매한 주문번호는 무엇인가?<br>\n",
    "sum_pos_in_cart : 장바구니에 집어 넣은 순서 값에 대한 총 합<br>\n"
   ]
  },
  {
   "cell_type": "code",
   "execution_count": 8,
   "metadata": {},
   "outputs": [
    {
     "name": "stdout",
     "output_type": "stream",
     "text": [
      "to dataframe (less memory)\n",
      "user X product f 13293564\n"
     ]
    }
   ],
   "source": [
    "print('to dataframe (less memory)')\n",
    "userXproduct = pd.DataFrame.from_dict(d, orient='index')\n",
    "del d\n",
    "userXproduct.columns = ['nb_orders', 'last_order_id', 'sum_pos_in_cart']\n",
    "userXproduct.nb_orders = userXproduct.nb_orders.astype(np.int16)\n",
    "userXproduct.last_order_id = userXproduct.last_order_id.map(lambda x: x[1]).astype(np.int32)\n",
    "userXproduct.sum_pos_in_cart = userXproduct.sum_pos_in_cart.astype(np.int16)\n",
    "print('user X product f', len(userXproduct))\n",
    "\n",
    "del priors"
   ]
  },
  {
   "cell_type": "markdown",
   "metadata": {},
   "source": [
    " "
   ]
  },
  {
   "cell_type": "markdown",
   "metadata": {},
   "source": [
    "## Train / Test 준비"
   ]
  },
  {
   "cell_type": "code",
   "execution_count": 13,
   "metadata": {},
   "outputs": [
    {
     "name": "stdout",
     "output_type": "stream",
     "text": [
      "split orders : train, test\n"
     ]
    }
   ],
   "source": [
    "### train / test orders ###\n",
    "print('split orders : train, test')\n",
    "test_orders = orders[orders.eval_set == 'test']\n",
    "train_orders = orders[orders.eval_set == 'train']\n",
    "\n",
    "train.set_index(['order_id', 'product_id'], inplace=True, drop=False)"
   ]
  },
  {
   "cell_type": "code",
   "execution_count": 11,
   "metadata": {},
   "outputs": [
    {
     "data": {
      "text/html": [
       "<div>\n",
       "<style scoped>\n",
       "    .dataframe tbody tr th:only-of-type {\n",
       "        vertical-align: middle;\n",
       "    }\n",
       "\n",
       "    .dataframe tbody tr th {\n",
       "        vertical-align: top;\n",
       "    }\n",
       "\n",
       "    .dataframe thead th {\n",
       "        text-align: right;\n",
       "    }\n",
       "</style>\n",
       "<table border=\"1\" class=\"dataframe\">\n",
       "  <thead>\n",
       "    <tr style=\"text-align: right;\">\n",
       "      <th></th>\n",
       "      <th>order_id</th>\n",
       "      <th>user_id</th>\n",
       "      <th>eval_set</th>\n",
       "      <th>order_number</th>\n",
       "      <th>order_dow</th>\n",
       "      <th>order_hour_of_day</th>\n",
       "      <th>days_since_prior_order</th>\n",
       "    </tr>\n",
       "    <tr>\n",
       "      <th>order_id</th>\n",
       "      <th></th>\n",
       "      <th></th>\n",
       "      <th></th>\n",
       "      <th></th>\n",
       "      <th></th>\n",
       "      <th></th>\n",
       "      <th></th>\n",
       "    </tr>\n",
       "  </thead>\n",
       "  <tbody>\n",
       "    <tr>\n",
       "      <th>2774568</th>\n",
       "      <td>2774568</td>\n",
       "      <td>3</td>\n",
       "      <td>test</td>\n",
       "      <td>13</td>\n",
       "      <td>5</td>\n",
       "      <td>15</td>\n",
       "      <td>11.0</td>\n",
       "    </tr>\n",
       "    <tr>\n",
       "      <th>329954</th>\n",
       "      <td>329954</td>\n",
       "      <td>4</td>\n",
       "      <td>test</td>\n",
       "      <td>6</td>\n",
       "      <td>3</td>\n",
       "      <td>12</td>\n",
       "      <td>30.0</td>\n",
       "    </tr>\n",
       "    <tr>\n",
       "      <th>1528013</th>\n",
       "      <td>1528013</td>\n",
       "      <td>6</td>\n",
       "      <td>test</td>\n",
       "      <td>4</td>\n",
       "      <td>3</td>\n",
       "      <td>16</td>\n",
       "      <td>22.0</td>\n",
       "    </tr>\n",
       "    <tr>\n",
       "      <th>1376945</th>\n",
       "      <td>1376945</td>\n",
       "      <td>11</td>\n",
       "      <td>test</td>\n",
       "      <td>8</td>\n",
       "      <td>6</td>\n",
       "      <td>11</td>\n",
       "      <td>8.0</td>\n",
       "    </tr>\n",
       "    <tr>\n",
       "      <th>1356845</th>\n",
       "      <td>1356845</td>\n",
       "      <td>12</td>\n",
       "      <td>test</td>\n",
       "      <td>6</td>\n",
       "      <td>1</td>\n",
       "      <td>20</td>\n",
       "      <td>30.0</td>\n",
       "    </tr>\n",
       "  </tbody>\n",
       "</table>\n",
       "</div>"
      ],
      "text/plain": [
       "          order_id  user_id eval_set  order_number  order_dow  \\\n",
       "order_id                                                        \n",
       "2774568    2774568        3     test            13          5   \n",
       "329954      329954        4     test             6          3   \n",
       "1528013    1528013        6     test             4          3   \n",
       "1376945    1376945       11     test             8          6   \n",
       "1356845    1356845       12     test             6          1   \n",
       "\n",
       "          order_hour_of_day  days_since_prior_order  \n",
       "order_id                                             \n",
       "2774568                  15                    11.0  \n",
       "329954                   12                    30.0  \n",
       "1528013                  16                    22.0  \n",
       "1376945                  11                     8.0  \n",
       "1356845                  20                    30.0  "
      ]
     },
     "execution_count": 11,
     "metadata": {},
     "output_type": "execute_result"
    }
   ],
   "source": [
    "test_orders.head()"
   ]
  },
  {
   "cell_type": "code",
   "execution_count": 12,
   "metadata": {},
   "outputs": [
    {
     "data": {
      "text/html": [
       "<div>\n",
       "<style scoped>\n",
       "    .dataframe tbody tr th:only-of-type {\n",
       "        vertical-align: middle;\n",
       "    }\n",
       "\n",
       "    .dataframe tbody tr th {\n",
       "        vertical-align: top;\n",
       "    }\n",
       "\n",
       "    .dataframe thead th {\n",
       "        text-align: right;\n",
       "    }\n",
       "</style>\n",
       "<table border=\"1\" class=\"dataframe\">\n",
       "  <thead>\n",
       "    <tr style=\"text-align: right;\">\n",
       "      <th></th>\n",
       "      <th>order_id</th>\n",
       "      <th>user_id</th>\n",
       "      <th>eval_set</th>\n",
       "      <th>order_number</th>\n",
       "      <th>order_dow</th>\n",
       "      <th>order_hour_of_day</th>\n",
       "      <th>days_since_prior_order</th>\n",
       "    </tr>\n",
       "    <tr>\n",
       "      <th>order_id</th>\n",
       "      <th></th>\n",
       "      <th></th>\n",
       "      <th></th>\n",
       "      <th></th>\n",
       "      <th></th>\n",
       "      <th></th>\n",
       "      <th></th>\n",
       "    </tr>\n",
       "  </thead>\n",
       "  <tbody>\n",
       "    <tr>\n",
       "      <th>1187899</th>\n",
       "      <td>1187899</td>\n",
       "      <td>1</td>\n",
       "      <td>train</td>\n",
       "      <td>11</td>\n",
       "      <td>4</td>\n",
       "      <td>8</td>\n",
       "      <td>14.0</td>\n",
       "    </tr>\n",
       "    <tr>\n",
       "      <th>1492625</th>\n",
       "      <td>1492625</td>\n",
       "      <td>2</td>\n",
       "      <td>train</td>\n",
       "      <td>15</td>\n",
       "      <td>1</td>\n",
       "      <td>11</td>\n",
       "      <td>30.0</td>\n",
       "    </tr>\n",
       "    <tr>\n",
       "      <th>2196797</th>\n",
       "      <td>2196797</td>\n",
       "      <td>5</td>\n",
       "      <td>train</td>\n",
       "      <td>5</td>\n",
       "      <td>0</td>\n",
       "      <td>11</td>\n",
       "      <td>6.0</td>\n",
       "    </tr>\n",
       "    <tr>\n",
       "      <th>525192</th>\n",
       "      <td>525192</td>\n",
       "      <td>7</td>\n",
       "      <td>train</td>\n",
       "      <td>21</td>\n",
       "      <td>2</td>\n",
       "      <td>11</td>\n",
       "      <td>6.0</td>\n",
       "    </tr>\n",
       "    <tr>\n",
       "      <th>880375</th>\n",
       "      <td>880375</td>\n",
       "      <td>8</td>\n",
       "      <td>train</td>\n",
       "      <td>4</td>\n",
       "      <td>1</td>\n",
       "      <td>14</td>\n",
       "      <td>10.0</td>\n",
       "    </tr>\n",
       "  </tbody>\n",
       "</table>\n",
       "</div>"
      ],
      "text/plain": [
       "          order_id  user_id eval_set  order_number  order_dow  \\\n",
       "order_id                                                        \n",
       "1187899    1187899        1    train            11          4   \n",
       "1492625    1492625        2    train            15          1   \n",
       "2196797    2196797        5    train             5          0   \n",
       "525192      525192        7    train            21          2   \n",
       "880375      880375        8    train             4          1   \n",
       "\n",
       "          order_hour_of_day  days_since_prior_order  \n",
       "order_id                                             \n",
       "1187899                   8                    14.0  \n",
       "1492625                  11                    30.0  \n",
       "2196797                  11                     6.0  \n",
       "525192                   11                     6.0  \n",
       "880375                   14                    10.0  "
      ]
     },
     "execution_count": 12,
     "metadata": {},
     "output_type": "execute_result"
    }
   ],
   "source": [
    "train_orders.head()"
   ]
  },
  {
   "cell_type": "markdown",
   "metadata": {},
   "source": [
    "#### PANDAS에서 map()은 어떤 쓰임을 가질까?\n",
    "\n",
    "map함수는 Series 타입에서<b>만</b> 사용해야 한다. (DataFrame 타입에서는 쓸 수 없다.)<br>\n",
    "map함수는 설정된 함수 또는 딕셔너리를 가지고 Series의 값 하나하나에 접근하여 실행된다.<br><br>\n",
    "<b># 01</b><br>\n",
    "우선 설정된 함수를 적용하는 예시이다. 이는 apply()를 사용했을 때와 같은 진행을 하지만 <br>apply()는 DataFrame에서도 사용이 가능하다는 점을 기억해두자.<br>\n",
    "<img src=\"img_set/09_map02.png\" width=\"700\" height=\"700\">\n",
    "<br>\n",
    "이렇게 len() 함수를 적용할 경우에는 각 단어의 길이를 반환해준다.\n",
    "<br><br>\n",
    "<b># 02</b><br>\n",
    "아래는 딕셔너리를 적용하는 예시이다.말 그대로 \"map\"(매핑)하는 기능인데, <br>딕셔너리의 key에 해당하는 데이터가 있다면 이를 key에 종속 된 value로 변환하는 역할을 한다. <br>\n",
    "<img src=\"img_set/08_map01.png\" width=\"700\" height=\"700\"> <br>\n",
    "<br>\n",
    "map함수 안에 정의된 딕셔너리의 key-value에 맞추어서 문자 데이터가 숫자로 변환된 것을 확인 할 수 있다.<br>\n",
    "만일 딕셔너리 대신 Series자료형으로 넣을 경우에는 key는 Series 데이터의 인덱스 값이 되고 value는 컬럼 데이터가 된다.<br>\n",
    "<br>\n",
    "( 출처&참조 : https://www.youtube.com/watch?v=ektcpUz7Xb0 )<br>\n",
    "\\-------------------------------------------------------------------------------<br>\n",
    "아래는 feature engineering에 관한 진행이므로 자세한 설명은 생략하도록 한다.<br>\n",
    "처음에 주어진 train 데이터 세트를 LGBM에서 학습시킬 train 세트로 만드는 과정이다.\n",
    "\n",
    "\n"
   ]
  },
  {
   "cell_type": "code",
   "execution_count": 15,
   "metadata": {},
   "outputs": [],
   "source": [
    "### build list of candidate products to reorder, with features ###\n",
    "\n",
    "def features(selected_orders, labels_given=False):\n",
    "    print('build candidate list')\n",
    "    order_list = []\n",
    "    product_list = []\n",
    "    labels = []\n",
    "    i=0\n",
    "    for row in selected_orders.itertuples():\n",
    "        i+=1\n",
    "        if i%10000 == 0: print('order row',i)\n",
    "        order_id = row.order_id\n",
    "        user_id = row.user_id\n",
    "        user_products = users.all_products[user_id]\n",
    "        product_list += user_products\n",
    "        order_list += [order_id] * len(user_products)\n",
    "        if labels_given:\n",
    "            labels += [(order_id, product) in train.index for product in user_products]\n",
    "        \n",
    "    df = pd.DataFrame({'order_id':order_list, 'product_id':product_list}, dtype=np.int32)\n",
    "    labels = np.array(labels, dtype=np.int8)\n",
    "    del order_list\n",
    "    del product_list\n",
    "    \n",
    "    print('user related features')\n",
    "    df['user_id'] = df.order_id.map(orders.user_id)\n",
    "    df['user_total_orders'] = df.user_id.map(users.nb_orders)\n",
    "    df['user_total_items'] = df.user_id.map(users.total_items)\n",
    "    df['total_distinct_items'] = df.user_id.map(users.total_distinct_items)\n",
    "    df['user_average_days_between_orders'] = df.user_id.map(users.average_days_between_orders)\n",
    "    df['user_average_basket'] =  df.user_id.map(users.average_basket)\n",
    "    \n",
    "    print('order related features')\n",
    "    # df['dow'] = df.order_id.map(orders.order_dow)\n",
    "    df['order_hour_of_day'] = df.order_id.map(orders.order_hour_of_day)\n",
    "    df['days_since_prior_order'] = df.order_id.map(orders.days_since_prior_order)\n",
    "    df['days_since_ratio'] = df.days_since_prior_order / df.user_average_days_between_orders\n",
    "    \n",
    "    print('product related features')\n",
    "    df['aisle_id'] = df.product_id.map(products.aisle_id)\n",
    "    df['department_id'] = df.product_id.map(products.department_id)\n",
    "    df['product_orders'] = df.product_id.map(products.orders).astype(np.int32)\n",
    "    df['product_reorders'] = df.product_id.map(products.reorders)\n",
    "    df['product_reorder_rate'] = df.product_id.map(products.reorder_rate)\n",
    "\n",
    "    print('user_X_product related features')\n",
    "    df['z'] = df.user_id * 100000 + df.product_id\n",
    "    df.drop(['user_id'], axis=1, inplace=True)\n",
    "    df['UP_orders'] = df.z.map(userXproduct.nb_orders)\n",
    "    df['UP_orders_ratio'] = (df.UP_orders / df.user_total_orders).astype(np.float32)\n",
    "    df['UP_last_order_id'] = df.z.map(userXproduct.last_order_id)\n",
    "    df['UP_average_pos_in_cart'] = (df.z.map(userXproduct.sum_pos_in_cart) / df.UP_orders).astype(np.float32)\n",
    "    df['UP_reorder_rate'] = (df.UP_orders / df.user_total_orders).astype(np.float32)\n",
    "    df['UP_orders_since_last'] = df.user_total_orders - df.UP_last_order_id.map(orders.order_number)\n",
    "    df['UP_delta_hour_vs_last'] = abs(df.order_hour_of_day - df.UP_last_order_id.map(orders.order_hour_of_day)).map(lambda x: min(x, 24-x)).astype(np.int8)\n",
    "    #df['UP_same_dow_as_last_order'] = df.UP_last_order_id.map(orders.order_dow) == \\\n",
    "    #                                              df.order_id.map(orders.order_dow)\n",
    "\n",
    "    df.drop(['UP_last_order_id', 'z'], axis=1, inplace=True)\n",
    "    print(df.dtypes)\n",
    "    print(df.memory_usage())\n",
    "    return (df, labels)"
   ]
  },
  {
   "cell_type": "code",
   "execution_count": 16,
   "metadata": {},
   "outputs": [
    {
     "name": "stdout",
     "output_type": "stream",
     "text": [
      "build candidate list\n",
      "order row 10000\n",
      "order row 20000\n",
      "order row 30000\n",
      "order row 40000\n",
      "order row 50000\n",
      "order row 60000\n",
      "order row 70000\n",
      "order row 80000\n",
      "order row 90000\n",
      "order row 100000\n",
      "order row 110000\n",
      "order row 120000\n",
      "order row 130000\n",
      "user related features\n",
      "order related features\n",
      "product related features\n",
      "user_X_product related features\n",
      "order_id                              int32\n",
      "product_id                            int32\n",
      "user_total_orders                     int16\n",
      "user_total_items                      int16\n",
      "total_distinct_items                  int16\n",
      "user_average_days_between_orders    float32\n",
      "user_average_basket                 float32\n",
      "order_hour_of_day                      int8\n",
      "days_since_prior_order              float32\n",
      "days_since_ratio                    float32\n",
      "aisle_id                              uint8\n",
      "department_id                         uint8\n",
      "product_orders                        int32\n",
      "product_reorders                    float32\n",
      "product_reorder_rate                float32\n",
      "UP_orders                             int16\n",
      "UP_orders_ratio                     float32\n",
      "UP_average_pos_in_cart              float32\n",
      "UP_reorder_rate                     float32\n",
      "UP_orders_since_last                  int16\n",
      "UP_delta_hour_vs_last                  int8\n",
      "dtype: object\n",
      "Index                                     80\n",
      "order_id                            33898644\n",
      "product_id                          33898644\n",
      "user_total_orders                   16949322\n",
      "user_total_items                    16949322\n",
      "total_distinct_items                16949322\n",
      "user_average_days_between_orders    33898644\n",
      "user_average_basket                 33898644\n",
      "order_hour_of_day                    8474661\n",
      "days_since_prior_order              33898644\n",
      "days_since_ratio                    33898644\n",
      "aisle_id                             8474661\n",
      "department_id                        8474661\n",
      "product_orders                      33898644\n",
      "product_reorders                    33898644\n",
      "product_reorder_rate                33898644\n",
      "UP_orders                           16949322\n",
      "UP_orders_ratio                     33898644\n",
      "UP_average_pos_in_cart              33898644\n",
      "UP_reorder_rate                     33898644\n",
      "UP_orders_since_last                16949322\n",
      "UP_delta_hour_vs_last                8474661\n",
      "dtype: int64\n",
      "formating for lgb\n"
     ]
    }
   ],
   "source": [
    "df_train, labels = features(train_orders, labels_given=True)\n",
    "\n",
    "# 사용할 피처를 모아둔 리스트이다.\n",
    "f_to_use = ['user_total_orders', 'user_total_items', 'total_distinct_items',\n",
    "       'user_average_days_between_orders', 'user_average_basket',\n",
    "       'order_hour_of_day', 'days_since_prior_order', 'days_since_ratio',\n",
    "       'aisle_id', 'department_id', 'product_orders', 'product_reorders',\n",
    "       'product_reorder_rate', 'UP_orders', 'UP_orders_ratio',\n",
    "       'UP_average_pos_in_cart', 'UP_reorder_rate', 'UP_orders_since_last',\n",
    "       'UP_delta_hour_vs_last'] # 'dow', 'UP_same_dow_as_last_order'\n",
    "\n",
    "\n",
    "# LGBM에 사용하기 적합한 데이터세트로 변환한다.\n",
    "# 이 부분은 반드시 거쳐야하는 과정이다!\n",
    "# 카테고리 데이터가 있는 경우에는 이를 지정해줄 수 있다.\n",
    "print('formating for lgb')\n",
    "d_train = lgb.Dataset(df_train[f_to_use],\n",
    "                      label=labels,\n",
    "                      categorical_feature=['aisle_id', 'department_id'])  # 쓰지 않는 카테고리 데이터 --> 'order_hour_of_day', 'dow'\n",
    "del df_train"
   ]
  },
  {
   "cell_type": "code",
   "execution_count": 18,
   "metadata": {},
   "outputs": [
    {
     "name": "stdout",
     "output_type": "stream",
     "text": [
      "light GBM train :-)\n"
     ]
    },
    {
     "name": "stderr",
     "output_type": "stream",
     "text": [
      "C:\\Users\\lion5\\Anaconda3\\lib\\site-packages\\lightgbm\\basic.py:1036: UserWarning: Using categorical_feature in Dataset.\n",
      "  warnings.warn('Using categorical_feature in Dataset.')\n"
     ]
    }
   ],
   "source": [
    "# 설정할 파라미터\n",
    "params = {\n",
    "    'task': 'train',\n",
    "    'boosting_type': 'gbdt',\n",
    "    'objective': 'binary',\n",
    "    'metric': {'binary_logloss'},\n",
    "    'num_leaves': 96,\n",
    "    'max_depth': 10,\n",
    "    'feature_fraction': 0.9,\n",
    "    'bagging_fraction': 0.95,\n",
    "    'bagging_freq': 5\n",
    "}\n",
    "\n",
    "# num_boost_round 파라미터에 들어갈 수치\n",
    "# 100번까지 반복한다.\n",
    "ROUNDS = 100\n",
    "\n",
    "print('light GBM train :-)')\n",
    "bst = lgb.train(params, d_train, ROUNDS)\n",
    "# lgb.plot_importance(bst, figsize=(9,20))\n",
    "del d_train"
   ]
  },
  {
   "cell_type": "code",
   "execution_count": 20,
   "metadata": {},
   "outputs": [
    {
     "data": {
      "image/png": "iVBORw0KGgoAAAANSUhEUgAAAtIAAAR8CAYAAACwrHMOAAAABHNCSVQICAgIfAhkiAAAAAlwSFlzAAALEgAACxIB0t1+/AAAADl0RVh0U29mdHdhcmUAbWF0cGxvdGxpYiB2ZXJzaW9uIDIuMS4yLCBodHRwOi8vbWF0cGxvdGxpYi5vcmcvNQv5yAAAIABJREFUeJzs3XucVmW99/HPD5CDoJANmqJEpCLCKCpK7tTGVLI8pDsrD5V4iMzULNF48rC1MjU1S7fZtoOS50fdiWmppYwaaorGWbAD9CiUZ1QQgYHf88e9oGEcYFjCHJjP+/Wal/e91rXW9bsuQL5zzbVuIjORJEmStHY6tHQBkiRJUltkkJYkSZJKMEhLkiRJJRikJUmSpBIM0pIkSVIJBmlJkiSpBIO0JElARPw0Is5t6ToktR3h50hLkt6LiJgNbAEsrXd4+8yc+x7uWQPcmJlbv7fq2qaIuB54ITPPaelaJK2aK9KSpHXhkMzsUe+rdIheFyKiU0v2/15ERMeWrkFS0xikJUnrTUR8JCIei4h5ETGpWGlefu64iHg2It6KiL9HxFeK492B3wFbRcT84muriLg+Ir5X7/qaiHih3vvZEfGtiJgMLIiITsV1d0bEyxExKyJOW02tK+6//N4RcVZEvBQR/4yIwyLiUxHxXES8FhHfrnft+RFxR0TcVoznmYjYud75gRFRW8zDtIg4tEG/10TEbyNiAXACcAxwVjH23xTtRkfE34r7T4+Iw+vdY0RE/DEiLouI14uxfrLe+c0i4rqImFucv6veuYMjYmJR22MRsVOTf4Glds4gLUlaLyKiD3Av8D1gM2AUcGdE9C6avAQcDGwKHAdcERG7ZuYC4JPA3BIr3EcBBwG9gGXAb4BJQB9gP+D0iPhEE+/1AaBrce15wM+ALwC7AXsD50VE/3rtPw3cXoz1ZuCuiNgoIjYq6ngA2Bw4FbgpIgbUu/Zo4EJgE+BXwE3AD4qxH1K0+VvRb0/gAuDGiNiy3j2GATOBKuAHwC8iIopzNwAbA4OKGq4AiIhdgV8CXwHeD/wPcHdEdGniHEntmkFakrQu3FWsaM6rt9r5BeC3mfnbzFyWmb8HJgCfAsjMezPzb1nxMJWgufd7rOPKzHw+MxcCuwO9M/M7mbk4M/9OJQwf2cR7LQEuzMwlwK1UAuqPM/OtzJwGTAPqr94+nZl3FO1/SCWEf6T46gFcXNTxEHAPldC/3NjMHF/M0zuNFZOZt2fm3KLNbcBfgD3qNflHZv4sM5cCY4AtgS2KsP1J4KTMfD0zlxTzDfBl4H8y80+ZuTQzxwCLipolrUGb3UMmSWpVDsvMPzQ49kHgsxFxSL1jGwHjAIqtB/8FbE9lYWdjYMp7rOP5Bv1vFRHz6h3rCDzaxHu9WoRSgIXFf1+sd34hlYD8rr4zc1mx7WSr5ecyc1m9tv+gstLdWN2NiogvAd8E+hWHelAJ98v9q17/bxeL0T2orJC/lpmvN3LbDwLHRsSp9Y51rle3pNUwSEuS1pfngRsy88sNTxRbB+4EvkRlNXZJsZK9fCtCYx8ptYBK2F7uA420qX/d88CszNyuTPElbLP8RUR0ALYGlm9J2SYiOtQL032B5+pd23C8K72PiA9SWU3fD3g8M5dGxET+PV+r8zywWUT0ysx5jZy7MDMvbMJ9JDXg1g5J0vpyI3BIRHwiIjpGRNfiIb6tqax6dgFeBuqK1enh9a59EXh/RPSsd2wi8KniwbkPAKevof8ngTeLBxC7FTUMjojd19kIV7ZbRPxn8Ykhp1PZIvEE8Ccq3wScVeyZrgEOobJdZFVeBOrvv+5OJVy/DJUHNYHBTSkqM/9J5eHNn0TE+4oa9ilO/ww4KSKGRUX3iDgoIjZp4pilds0gLUlaLzLzeSoP4H2bSgB8HjgT6JCZbwGnAf8XeJ3Kw3Z317t2BnAL8Pdi3/VWVB6YmwTMprKf+rY19L+USmAdAswCXgF+TuVhvfVhLPB5KuP5IvCfxX7kxcChVPYpvwL8BPhSMcZV+QWw4/I955k5HbgceJxKyK4Gxq9FbV+ksud7BpWHPE8HyMwJVPZJ/3dR91+BEWtxX6ld8x9kkSTpPYqI84FtM/MLLV2LpObjirQkSZJUgkFakiRJKsGtHZIkSVIJrkhLkiRJJRikJUmSpBL8B1mkdaBXr1657bbbtnQZ7caCBQvo3r17S5fRbjjfzcv5bl7Od/NqK/P99NNPv5KZvdfUziAtrQNbbLEFEyZMaOky2o3a2lpqampauox2w/luXs5383K+m1dbme+I+EdT2rm1Q5IkSSrBIC1JkiSVYJCWJEmSSjBIS5IkSSUYpCVJkqQSDNKSJElSCQZpSZIkqQSDtCRJklSCQVqSJEkqwSAtSZIklWCQliRJkkowSEuSJEklGKQlSZKkEgzSkiRJUgkGaUmSJKkEg7QkSZJUgkFakiRJKsEgLUmSJJVgkJYkSZJKMEhLkiRJJRikJUmSpBIM0pIkSVIJBmlJkiSpBIO0JEmSVIJBWpIkSSrBIC1JkiSVYJCWJEmSSjBIS5IkSSUYpCVJkqQSDNKSJElSCQZpSZIkqQSDtCRJklSCQVqSJEkqwSAtSZIklWCQliRJkkowSEuSJEklGKQlSZKkEgzSkiRJUgkGaUmSJKkEg7QkSZJUgkFakiRJKsEgLUmSJJVgkJYkSZJKMEhLkiRJJRikJUmSpBIM0pIkSVIJBmlJkiSphE4tXYC0IVi4ZCn9Rt/b0mW0G2dU1zHC+W42znfzcr6bl/O9fs2++KCWLmG9ckVakiRJ683zzz/Pvvvuy8CBAxkxYgQ//vGPVzp/2WWXERG88sorALzxxhsccsgh7LzzzgwaNIjrrrtuRdsDDzyQXr16cfDBBzfrGFbFIK02JSJ+GxG9VnO+NiKGlrjvzyNix0aOj4iI/17b+0mSpIpOnTpx+eWX8+yzz/KTn/yEq6++munTpwOVkP373/+evn37rmh/9dVXs+OOOzJp0iRqa2s544wzWLx4MQBnnnkmN9xwQ4uMozEGabUpmfmpzJy3Hu57YmZOX9f3lSSpvdtyyy3ZddddAdh4440ZOHAgc+bMAeAb3/gGP/jBD4iIFe0jgrfeeovMZP78+Wy22WZ06lTZjbzffvuxySabNP8gVsEgrVYrIu6KiKcjYlpEjCyOzY6IqojoHhH3RsSkiJgaEZ9v5PrhEfF4RDwTEbdHRI/V9LViJTsijouI5yLiYeCj622AkiS1M//617/485//zLBhw7j77rvp06cPO++880ptTjnlFJ599lm22morqqur+fGPf0yHDq0zsvqwoVqz4zPztYjoBjwVEXfWO3cgMDczDwKIiJ71L4yIKuAcYP/MXBAR3wK+CXxndR1GxJbABcBuwBvAOODPq2g7EhgJUFXVm/Oq60oMUWVs0a3ygJCah/PdvJzv5uV8r1+1tbUrXi9cuJBzzjmHE088kccee4xvfetbXHrppdTW1vLOO+8wfvx4evbsycMPP0xVVRU333wzc+fO5cQTT+TnP/853bt3B2DixIm8+uqrK927pRik1ZqdFhGHF6+3Abard24KcFlEXALck5mPNrj2I8COwPjix0Wdgceb0OcwoDYzXwaIiNuA7RtrmJnXAtcC9O2/bV4+xT9OzeWM6jqc7+bjfDcv57t5Od/r1+xjagBYsmQJBx98MMOHD+e8885jypQpvPrqq5xyyikAvPLKK5x66qk8+eSTXHrppYwePZq9994bgF/84hf07t2bPfbYY8V9//CHP1BTU9Pcw3kXf+eoVYqIGmB/YM/MfDsiaoGuy89n5nMRsRvwKeCiiHggM+uvNgfw+8w8qkT3Wb5ySZJUX2ZywgknMHDgQA477DAAqqureemll1a06devHxMmTKCqqoq+ffvy4IMPsvfee/Piiy8yc+ZM+vfv31Llr1br3HAiQU/g9SJE70BlhXmFiNgKeDszbwQuA3ZtcP0TwEcjYtui/cYR0ejKcgN/Amoi4v0RsRHw2fc6EEmS2rPx48dzww038NBDD3HiiScyZMgQfvvb366y/bnnnstjjz1GdXU1++23H5dccglVVVUA7L333nz2s5/lwQcfZOutt+b+++9vrmE0yhVptVb3ASdFxGRgJpVgXF81cGlELAOWAF+tfzIzX46IEcAtEdGlOHwO8NzqOs3Mf0bE+VS2gfwTeAbo+N6GIklS+7XXXnuRWflhb21tbaNbMmbPnr3i9VZbbcUDDzzQ6L0efbThTs6WFcsHJqm8AQMG5MyZM1u6jHZjVf8j1vrhfDcv57t5Od/Nq63Md0Q8nZlr/Hcp3NohSZIkleDWDrUrEfFr4EMNDn8rM1t2k5UkSWpzDNJqVzLz8DW3kiRJWjO3dkiSJEklGKQlSZKkEgzSkiRJUgkGaUmSJKkEg7QkSZJUgkFakiRJKsEgLUmSJJVgkJYkSZJKMEhLkiRJJRikJUmSpBIM0pIkSVIJBmlJkiSpBIO0JEmSVIJBWpIkSSrBIC1JkiSVYJCWJEmSSjBIS5IkSSUYpCVJkqQSDNKSJElSCQZpSZIkqQSDtCRJklSCQVqSJEkqwSAtSZIklWCQliRJkkowSEuSJEklGKQlSZKkEgzSkiRJUgkGaUmSJKkEg7QkSZJUgkFakiRJKsEgLUmSJJVgkJYkSZJKMEhLkiRJJRikJUmSpBIM0pIkSVIJBmlJkiSpBIO0JEmSVIJBWpIkSSrBIC1JkiSVYJCWJEmSSujU0gVIG4KFS5bSb/S9LV1Gu3FGdR0jnO9Vmn3xQS1dgiS1C65IS9IG6IorrmDQoEEMHjyYo446infeeYeHHnqIXXfdlcGDB3PsscdSV1cHwIwZM9hzzz3p0qULl112WQtXLklth0FakjYwc+bM4corr2TChAlMnTqVpUuXcvPNN3Psscdy6623MnXqVD74wQ8yZswYADbbbDOuvPJKRo0a1cKVS1LbYpBuRSKiX0RMbXDs/IgYFRHXR8SsiJgYEc9ExJ7rof/56/qea+jv0IgY3Qz9nB8Ra50QImJIRHxqfdQkrW91dXUsXLiQuro63n77bbp3706XLl3YfvvtATjggAO48847Adh8883Zfffd2WijjVqyZElqcwzSbcuZmTkEGA38z3u5UUS8p/3xUfGefv9k5t2ZefF7ucd6NgQwSKvN6dOnD6NGjaJv375sueWW9OzZk8997nMsWbKECRMmAHDHHXfw/PPPt3ClktS2+bBh2/QIsO2qTkbEEOCnwMbA34DjM/P1iKgFHgM+CtwdEf8L3Ezl98F9De5xJvA5oAvw68z8r4joB/wOGAfsCRwWERcAQ4EEfpmZV6yiptOAk4A6YHpmHhkRI4ChmXlKRFwPvFnc6wPAWZl5R3HtWcAXgWXA7zJzdER8GLga6A28DXw5M2esaeIi4svASKAz8Ffgi5n5dkR8FvgvYCnwBrA/8B2gW0TsBVyUmbc1uNfI4l5UVfXmvOq6NXWvdWSLbpUHDtW43/zmN4wZM4Ybb7yRHj16cP7553POOedw1llncfzxx7NkyRKGDh3KO++8Q21t7YrrZs+eTbdu3VY6BjB//vx3HdP643w3L+e7eW1o822QbpsOAaas5vyvgFMz8+GI+A6VgHh6ca5XZn4MICLuBq7JzF9FxNeWXxwRw4HtgD2AoBK69wH+HzAAOC4zT46I3YA+mTm4uK7XamoaDXwoMxetpt2WwF7ADsDdwB0R8UngMGBYEXg3K9peC5yUmX+JiGHAT4CPr6b/5f43M39W1Ps94ATgKuA84BOZOSciemXm4og4jyLoN3ajzLy2qIO+/bfNy6f4x6m5nFFdh/O9apfu9ja77LILhx12GABz587liSee4MILL+RrX6v8UX/ggQdYtGgRNTU1K66rra2lR48eKx1bfrzhMa0/znfzcr6b14Y2327taF1yDccvjYiJVFZBT2isYUT0pBKWHy4OjQH2qdek/qrqR4Fbitc31Ds+vPj6M/AMlWC7XXHuH5n5RPH670D/iLgqIg6ksqK8KpOBmyLiC1RWpRtzV2Yuy8zpwBbFsf2B6zLzbYDMfC0iegD/AdxezMf/UAnhTTE4Ih6NiCnAMcCg4vh44PpixbpjE+8ltUp9+/bliSee4O233yYzefDBBxk4cCAvvfQSAIsWLeKSSy7hpJNOauFKJaltc0mndXkVeF+DY5sBs4rXZy7f7vAeLGjwvrHwHlS2Mqy0D7vY2rHi+mK7yM7AJ4CvUdkKcvwq+j2ISqA/FDg3IgY10mZRgxqW/7dhjR2AecV+8bV1PXBYZk4qtpbUAGTmScXK9kHAxGJ7jNQmDRs2jCOOOIJdd92VTp06scsuuzBy5EjOOecc7rnnHpYtW8ZXv/pVPv7xyg9x/vWvfzF06FDefPNNOnTowI9+9COmT5/Opptu2sIjkaTWzRXpViQz5wP/jIj9AIptDAcCf1yLe7wBvB4RexeHvgg8vIrm44Eji9fH1Dt+P3B8sfJLRPSJiM0bXhwRVUCHzLwTOBfYtbFOiocSt8nMccBZQC+gRxOH9EBRy8bFvTbLzDeBWcW+5uUPPu7cxPttQmWON6LemCPiw5n5p8w8D3gF2AZ4q2gvtTkXXHABM2bMYOrUqdxwww106dKFSy+9lGeffZaZM2dy+umnr2j7gQ98gBdeeIE333yTefPm8cILLxiiJakJXJFufb4EXB0RlxfvL8jMv0XE6q5p6Fjgp0X4/Dtw3CrafR24OSK+Dty5/GBmPhARA4HHi37nA1+g8iBefX2A6+p9esf/WUU/HYEbi20nAVyRmfOaMqbMvK9YHZ4QEYuB3wLfphKCr4mIc4CNgFuBSWu8YSXw/wn4B5V95suD8qURsV1R34PFvf4fMLrYPvKuhw0lSVL7Fpmr2pYrqakGDBiQM2fObOky2o0N7WGV1s75bl7Od/NyvptXW5nviHg6M4euqZ1bOyRJkqQS3NrRhkXE1VQ+eaO+H2fmdS1RD7RsTRFxNvDZBodvz8wL13ffkiSp/TFIt2GZ+bU1t2peLVlTEZgNzZIkqVm4tUOSJEkqwSAtSZIklWCQliRJkkowSEuSJEklGKQlSZKkEgzSkiRJUgkGaUmSJKkEg7QkSZJUgkFakiRJKsEgLUmSJJVgkJYkSZJKMEhLkiRJJRikJUmSpBIM0pIkSVIJBmlJkiSpBIO0JEmSVIJBWpIkSSrBIC1JkiSVYJCWJEmSSjBIS5IkSSUYpCVJkqQSDNKSJElSCQZpSZIkqQSDtCRJklSCQVqSJEkqwSAtSZIklWCQliRJkkowSEuSJEklGKQlSZKkEgzSkiRJUgkGaUmSJKkEg7QkSZJUgkFakiRJKsEgLUmSJJVgkJYkSZJKMEhLkiRJJRikJUmSpBIM0pIkSVIJBmlJkiSphE4tXYC0IVi4ZCn9Rt/b0mW0G2dU1zFiA53v2Rcf1NIlSJKayBVpSWqFrrjiCgYNGsTgwYM56qijeOedd5g1axbDhg1ju+224/Of/zyLFy8G4JFHHmHXXXelU6dO3HHHHS1cuSS1HwZpSWpl5syZw5VXXsmECROYOnUqS5cu5dZbb+Vb3/oW3/jGN/jLX/7C+973Pn7xi18A0LdvX66//nqOPvroFq5cktoXg3QbEBG9IuLkNbTpFxFr/Fu0aDd1LfqujYihxevfRkSv1bQ9PSI2rvd+te3XUONqxxIRQyPiyuJ1TUT8x9r2I7VmdXV1LFy4kLq6Ot5++2223HJLHnroIY444ggAjj32WO666y4A+vXrx0477USHDv4vXZKak//XbRt6AasN0kA/YL0uR2XmpzJz3mqanA5svBbtV6UfaxhLZk7IzNOKtzWAQVobjD59+jBq1Cj69u3LlltuSc+ePdltt93o1asXnTpVHm3ZeuutmTNnTgtXKkntm0G6bbgY+HBETIyIS4uvqRExJSI+X6/N3kWbbxSruo9GxDPFV5OCZkR0i4hbI2JyRNwGdKt3bnZEVEVE94i4NyImFXV8PiJOA7YCxkXEuAbt+0XEsxHxs4iYFhEPRES3os22EfGH4l7PRMSHG45lFXXWRMQ9EdEPOAn4RtF+74joHRF3RsRTxddHi2vOj4gxRf+zI+I/I+IHxTzeFxEbFe0ujojpxRxctra/WNJ79frrrzN27FhmzZrF3LlzWbBgAb/73e/e1S4iWqA6SdJyfmpH2zAaGJyZQyLiM1SC485AFfBURDxStBmVmQcDFFssDsjMdyJiO+AWYGgT+voq8HZm7hQROwHPNNLmQGBuZh5U9NUzM9+IiG8C+2bmK41csx1wVGZ+OSL+L/AZ4EbgJuDizPx1RHSl8s3dSmNZncycHRE/BeZn5mVFPTcDV2TmHyOiL3A/MLC45MPAvsCOwOPAZzLzrIj4NXBQMZeHAztkZq5hK8tIYCRAVVVvzquuW1O5Wke26Fb55I4NUW1tLbW1tXTt2pVp06YBMHDgQO644w5efvllHnzwQTp27Mi0adPo2rUrtbW1K67917/+xbRp06iqqlqnNc2fP3+lfrR+Od/Ny/luXhvafBuk2569gFsycynwYkQ8DOwOvNmg3UbAf0fEEGApsH0T778PcCVAZk6OiMmNtJkCXBYRlwD3ZOajTbjvrMycWLx+GugXEZsAfTLz10V/78A6WWXbH9ix3n02LfoC+F1mLomIKUBH4L56Y+oH3AO8A/w8Iu4t3jcqM68FrgXo23/bvHyKf5yayxnVdWyo8z37mBq6devG7bffzh577EG3bt247rrr2H///encuTMvv/wyRx55JLfeeivHHXccNTU1K669/vrrGTRo0ErH1oXa2tp1fk+tmvPdvJzv5rWhzbdbO9qepqbMbwAvUlm5Hgp0Xos+crUnM58DdqMSPi+KiPOacM9F9V4vpfJN3Pr6uXQHYM/MHFJ89cnMt+rXkZnLgCWZuXysy4BOmVkH7AHcCRzGv4O21GyGDRvGEUccwa677kp1dTXLli1j5MiRXHLJJfzwhz9k22235dVXX+WEE04A4KmnnmLrrbfm9ttv5ytf+QqDBg1q4RFIUvuwYS7pbHjeApavqD4CfCUixgCbUVlBPhPoU68NQE/ghcxcFhHHUll9bYpHgGOo7HUeDOzUsEFEbAW8lpk3RsR8YESDOhvb2vEumflmRLwQEYdl5l0R0aWos/54m+ItYNN67x8ATgEuLeodUm81fLUiogewcWb+NiKeAP66FnVI68wFF1zABRdcsNKx/v378+STT76r7e67784LL7zQXKVJkgquSLcBmfkqML742Lo9gcnAJOAh4KzM/FdxrK54aO8bwE+AY4swuD2woIndXQP0KLZ0nAW8+29tqAaejIiJwNnA94rj1wK/W/6wYRN9ETit6O8x4AONjGVNfgMcvvxhQ+A0YGjxsOB0KnvKm2oT4J6inoeprOxLkiS9S/z7J9uSyhowYEDOnDmzpctoNza0PXatnfPdvJzv5uV8N6+2Mt8R8XRmrvFDGlyRliRJkkpwj3Q7FRGfAC5pcHhWZh7eEvWsSlupU5IktT8G6XYqM++n8vnKrVpbqVOSJLU/bu2QJEmSSjBIS5IkSSUYpCVJkqQSDNKSJElSCQZpSZIkqQSDtCRJklSCQVqSJEkqwSAtSZIklWCQliRJkkowSEuSJEklGKQlSZKkEgzSkiRJUgkGaUmSJKkEg7QkSZJUgkFakiRJKsEgLUmSJJVgkJYkSZJKMEhLkiRJJRikJUmSpBIM0pIkSVIJBmlJkiSpBIO0JEmSVIJBWpIkSSrBIC1JkiSVYJCWJEmSSjBIS5IkSSUYpCVJkqQSDNKSJElSCQZpSZIkqQSDtCRJklSCQVqSJEkqwSAtSZIklWCQliRJkkowSEuSJEklGKQlSZKkEgzSkiRJUgkGaUmSJKkEg7QkSZJUgkFakiRJKsEgLUmSJJXQqaULkDYEC5cspd/oe1u6jHbjjOo6RqyH+Z598UHr/J6SpA2XK9KS1MC8efM44ogj2GGHHRg4cCCPP/44Z555JjvssAM77bQThx9+OPPmzVvR/qKLLmLbbbdlwIAB3H///S1YuSSpORmkJamBr3/96xx44IHMmDGDSZMmMXDgQA444ACmTp3K5MmT2X777bnooosAmD59OrfeeivTpk3jvvvu4+STT2bp0qUtPAJJUnMwSLczEXF+RIxq5j63iog7mrPP1YmIXhFxcr33rao+taw333yTRx55hBNOOAGAzp0706tXL4YPH06nTpXdcB/5yEd44YUXABg7dixHHnkkXbp04UMf+hDbbrstTz75ZIvVL0lqPgZprXeZOTczj2jOPiNidfv/ewErgnRL1KfW6+9//zu9e/fmuOOOY5ddduHEE09kwYIFK7X55S9/ySc/+UkA5syZwzbbbLPi3NZbb82cOXOatWZJUsvwYcN2ICLOBr4EPA+8DDwdEV8GRgKdgb8CXwQ6ApOB7TNzSURsWrzfDvgqcBJQB0zPzCNX0dfHgB8XbxPYB3g/cE9mDo6IEcChwMbAh4FfZ+ZZxbUHAt8v6nglM/eLiO7AVUA1ld+v52fm2FX0PQI4COgKdI+IQ4GxwPuAjYBzimsvBj4cEROB3wNX16uvK3ANMLQY6zczc9wq+htZzCFVVb05r7qusWZaD7boVnngcF2rra1l5syZPP3004wYMYIRI0Zw1VVX8dWvfpXjjz8egBtvvJF58+bRp08famtreeGFF3j22Wepra0F4J///CfTpk2jqqpqndfXUubPn79ifFr/nO/m5Xw3rw1tvg3SG7iI2A04EtiFyq/3M8DTwP9m5s+KNt8DTsjMqyKilkoYvau47s4iVI8GPpSZiyKi12q6HAV8LTPHR0QP4J1G2gwp6lkEzIyIq4p2PwP2ycxZEbFZ0fZs4KHMPL7o98mI+ENmLmjkvgB7Ajtl5mvFqvThmflmRFQBT0TE3cBoYHBmDinG36/e9V8DyMzqiNgBeCAits/Md40jM68FrgXo23/bvHyKf5yayxnVdayP+Z59TA077LADF110ESefXPmhRceOHbn44oupqalhzJgxTJs2jQcffJCNN94YgMcffxyAmpoaoPLg4fDhw9lzzz3XeX0tpba2dsUnhC7GAAAgAElEQVT4tP45383L+W5eG9p8u7Vjw7c3lVXftzPzTeDu4vjgiHg0IqYAxwCDiuM/B44rXh8HXFe8ngzcFBFfoLJSuyrjgR9GxGlAr8xsrO2DmflGEU6nAx8EPgI8kpmzADLztaLtcGB0sXpcS2W1ue9q+v99vWsD+H5ETAb+APQBtljNtQB7ATcUNcwA/gFsv4ZrtAH5wAc+wDbbbMPMmTMBePDBB9lxxx257777uOSSS7j77rtXhGiAQw89lFtvvZVFixYxa9Ys/vKXv7DHHnu0VPmSpGbkElr7kI0cux44LDMnFVsiagCKleR+xRaNjpk5tWh/EJVtGocC50bEoMZCcmZeHBH3Ap+isgK8P+9elV5U7/VSKr8PYxV1BvCZzJzZpJFC/ZXqY4DewG7FqvpsKkF8daKJ/WgDdtVVV3HMMcewePFi+vfvz3XXXcfuu+/OokWLOOCAA4DKA4c//elPGTRoEJ/73OfYcccd6dSpE1dffTUdO3Zs4RFIkpqDQXrD9whwfURcTOXX+xDgf4BNgH9GxEZUAmf9p6N+BdwCfBcgIjoA22TmuIj4I3A00AOYRwMR8eHMnAJMiYg9gR2AiU2o83Hg6oj40PKtHcXK8v3AqRFxamZmROySmX9u4th7Ai8VIXpfKivfAG8V42/MI1Tm46GI2J7K6ndTQ7w2EEOGDGHChAkrHfvrX/+6yvZnn302Z5999vouS5LUyhikN3CZ+UxE3EYlzP4DeLQ4dS7wp+LYFFYOljcB36MSpqHy8N+NEdGTyortFZn5rhBdOL0IrUupbNv4HbBlE+p8uXh473+L4P4ScACVMP8jYHJEBDAbOLgJQ18+jt9ExAQq459R9PVqRIyPiKlFfVfXu+YnwE+LLS91wIjMXMQadNuoIzP9V/GaTW1tLbOPqWnpMiRJ7ZxBuh3IzAuBCxs5dc0qLtkLuGN5WM7MJcWxpvR1aiOHZwODi/PXU9lWsrz9wfVe/45KsK1/v4XAV5rYd8N7v0Ll4cPG2h7d4NDy+t4BRjSlP0mS1L4ZpLWS4hM0Pkllj7MkSZJWwSCtlaxiRfldIuI44OsNDo/PzK+t+6re1fcngEsaHJ6VmYev774lSZKWM0irlMy8jn9/NF5z930/lYcQJUmSWoyfIy1JkiSVYJCWJEmSSjBIS5IkSSUYpCVJkqQSDNKSJElSCQZpSZIkqQSDtCRJklSCQVqSJEkqwSAtSZIklWCQliRJkkowSEuSJEklGKQlSZKkEgzSkiRJUgkGaUmSJKkEg7QkSZJUgkFakiRJKsEgLUmSJJVgkJYkSZJKMEhLkiRJJRikJUmSpBIM0pIkSVIJBmlJkiSpBIO0JEmSVIJBWpIkSSrBIC1JkiSVYJCWJEmSSjBIS5IkSSUYpCVJkqQSDNKSJElSCQZpSZIkqQSDtCRJklSCQVqSJEkqwSAtSZIklWCQliRJkkowSEuSJEklGKQlSZKkEgzSkiRJUgkGaUmSJKkEg7QkSZJUQqeWLkDaECxcspR+o+9t6TLajTOq6xixFvM9++KD1mM1kqT2yhVpSe1Gv379qK6uZsiQIQwdOnTF8auuuooBAwYwaNAgzjrrLABuuukmhgwZsuKrQ4cOTJw4saVKlyS1Qq5IS2pXxo0bR1VV1Urvx44dy+TJk+nSpQsvvfQSAMcccwzHHHMMAFOmTOHTn/40Q4YMaZGaJUmtkyvSWmciol9EHN2EdkMi4lNNaFcTEfes5vyhETG6eH1YROy4dhVLcM011zB69Gi6dOkCwOabb/6uNrfccgtHHXVUc5cmSWrlDNJaaxGxqp9k9APWGKSBIcAag/SaZObdmXlx8fYwwCCt1YoIhg8fzm677ca1114LwHPPPcejjz7KsGHD+NjHPsZTTz31rutuu+02g7Qk6V3c2tEOREQ/4J7MHFy8HwX0AF4DTgLqgOmZeWREdAeuAqqp/P44PzPHRsQI4CCgK9Ad+HgjXV0MDIyIicAY4Jria2jRxzeB8cB3gG4RsRdwETAL+BHQDVgIHJeZM5swrhHFvW8GDgU+FhHnAJ8pmlwN9AbeBr6cmTMi4vqijx2ADwLHAccCewJ/yswREdER+EVx7wR+mZlXNNL/SGAkQFVVb86rrltTyVpHtuhWeeCwqWprawG49NJLqaqq4vXXX2fUqFEsXLiQN954gylTpnDxxRczY8YMDj30UG6++WYiAoDp06eTmbzyyisr7tPezJ8/v92OvSU4383L+W5eG9p8G6Tbt9HAhzJzUUT0Ko6dDTyUmccXx56MiD8U5/YEdsrM11Zzv1GZeTBARJwBkJnVEbED8ACwPXAeMDQzTynabQrsk5l1EbE/8H3+HYbXKDMfi4i7qXyzcEdxzweBkzLzLxExDPgJ/w7/7yteHwr8BvgocCLwVEQMAToCfep949GLRmTmtcC1AH37b5uXT/GPU3M5o7qOtZnv2cfUvOvYpEmTWLJkCQMGDOC0006jpqaGfffdl8suu4zBgwfTu3dvAMaOHcuJJ55ITc2779Fe1NbWtuvxNzfnu3k5381rQ5tv/+Zv3yYDN0XEXcBdxbHhwKHFqjVUVqD7Fq9/v5oQ3Zi9qKxuU6wG/4NKkG6oJzAmIrajsgK80doNY2UR0QP4D+D25auKQJd6TX6TmRkRU4AXM3NKcd00KttTHgb6R8RVwL1UvgFQG7dgwQKWLVvGJptswoIFC3jggQc477zz6NGjBw899BA1NTU899xzLF68eMXDiMuWLeP222/nkUceaeHqJUmtkUG6fahj5f3wXYv/HgTsQ2Vl9tyIGAQE8JmGWyuKVd0Fa9lvrLkJAN8FxmXm4cU2lNq17KehDsC8zFzVRywsKv67rN7r5e87ZebrEbEz8Anga8DngOPfY01qYS+++CKHH344AHV1dRx99NEceOCBLF68mOOPP57BgwfTuXNnxowZs2JbxyOPPMLWW29N//79W7J0SVIrZZBuH14ENo+I9wPzgYOprLJuk5njIuKPVB4S7AHcD5waEacWq7a7ZOafm9jPW8Am9d4/AhwDPBQR21NZ2Z4JbNegXU9gTvF6RJkB1u87M9+MiFkR8dnMvD0qqWinzJzUlBtFRBWwODPvjIi/AdeXrEmtSP/+/Zk06d2/BTp37syNN97Y6DU1NTU88cQT67s0SVIb5ad2tAOZuYTKA35/Au4BZlDZB3xjsb3hz8AVmTmPyurwRsDkiJhavG+qyUBdREyKiG9Q2ZfcsejjNmBEZi4CxgE7RsTEiPg88APgoogYX9RVxq3AmRHx54j4MJUAf0JETAKmAZ9ei3v1AWqLhyavB/5PyZokSdIGLDKzpWuQ2rwBAwbkzJlr/KARrSMb2sMqrZ3z3byc7+blfDevtjLfEfF0Zg5dUztXpCVJkqQS3COttRYR1cANDQ4vysxh66m/44CvNzg8PjO/tj76kyRJagqDtNZa8XFxq/pEjPXR33XAdc3VnyRJUlO4tUOSJEkqwSAtSZIklWCQliRJkkowSEuSJEklGKQlSZKkEgzSkiRJUgkGaUmSJKkEg7QkSZJUgkFakiRJKsEgLUmSJJVgkJYkSZJKMEhLkiRJJRikJUmSpBIM0pIkSVIJBmlJkiSpBIO0JEmSVIJBWpIkSSrBIC1JkiSVYJCWJEmSSjBIS5IkSSUYpCVJkqQSDNKSJElSCQZpSZIkqQSDtCRJklSCQVqSJEkqwSAtSZIklWCQliRJkkowSEuSJEklGKQlSZKkEgzSkiRJUgkGaUmSJKkEg7QkSZJUgkFakiRJKsEgLUmSJJVgkJYkSZJKMEhLkiRJJRikJUmSpBIM0pIkSVIJBmlJkiSphE4tXYC0IVi4ZCn9Rt/b0mW0G2dU1zGiifM9++KD1nM1kqT2yhVpSe1Cv379qK6uZsiQIQwdOnTF8auuuooBAwYwaNAgzjrrLABeffVV9t13X3r06MEpp5zSUiVLklo5V6QltRvjxo2jqqpqpfdjx45l8uTJdOnShZdeegmArl278t3vfpepU6cyderUlipXktTKuSK9AYqIfhFR6m//iKiJiP9Y1zWtZQ3XR8QRzdjfkIj4VHP1p9bjmmuuYfTo0XTp0gWAzTffHIDu3buz11570bVr15YsT5LUyhmk25CI6NgM3dQATQ7SEfGefqrxXq9v6j3W0GYIYJDewEUEw4cPZ7fdduPaa68F4LnnnuPRRx9l2LBhfOxjH+Opp55q4SolSW2JWztaiYjoB9wH/AnYBXgO+BIwHfglMBz474iYAfwU2Bj4G3B8Zr4eEbsV7d4G/ljvviOAoZl5SvH+HuCyzKyNiAOB7wMdgVeAE4CTgKUR8QXg1Mx8tJFarwdeK+p8JiLOA64Cqqn8njo/M8dGRFfgGmAoUAd8MzPHFTUdBHQFukfEfsX1HwdmAVGvr92AHwI9ihpHZOY/I6IWeAz4KHA3cHkT6rwN+BHQDVgIHFf09x2gW0TsBVwE3NPYeBreX23L+PHj2WqrrXjppZc44IAD2GGHHairq+P111/niSee4KmnnuJzn/scf//734mINd9QktTuGaRblwHACZk5PiJ+CZxcHH8nM/cCiIjJVALuwxHxHeC/gNOB6+odv3RNHUVEb+BnwD6ZOSsiNsvM1yLip8D8zLxsDbfYHtg/M5dGxPeBhzLz+IjoBTwZEX+gEsrJzOqI2AF4ICK2L67fE9ip6PM/i7FXA1tQfPMQERtRCbSfzsyXI+LzwIXA8cU9emXmx9aizk2L8dZFxP7A9zPzM8U3AvW/2Wh0PJm5oMEcjgRGAlRV9ea86ro1lKJ1ZYtulU/uaIra2toVr5977jkAdtllF2655RY23nhj+vfvz8MPPwzA4sWLGTt2LL169QJgxowZzJkzZ6V7tEfz589v93PQnJzv5uV8N68Nbb4N0q3L85k5vnh9I3Ba8fo2gIjoSSU8PlwcHwPc3sjxG4BPrqGvjwCPZOYsgMx8bS1rvT0zlxavhwOHRsSo4n1XoC+wF5UgTGbOiIh/UAm2AL+v1+c+wC3F/eZGxEPF8QHAYOD3xQphR+Cf9Wq4bS3r7AmMiYjtgAQ2WsU1qxrPs/UbZea1wLUAfftvm5dP8Y9Tczmjuo6mzvfsY2pYsGABy5YtY5NNNmHBggV8+9vf5rzzzmPnnXdm7ty51NTU8Nxzz9GhQwc+/elPr1iRnj17NvPnz6empmY9jqb1q62tbfdz0Jyc7+blfDevDW2+/Zu/dclVvF/QsGED0ci1y9Wx8l745U9Pre6apqhfUwCfycyZKxW1+p+PNxxTY7UEMC0z92ziPdbU5rvAuMw8vNhKU7uKaxodj9quF198kcMPPxyAuro6jj76aA488EAWL17M8ccfz+DBg+ncuTNjxoxZEaL79evHm2++yeLFi7nrrrt44IEH2HHHHVtyGJKkVsYg3br0jYg9M/Nx4Cgqe513WX4yM9+IiNcjYu9i7/IXgYczc15EvBERe2XmH4Fj6t1zNnByRHQA+gB7FMcfB66OiA/V39oBvAVsupZ13w+cGhGnZmZGxC6Z+WfgkaKWh4otHX2BmcCuDa5/BPhKRPwK2BzYF7i5aNt7+ZwUWz22z8xpa1nfcj2BOcXrEfWOvwVs0oTxqI3q378/kyZNetfxzp07c+ONNzZ6zezZs9dzVZKkts5P7WhdngWOLfZBb0blQb2GjgUuLdoMofKgHFQenLs6Ih6n8iDdcuOpPFA3BbgMeAYgM1+msr/3fyNiEv/eJvEb4PCImBgRezex7u9S2SYxufjYve8Wx38CdIyIKcX9R2Tmokau/zXwl6LGa4CHixoXA0cAlxQ1TmQtPlGkET8ALoqI8VS2iSw3DtixGPPnVzMeSZKkFSLzvfx0X+tKsdXgnswc3MKlqIQBAwbkzJnuBGkuG9oeu9bO+W5eznfzcr6bV1uZ74h4OjOHrqmdK9KSJElSCe6RbiUyczaVT6hoNSLibOCzDQ7fnpkXtkQ9q9JW6pQkSRsWg7RWqQiirT6MtpU6JUnShsWtHZIkSVIJBmlJkiSpBIO0JEmSVIJBWpIkSSrBIC1JkiSVYJCWJEmSSjBIS5IkSSUYpCVJkqQSDNKSJElSCQZpSZIkqQSDtCRJklSCQVqSJEkqwSAtSZIklWCQliRJkkowSEuSJEklGKQlSZKkEgzSkiRJUgkGaUmSJKkEg7QkSZJUgkFakiRJKsEgLUmSJJVgkJYkSZJKMEhLkiRJJRikJUmSpBIM0pIkSVIJBmlJkiSpBIO0JEmSVIJBWpIkSSrBIC1JkiSVYJCWJEmSSjBIS5IkSSUYpCVJkqQSDNKSJElSCQZpSZIkqQSDtCRJklSCQVqSJEkqwSAtSZIklWCQliRJkkowSEuSJEklGKQlSZKkEjq1dAHShmDhkqX0G31vS5fRbpxRXceIVcz37IsPauZqJEntlSvSkjZI/fr1o7q6miFDhjB06FAAzj33XHbaaSeGDBnC8OHDmTt3LgBvvPEGhxxyCDvvvDODBg3iuuuua8nSJUlthEFa0gZr3LhxTJw4kQkTJgBw5plnMnnyZCZOnMjBBx/Md77zHQCuvvpqdtxxRyZNmkRtbS1nnHEGixcvbsnSJUltgEG6mUXE+RExqpn73Coi7mjOPtckIn4bEb1aqO+aiLinJfpWy9p0001XvF6wYAERAUBE8NZbb5GZzJ8/n80224xOndz5JklaPf+maAcycy5wREvXARCV5BKZ+akS1ywr2WfHzFxa5tri+k6ZWVf2erWMiGD48OFEBF/5ylcYOXIkAGeffTa/+tWv6NmzJ+PGjQPglFNO4dBDD2Wrrbbirbfe4rbbbqNDB9cZJEmrF5nZ0jVs8CLibOBLwPPAy8DTwBvASKAz8Ffgi0BHYDKwfWYuiYhNi/fbAV8FTgLqgOmZeeQq+voY8OPibQL7AO8H7snMwRExAjgU2Bj4MPDrzDyruPZA4PtFHa9k5n4R0R24Cqim8o3X+Zk5dhV9jwAOB7oAHwJuzswLIqIf8DtgHLAncBjwMDA0M1+JiG8Cxxe3+Xlm/qixazLzH430eRTwbSCAezPzW8Xx+cAPgU8AZwA9gB8BrwDPAP0z8+BVja8Yy0FAV6B7Zn68kb5HUvk1pKqq927n/ehnjU2L1oMtusGLCxs/V92nJwCvvPIKVVVVvP7664waNYrTTjuNnXfeeUW7m266icWLF3Pcccfx8MMPM3XqVE4++WTmzp3LqFGj+PnPf0737t2bYzit3vz58+nRo0dLl9FuON/Ny/luXm1lvvfdd9+nM3Pomtq5Ir2eRcRuwJHALlTm+xkqQfp/M/NnRZvvASdk5lURUUslwN1VXHdnEapHAx/KzEVr2BIxCvhaZo6PiB7AO420GVLUswiYGRFXFe1+BuyTmbMiYrOi7dnA/2fvzuP8mu/+/z9eRBvE2qBE05EqGWSx1FJLJ5cm1raUUktLUJfLXuX66q+bcrWxVikVqsRWXKqtrSWKCUK6kNVWlyYlqNoimQiSeP3++Jykn4yZyeTI7I/77Zabz3l/zjnv13nPRJ7znvc5n/sz84ii3z9HxB8zc24z/W8LbAG8DfwlIu6iEl43BUZm5rHFNVePz0hgOyph+E8RMQ54s/ExjUXEBsA5wNbF/mMjYp/M/B2wKjAtM78fEb2BZ4H/oPJDy81Vp2ny+or3dgAGZ+YbTfWfmVcAVwD0H7BxXjDVv07t5VuDFtDceM84pO4DbZMnT2b+/PnU1f37vY022oi99tqLa665hvPOO4/TTz+dnXfeGYBf/vKXrLPOOmy77bZtUX6XU19fv8TYqW053u3L8W5f3W28/d1l29uZyqzv25k5G7i9aN8iIh6KiKnAIcDmRfuVVIIlxX8XPT5gCnBDRBxKZVa6OeOBn0TEicCazSxJuC8z38rMd4AngU8C2wMPZuZ0gKrwOAI4PSImAfVUZmj7t9D/vZn5embOA34D7FS0/yMzJzSx/05UxmduZjYUx+y8lGMW+QxQn5mvFtd5A5UZeICFwK3F64HA9Mx8Niu/grm+6hwtXd+9zYVodW5z585lzpw5i1+PHTuWLbbYgmeffXbxPrfffjsDBw4EoH///tx3330AvPLKKzzzzDMMGDCg/QuXJHUpTqG1j6bWz4yhslxhcrGMoA6gmEmuKZZorJiZ04r996ISEr8IfC8iNm8qJGfm2cUs8J7AhIj4PB+clX636vVCKt8H0UydAeyXmc+06ko/eI5F283NYEcL52rumNYc+06jddHNrWFq8voiYrtW9K9O6pVXXmHfffcFYMGCBRx88MHsvvvu7LfffjzzzDOssMIKfPKTn2T06NFA5bF4hx9+OIMGDSIzOeecc+jbt29HXoIkqQswSLe9B4ExEXE2lfH+AnA5sBrwckSsRGVG+sWqY64FbgTOAoiIFYBPZOYDEfEwcDCVNb+zGncWEZ/KzKnA1IjYgcps7KRW1PkocGlEbLRoaUcxG3sPcEJEnJCZGRFbZubEFs4zvFgWMo/KWugjWtgXlhyfoLLG+mutqBfgT8BFEdGXytKOg6isd27saWCjYmyeK/ZbZFmvT13AgAEDmDx58gfab7311ib2hg022ICxY8e2dVmSpG7GpR1tLDMfp7ImdxKVpQYPFW99j0oQvJdK0Kt2A7AWlTANlZv/ri+WgUwELszMD4TowskRMS0iJlMJs39oZZ2vUrlx7jfFsYvWEZ8FrARMiYhpxXZLHgauo7jezPzrUvp9nMrs/J+pjMeVrQ2ymfky8G0qNyROBh5v6kbIYgnL0cBdxQ8i1TctLuv1SZIkAT61o1OKiP2BL2Vma2dmO4Viico2mXl8R9fS3jbddNN85pnWrn7Rh9Xdblbp7Bzv9uV4ty/Hu311lfGOCJ/a0RUVT9DYg8oaZ0mSJHVSBulOJjNPaM1+ETESOKlR8/jMPG75V/WBvnej8ti5atMzc18qyzTaos8/UXk+dbWvFevBJUmS2p1BuovKzKv596Px2rvve6jcpNeefW7Xnv1JkiQtjTcbSpIkSSUYpCVJkqQSDNKSJElSCQZpSZIkqQSDtCRJklSCQVqSJEkqwSAtSZIklWCQliRJkkowSEuSJEklGKQlSZKkEgzSkiRJUgkGaUmSJKkEg7QkSZJUgkFakiRJKsEgLUmSJJVgkJYkSZJKMEhLkiRJJRikJUmSpBIM0pIkSVIJBmlJkiSpBIO0JEmSVIJBWpIkSSrBIC1JkiSVYJCWJEmSSjBIS5IkSSUYpCVJkqQSDNKSJElSCQZpSZIkqQSDtCRJklSCQVqSJEkqwSAtSZIklWCQliRJkkowSEuSJEklGKQlSZKkEgzSkiRJUgkGaUmSJKkEg7QkSZJUgkFakiRJKsEgLUmSJJXQq6MLkLqDefMXUnP6XR1dRo/xrUELOLzReM84e68OqkaS1FM5Iy2pW6mpqWHQoEEMHTqUbbbZBoDTTjuNgQMHMnjwYPbdd19mzZoFwHvvvcfIkSMZNGgQQ4YMob6+vgMrlyR1NQZpSd3OAw88wKRJk/jrX/8KwPDhw5k2bRpTpkxhk002YdSoUQD84he/AGDq1Knce++9fOtb3+L999/vsLolSV2LQVqdXkQcHhGXLIfz1EfENsuw/8kRscqH7Vcdb8SIEfTqVVnJtv322zNz5kwAnnzySXbddVcA1l13XdZcc83F4VuSpKUxSHdDEdFua9+jort+H50MGKS7mIhgxIgRbL311lxxxRUfeP+qq65ijz32AGDIkCHcdtttLFiwgOnTp/PYY4/xwgsvtHfJkqQuypsNO4GIqAHuzMwtiu1TgT7AG8AxwALgycz8akSsCvwMGETl63dGZt4WEYcDewG9gVWB/2iinz7AbcBawErAd4tjzwH+kZk/L/Y7A5iTmRdExGnAAcBHgd9m5g+Kev8APADsAOwTEacDnwFWBn6dmT8ozrUn8BPgNeBxYEBm7t3cdbQwTJ+IiLuBjYBfZeYPi/P/DvhEcd0XZeYVEbEi8EtgGyCBqzLzwqpxWAG4GnghM78bESOAHxbX+BwwEjgC2AB4ICJey8xhTYzn0cDRAH37rsP3By1ooXwtT+utXLnhsNqi9c3nnXceffv25c033+TUU09l3rx5DBkyBIDrr7+eWbNm0a9fP+rr6/nUpz7Fvffey8CBA1lvvfUYOHAgTz31lGulG2loaHBM2pHj3b4c7/bV3cbbIN25nQ5slJnvRsSaRdt3gPsz84ii7c8R8cfivR2AwZn5RjPnewfYNzNnR0RfYEJE3A7cBPwU+Hmx3wHA7kXA/DSwLRDA7RGxC/A8sCkwMjOPBYiI72TmG0WIvS8iBgN/Ay4HdsnM6RFxY1UtTV5HZs5tpvZtgS2At4G/RMRdmflX4Iii35WL9luBGqBf1Q8ma1adpxdwAzAtM39UjMN3gc9n5tyI+H/AKZl5ZkScAgzLzNeaKigzrwCuAOg/YOO8YKp/ndrLtwYtoPF4zzik7gP7TZ48mfnz51NXV8c111zDE088wX333ccqq/z7Fw2LlnYAfPazn+XLX/4ym222WZvV3hXV19dTV1fX0WX0GI53+3K821d3G+/u+iv57mIKcENEHEplVhpgBHB6REwC6qnMxPYv3ru3hRANlTD844iYAvwR6Aesl5kTgXUjYoOIGAK8mZnPF32NACZSmU0eSCVYQ2UGe0LVuQ+IiMeLfTcHNiv2/3tmTi/2qQ7SLV1HU+7NzNczcx7wG2Cnov3EiJgMTKAyM/1p4O/AgIj4WUTsDsyuOs/lFCG62N6+qHV8UcthwCdbqEOd2Ny5c5kzZ87i12PHjmWLLbbg7rvv5pxzzuH2229fIkS//fbbzJ1b+dnt3nvvpVevXoZoSVKrOYXWOSxgyR9qehf/3QvYBfgi8L2I2JxKGN4vM5+pPkFEbAc0N5u7yCHAOsDWmTk/ImZU9fVrYH/g41RmqLTgjzAAACAASURBVCn6GpWZlzfqq6a6r4jYCDgV+ExmvhkRY4rzRgu1NHkdLcjG2xFRB3we2CEz346IeqB3UcMQYDfgOCoz7EcUxz0CDIuICzLznaKOezPzoFbWoU7slVdeYd999wVgwYIFHHzwwey+++5svPHGvPvuuwwfPhyo3HA4evRo/vWvf7Hbbruxwgor0K9fP6677rqOLF+S1MUYpDuHV6jMCH8MaAD2BsYCn8jMByLiYeBgKuum7wFOiIgTMjMjYstiRrk11gD+VYToYSw583oT8AugL/C5ou0e4KyIuCEzGyKiHzC/ifOuTiVYvxUR6wF7UJllfprKzHBNZs4ADqw6ZlmvY3hErA3MA/ahEoz7UZk9fzsiBlKZXaZYrvFeZt4aEc8BY6rO80sqP5zcEhH7UpnJvjQiNs7M/yue0rFhZv4NmAOsRmV9t7qAAQMGMHny5A+0/9///V+T+9fU1PDMM639WU6SpCUZpDuBItieCfwJmE4lgK4IXB8Ra1CZNb0wM2dFxFlU1jNPiYgAZlAJ3q1xA3BHRPwVmFT0s6iGJyJiNeDFzHy5aBsbEbXAo5WuaAAOBRY2qn9yREwEnqCyrGJ80T4vIo4F7o6I14A/Vx22rNfxMHAdsDGVmw3/GhFTgWOKpSrPUAnFUAnYV1c9TeTbjer9STGu11GZpT8cuDEiPlrs8l0q67uvAP4QES83dbOhJEnq2SKz8W/MpeUnIvoUs9kBXAo8W/0Eje5i0003TWc22093u1mls3O825fj3b4c7/bVVcY7Ih7LzKV+9oQ3G6qtfaO4ie8JKktLLl/K/pIkSV2CSzu6oYgYRGXZQrV3M3O79q6lmH1u1Qx0ROwGnNOoeXpm7rvcC5MkSfqQDNLdUGZOBYZ2dB3LKjPvoXIToiRJUqfn0g5JkiSpBIO0JEmSVIJBWpIkSSrBIC1JkiSVYJCWJEmSSjBIS5IkSSUYpCVJkqQSDNKSJElSCQZpSZIkqQSDtCRJklSCQVqSJEkqwSAtSZIklWCQliRJkkowSEuSJEklGKQlSZKkEgzSkiRJUgkGaUmSJKkEg7QkSZJUgkFakiRJKsEgLUmSJJVgkJYkSZJKMEhLkiRJJRikJUmSpBIM0pIkSVIJBmlJkiSpBIO0JEmSVIJBWpIkSSrBIC1JkiSVYJCWJEmSSjBIS5IkSSUYpCVJkqQSDNKSJElSCQZpSZIkqQSDtCRJklSCQVqSJEkqwSAtSZIklWCQliRJkkowSEuSJEklGKQlSZKkEnp1dAFSdzBv/kJqTr+ro8votmacvVdHlyBJ0gcYpCV1GQsXLmSbbbahd+/ePProo+y8887MmTMHgH/9619su+22/O53v+Ott97i0EMP5fnnn2fBggWceuqpjBw5soOrlyR1NwZpSV3GRRddRG1tLdOnTwfgoYceWvzefvvtx5e+9CUALr30UjbbbDPuuOMOXn31VTbddFMOOeQQPvKRj3RI3ZKk7sk10j1QRNRExLRGbWdExKkRMSYipkfEpIh4PCJ2aIP+G5b3OUvUUBcRn63aPiYivt6RNallM2fO5K677uKoo476wHtz5szh/vvvZ5999gEgIpgzZw6ZSUNDA2uvvTa9ejlvIElavvyXRU05LTN/HREjgMuBwWVPFBG9MnPBhzg+gMjM95dz33VAA/AIQGaOLluj2sfJJ5/Mueeeu3gpR7Xf/va37Lrrrqy++uoAHH/88Xzxi19kgw02YM6cOdx8882ssILzBpKk5ct/WdSSB4GNm3szIoZGxISImBIRv42ItYr2+oj4cUSMA06KiI0i4tGI+EtEnNXoHKcV7VMi4odFW01EPBURPwceBz5RzJRPi4ipEfHNFmpq3PcXIuJPETExIv4YEetFRA1wDPDNYuZ950Uz8i1dlzrOnXfeybrrrsvWW2/d5Ps33ngjBx100OLte+65h6FDh/LSSy8xadIkjj/+eGbPnt1e5UqSeghnpNWSLwBTW3j/WuCEzBwXEWcCPwBOLt5bMzM/BxARtwOXZea1EXHcooOLGe9PA9sCAdweEbsAzwObAiMz89iI2Brol5lbFMetuZS6q/teC9g+MzMijgL+OzO/FRGjgYbMPL/Yb9dWXtdiEXE0cDRA377r8P1BpSfetRQ33vi/jB07lt/85je89957zJ07l+HDh/Od73yHt956i0ceeYRvfvOb1NfXA3D++edz8MEHM27cOADWWmstbrjhBmprazvwKrquhoaGxWOrtud4ty/Hu311t/E2SPdMuZT28yLiu8CrwJFN7RgRa1AJrOOKpmuAW6p2ubnq9Y7AfsXr64Bzitcjij8Ti+0+VIL188A/MnNC0f53YEBE/Ay4Cxjb4tUt2feGwM0RsT7wEWB6Swe24roWy8wrgCsA+g/YOC+Y6l+ntjLjhhsWv66vr+fb3/429957LwCjR49mn332YcSIEYv32XLLLXnjjTeoq6vjlVde4ZVXXuErX/kKffv2bffau4P6+nrq6uo6uowew/FuX453++pu4+3Sjp7pdaDxcoW1gdeK16dl5tDMHJ6Z0yhnbqPtpsJ7AKOKvoZm5saZ+cvGx2fmm8AQoB44DrhyGfr+GXBJZg4C/hPo3fpLUFdw0003LbGsA+B73/sejzzyCIMGDWLXXXflnHPOMURLkpY7p9B6oMxsiIiXI2LXzLwvItYGdgcuAoa18hxvRcSbEbFzZj4EfA0Y18zu44GvAtcDh1S13wOcFRE3FDX1A+Y3Pjgi+gLvZeatEfEcMKaVlwqwBvBi8fqwqvY5wOof8rrUAerq6hg1atTi7aZ+RbjBBhswduzSfnEhSdKHY5Duub4OXBoRFxTbP8zM5yoPyWi1w4DREbEKleUXzX3ixUnAryLiJODWRY2ZOTYiaoFHi34bgEOBhY2O7wdcHRGLfoPy7WWo8Qzgloh4EZgAbFS03wH8OiK+BJxQ8rokSVIPZpDuoTLzSZqYfc7Mw5fhHJOA7Ztor2u0PR2ofh712VXvXURlJryxLar2mQxs1cqaGvd9G3BbE/v9jSUf6/dQ1XtNXldLVl5pRZ7xY6wlSepRXCMtSZIkleCMtJYqIi6l8uSNahdl5tUdUQ90zpokSVLPYpDWUmXmcUvfq311xpokSVLP4tIOSZIkqQSDtCRJklSCQVqSJEkqwSAtSZIklWCQliRJkkowSEuSJEklGKQlSZKkEgzSkiRJUgkGaUmSJKkEg7QkSZJUgkFakiRJKsEgLUmSJJVgkJYkSZJKMEhLkiRJJRikJUmSpBIM0pIkSVIJBmlJkiSpBIO0JEmSVIJBWpIkSSrBIC1JkiSVYJCWJEmSSjBIS5IkSSUYpCVJkqQSDNKSJElSCQZpSZIkqQSDtCRJklTCMgfpiFgrIga3RTGSJElSV9GqIB0R9RGxekSsDUwGro6In7RtaZIkSVLn1doZ6TUyczbwZeDqzNwa+HzblSVJkiR1bq0N0r0iYn3gAODONqxHkiRJ6hJaG6TPBO4BnsvMv0TEAODZtitLkiRJ6tx6tWanzLwFuKVq++/Afm1VlCRJktTZtfZmw00i4r6ImFZsD46I77ZtaZIkSVLn1dqlHb8Avg3MB8jMKcBX26ooSZIkqbNrbZBeJTP/3KhtwfIuRpIkSeoqWhukX4uITwEJEBH7Ay+3WVWSJElSJ9eqmw2B44ArgIER8SIwHTikzaqSJEmSOrmlBumIWAHYJjM/HxGrAitk5py2L02SJEnqvJa6tCMz3weOL17PNURLkiRJrV8jfW9EnBoRn4iItRf9adPKJEmSpE6stWukjyj+e1xVWwIDlm85Utc0b/5Cak6/q6PL6BJmnL1XR5cgSdJy0aoZ6czcqIk/hmhJH8rChQvZcsst2XvvvQG45JJL2HjjjYkIXnvttcX7Pf300+ywww589KMf5fzzz++ociVJWkKrZqQj4utNtWfmtcu3HEk9yUUXXURtbS2zZ88GYMcdd2Tvvfemrq5uif3WXnttLr74Yn73u991QJWSJDWttWukP1P1Z2fgDOCLbVSTupmIqFn08fJVbWcU6+7HRMT0iJgUEY9HxA5t0H/D8j6nPryZM2dy1113cdRRRy1u23LLLampqfnAvuuuuy6f+cxnWGmlldqxQkmSWtaqGenMPKF6OyLWAK5rk4rUE52Wmb+OiBHA5cDgsieKiF6ZWfpTNyMigCieVqM2dPLJJ3PuuecyZ44PApIkdU2tvdmwsbeBTy/PQiTgQWDj5t6MiKHAaGAV4DngiMx8MyLqgUeAHYHbI+I3wK+ofH/f3egcpwEHAB8FfpuZP4iIGuAPwAPADsA+EfFDYBsqN9VelZkXNlHP0cDRAH37rsP3B5XO7z1KfX09jz76KPPnz2fOnDlMmjSJ119/nfr6+sX7vPPOO4wfP5411lhjiWNnzJjByiuvzMCBA5fYX22roaHB8W5Hjnf7crzbV3cb79aukb6D4uPBqSwH2Qy4pa2KUo/1BWBqC+9fC5yQmeMi4kzgB8DJxXtrZubnACLiduCyzLw2IhY/aaaY8f40sC0QVEL3LsDzwKbAyMw8NiK2Bvpl5hbFcWs2VUxmXkHlEz/pP2DjvGBq2Z9Le5YZh9Rxzz338Nhjj3H44YfzzjvvMHv2bK688kquv/56AHr37s2OO+5I3759lzi2vr6ePn360KdPnw+so1bbqa+vd7zbkePdvhzv9tXdxru1//JX3ya/APhHZs5sg3rUPeVS2s+LiO8CrwJHNrVjsZxozcwcVzRdw5I/zN1c9XpHYL/i9XXAOcXrEcWficV2HyrB+nkq39MTiva/AwMi4mfAXcDYFq9Oy2zUqFGMGjUKqPxP9fzzz18coiVJ6ipaG6T3zMz/V90QEec0bpOa8TqwVqO2tYHpxevTMvPXH7KPuY22mwrvAYzKzMuXaKws7Vh8fLFcZAiwG5Vnpx/Av5+lrjZ08cUXc+655/LPf/6TwYMHs+eee3LllVfyz3/+k2222YbZs2ezwgorsNJKK/Hcc8+x+uqrd3TJkqQerLVP7RjeRNsey7MQdV+Z2QC8HBG7AhSfirk78PAynOMt4M2I2Llo+howrpndxwNfLV4fUtV+D3BERPQp6ugXEes2Pjgi+gIrZOatwPeArVpbp5ZdXV0dd955JwAnnngiM2fOZMGCBbz00ktceeWVAHz84x9n5syZzJ49m1mzZnHLLbcYoiVJHa7FGemI+C/gWCq/5p5S9dZqVMKK1FpfBy6NiAuK7R9m5nOVh2S02mHA6IhYhcryi5HN7HcS8KuIOAm4dVFjZo6NiFrg0aLfBuBQYGGj4/sBV0fEoh80v70sRUqSpJ5haUs7fkXlaQajgNOr2udk5httVpW6ncx8EhjWRPvhy3COScD2TbTXNdqeTuXpG4ucXfXeRcBFTZx+i6p9JrOMs9Arr7Qiz/jR15Ik9SgtBuni1+lvAQcBFL8G7w30iYg+mfl825coSZIkdT6tWiMdEV+IiGep3Bw2DphBZaZaWu4i4tLikw6r/zS3jEOSJKlDtPapHf9D5Vfqf8zMLSNiGMUstbS8ZeZxS99LkiSpY7X2qR3zM/N1YIWIWCEzHwCGtmFdkiRJUqfW2hnpWcUjwx4CboiIf1H5YBZJkiSpR2rtjPSXgLepfBzz3cBzVD7OWZIkSeqRWjUjnZlzI+KTwKcz85riOb4rtm1pkiRJUufV2qd2fAP4NbDoo5X7Ab9rq6IkSZKkzq61SzuOA3YEZgNk5rPABz5aWZIkSeopWhuk383M9xZtREQvINumJEmSJKnza22QHhcR/x+wckQMB24B7mi7siRJkqTOrbVB+nTgVWAq8J/A74HvtlVRkiRJUmfX4lM7IqJ/Zj6fme8Dvyj+SJIkST3e0makFz+ZIyJubeNaJEmSpC5jaUE6ql4PaMtCJEmSpK5kaUE6m3ktSZIk9WhL+2TDIRExm8rM9MrFa4rtzMzV27Q6SZIkqZNqMUhnph8DLkmSJDWhtY+/kyRJklTFIC1JkiSVYJCWJEmSSjBIS5IkSSUYpCVJkqQSDNKSJElSCQZpSZIkqQSDtCRJklSCQVqSJEkqwSAtSZIklWCQliRJkkowSEuSJEklGKQlSZKkEgzSkiRJUgkGaUmSJKkEg7QkSZJUgkFakiRJKsEgLUmSJJVgkJYkSZJKMEhLkiRJJRikJUmSpBIM0pIkSVIJBmlJkiSpBIO0JEmSVEKvji5A6g7mzV9Izel3dXQZ7W7G2Xt1dAmSJHUYZ6QlfSjvvPMO2267LUOGDGHzzTfnBz/4AQBHHnkkQ4YMYfDgwey///40NDQA8PzzzzNs2DC23HJLBg8ezO9///uOLF+SpNIM0pI+lI9+9KPcf//9TJ48mUmTJnH33XczYcIELrzwQiZPnsyUKVPo378/l1xyCQD/8z//wwEHHMDEiRO56aabOPbYYzv4CiRJKscg3UlERH1EbNOZ+oiIoRGxZ1vW1B4ioqGja+jOIoI+ffoAMH/+fObPn09EsPrqqwOQmcybN4+IWLz/7NmzAXjrrbfYYIMNOqZwSZI+pC4TpCOi3dZzR0WXGZs2NBToUkH6w36f+LUvZ+HChQwdOpR1112X4cOHs9122wEwcuRIPv7xj/P0009zwgknAHDGGWdw/fXXs+GGG7Lnnnvys5/9rCNLlySptDYLDBFRExHTqrZPjYgzIuLEiHgyIqZExE3Fe6tGxFUR8ZeImBgRXyraD4+IWyLiDmBsM/30iYj7IuLxiJhadew5EXFs1X5nRMS3itenFX1NiYgfVtX7VET8HHgc+EREXBYRf42IJxbtV+y7Z0Q8HREPR8TFEXFnS9fRTN0rR8RNRQ03AytXvfeBfiNi14j4bdU+wyPiNxGxYkSMiYhpxfV/cylfmkMj4pFi/22bqzsiPgKcCRwYEZMi4sDi/GsWYfP1iPh6cfx1EfH5opbzqsb2P6vqbWnMf1Fc69iIWLmpoov9h0bEhOIcv42ItYr2+oj4cUSMA06KiI0i4tGiv7ManaO1X/tlGdMeb8UVV2TSpEnMnDmTP//5z0ybVvmrf/XVV/PSSy9RW1vLzTffDMCNN97I4YcfzsyZM/n973/P1772Nd5///2OLF+SpFI64qkdpwMbZea7EbFm0fYd4P7MPKJo+3NE/LF4bwdgcGa+0cz53gH2zczZEdEXmBARtwM3AT8Ffl7sdwCwe0SMAD4NbAsEcHtE7AI8D2wKjMzMYwEi4juZ+UZErAjcFxGDgb8BlwO7ZOb0iLixqpYmryMz5zZR938Bb2fm4OK8j1efp4l+7wcujYh1MvNVYCRwNZVZ436ZuUVR85q0bNXM/GxxzVcBWzRVN/BH4PvANpl5fHHuYcCOwD+AvwM7A9cC2xfXcyTwVmZ+JiI+CoyPiLHFeDc35p8GDsrMb0TE/wL7Adc3U/u1wAmZOS4izgR+AJxcvLdmZn6uqPN24LLMvDYijlt0cGu/9hGxdWvGNCKOBo4G6Nt3Hb4/aMFShr77qa+v/0BbTU0Nl156KQceeODitk022YQrrriCjTbaiIsvvphzzz138bGzZs3itttuY6211mp1vw0NDU32rbbheLcvx7t9Od7tq7uNd0cE6SnADRHxO+B3RdsI4IsRcWqx3RvoX7y+t4UQDZVA9OMiEL0P9APWy8yJEbFuRGwArAO8mZnPR8SJRX8Ti+P7UAlXzwP/yMwJVec+oAhLvYD1gc2ozOL/PTOnF/vcSBGmWriOp5qoexfgYoDMnBIRU1rqt9jnOiozyldT+QHj68BqwICI+BlwF83M3Fe5sejzwYhYvQiJLY1/tYeKuv8BXAYcHRH9gDcys6EIqoMjYv9i/zWojO0Imh/z6Zk5qWh/DKhpquiIWINKWB5XNF0D3FK1y81Vr3ekEsgBrgPOKV63VEf11/7vtGJMM/MK4AqA/gM2zgum9rynSc44pI5XX32VlVZaiTXXXJN58+bxve99j//+7/9mww03ZOONNyYzufPOO9lxxx2pq6ujtraWt99+m7q6Op56qvJXY5999lm8hro16uvrqaura6OrUmOOd/tyvNuX492+utt4t+W//AtYculI7+K/e1EJY18EvhcRm1MJw/tl5jPVJ4iI7YCmZnOrHUIlKG+dmfMjYkZVX78G9gc+TmWGmqKvUZl5eaO+aqr7ioiNgFOBz2TmmxExpjhvS//aN3kdLcgPnKD5fqEyA30HlVn4WzJzAfBmRAwBdgOOozLzfsQy9JnN1V2Mf7UHiz76U5nF3pfK+D606BAqM8b3NDrPbjQ/5u9WNS2kaonLMmr8ffKBsaWVX/ti3JdlTHu0l19+mcMOO4yFCxfy/vvvc8ABB7DXXnux8847M3v2bDKTIUOGcNlllwFwwQUX8I1vfIMLL7yQiGDMmDHLFKIlSeos2jJIvwKsGxEfAxqAvanM7H0iMx+IiIeBg6nMCt4DnBARJ2RmRsSWmTmx2TMvaQ3gX0WIHgZ8suq9m4BfAH2BzxVt9wBnRcQNxSxqP2B+E+ddnUq4eisi1gP2AOqBp6nMVtZk5gzgwKpjluU6HqTyQ8ADEbEFMHgp/ZKZL0XES8B3geEAxXKW9zLz1oh4DhjT8nBxYNHnTlSWYbwVEc3VPYfKjDdF/y8U/X0kM/9efA1PBY6vuv7/ioj7i6/HJsCLtH7Mm1XU+WZE7JyZDwFfA8Y1s/t44KtUlogcUtXeqjpKjGmPNnjwYCZO/OC3+fjx45vcf7PNNmv2PUmSupI2C9JFkDoT+BMwnUoAXRG4vvg1fQAXZuas4oawnwJTojI1NYNK8G6NG4A7IuKvwKSin0U1PBERqwEvZubLRdvYiKgFHi1mwRqAQ6nMhlbXPzkiJgJPUPlV//iifV5UbmK8OyJeo7KeeJFluY7LgKuLJR2TFp2nuX4bXe86mflksd2vOM+i2f9vtzRYVGawH6ES2BfNsjZX9wPA6RExicpM7s1Uvp4rFsc9BIwCHi62r6SyNOPx4jyvAvu0dsxb4TBgdESsQmVsRjaz30nAryLiJODWRY3LUMeyjqkkSeqBIrOp34CrJRHRp5jRDOBS4NnMvLCd+r4EmJiZv2yP/tQ6m266aT7zTGtX9OjD6m5r7Do7x7t9Od7ty/FuX11lvCPiscxc6mdv+Lzccr5RzNI+QWVpyeVL2X+5iIjHqCwBae6pFpIkSWonXeYxAxExiMoTGKq9m5mNb4hrc8Xsc6tmoIsb7c5p1Dw9M/ct0e/WrezzUipPrqh2UWZevax9doSuXr8kSeoZukyQzsypVJ6Z3KUUT7C4Z6k7Lt8+j1v6Xp1XV69fkiT1DC7tkCRJkkowSEuSJEklGKQlSZKkEgzSkiRJUgkGaUmSJKkEg7QkSZJUgkFakiRJKsEgLUmSJJVgkJYkSZJKMEhLkiRJJRikJUmSpBIM0pIkSVIJBmlJkiSpBIO0JEmSVIJBWpIkSSrBIC1JkiSVYJCWJEmSSjBIS5IkSSUYpCVJkqQSDNKSJElSCQZpSZIkqQSDtCRJklSCQVqSJEkqwSAtSZIklWCQliRJkkowSEuSJEklGKQlSZKkEgzSkiRJUgkGaUmSJKkEg7QkSZJUgkFakiRJKsEgLUmSJJVgkJYkSZJKMEhLkiRJJRikJUmSpBIM0pIkSVIJBmlJkiSpBIO0JEmSVIJBWpIkSSqhV0cXIHUH8+YvpOb0uzq6jA9lxtl7dXQJkiR1Kc5IS5IkSSUYpCUt9sILLzBs2DBqa2vZfPPNueiiiwA48MADGTp0KEOHDqWmpoahQ4cC8PrrrzNs2DD69OnD8ccf35GlS5LU7lzaoeUmImqAOzNzixLH1gHvZeYjy7ksImIGsE1mvra8z93d9OrViwsuuICtttqKOXPmsPXWWzN8+HBuvvnmxft861vfYo011gCgd+/enHXWWUybNo1p06Z1VNmSJHUIZ6S1VBGxYjt0Uwd89sOeJCI+9A+H7XS9ndL666/PVlttBcBqq61GbW0tL7744uL3M5P//d//5aCDDgJg1VVXZaeddqJ3794dUq8kSR3JIN3DRURNRDwdEddExJSI+HVErBIRMyLi+xHxMPCViBgaEROKfX4bEWsVx28dEZMj4lHguKrzHh4Rl1Rt31nMOhMRu0fE48Vx9xUz2ccA34yISRGxczO1frLYf0rx3/5F+5iI+ElEPACcExEfi4ixETExIi4Houoch0bEn4t+Ll8UmiOiISLOjIg/ATtExNkR8WTR1/nLc8y7ihkzZjBx4kS22267xW0PPfQQ6623Hp/+9Kc7sDJJkjoHl3YIYFPgyMwcHxFXAccW7e9k5k4AETEFOCEzx0XEmcAPgJOBq6vaz1taRxGxDvALYJfMnB4Ra2fmGxExGmjIzJZC6yXAtZl5TUQcAVwM7FO8twnw+cxcGBEXAw9n5pkRsRdwdNF3LXAgsGNmzo+InwOHANcCqwLTMvP7EbE28EtgYGZmRKzZzLUcvejcffuuw/cHLVja5Xdq9fX1i1/PmzePk046iaOOOorHH398cfuFF17Itttuu8S+AE8//TQvvvjiB9rbSkNDQ7v1Jce7vTne7cvxbl/dbbwN0gJ4ITPHF6+vB04sXt8MEBFrAGtm5rii/RrglibarwP2WEpf2wMPZuZ0gMx8Yxnq3AH4clVf51a9d0tmLixe77Jov8y8KyLeLNp3BbYG/hIRACsD/yreWwjcWryeDbwDXBkRdwF3NlVMZl4BXAHQf8DGecHUrv3XacYhdQDMnz+fvffem2OOOYZTTjll8fsLFizgwAMP5LHHHmPDDTdc8tgZM2hoaKCurq5daq2vr2+3vuR4tzfHu3053u2ru4131/6XX8tLNrM9dynHRRPHLrKAJZcOLVpE29Ixy6r6PI1rbaqPAK7JzG838d47i4J4Zi6IiG2pBO+vAscD/7Ec6u30MpMjjzyS2traJUI0wB//+EcGIGCG+wAAIABJREFUDhz4gRAtSVJP5RppAfSPiB2K1wcBD1e/mZlvAW9WrV3+GjAuM2cBb0XETkX7IVWHzQCGRsQKEfEJYNui/VHgcxGxEUCxjAJgDrDaUup8hEqwXdTXw83s9+CiWiJiD2Ctov0+YP+IWHdR3xHxycYHR0QfYI3M/D2V5StDl1JXtzF+/Hiuu+467r///sWPu/v9738PwE033bT4JsNqNTU1nHLKKYwZM4YNN9yQJ598sr3LliSpQzgjLYCngMOKG/OeBS4DTmi0z2HA6IhYBfg7MLJoHwlcFRFvA/dU7T8emA5MBaYBjwNk5qvF2uLfRMQKVJZWDAfuAH4dEV+isub6oSbqPLHo6zTg1aoaGvshcGNEPA6MA54v+n4yIr4LjC36nk/lBsl/NDp+NeC2iOhNZRb7m8300+3stNNOZDb9C4MxY8Y02T5jxoy2K0iSpE7MIC2A9zPzmEZtNdUbmTmJyvpmGrU/BgypajqjaE+WnKGuPuYPwB8atf0NGNxSkZk5gyaWWGTm4Y22XwdGVDV9s+q9mynWfjc6pk/V65f59wx6q6y80oo840dsS5LUo7i0Q5IkSSrBGekerpjlXeZPImxLEfEd4CuNmm/JzB91RD2SJElNMUir0ykCs6FZkiR1ai7tkCRJkkowSEuSJEklGKQlSZKkEgzSkiRJUgkGaUmSJKkEg7QkSZJUgkFakiRJKsEgLUmSJJVgkJYkSZJKMEhLkiRJJRikJUmSpBIM0pIkSVIJBmlJkiSpBIO0JEmSVIJBWpIkSSrBIC1JkiSVYJCWJEmSSjBIS5IkSSUYpCVJkqQSDNKSJElSCQZpSZIkqQSDtCRJklSCQVqSJEkqwSAtSZIklWCQliRJkkowSEuSJEklGKQlSZKkEgzSkiRJUgkGaUmSJKkEg7QkSZJUgkFakiRJKsEgLUmSJJVgkJYkSZJKMEhLkiRJJRikJUmSpBIM0pIkSVIJBmlJkiSpBIO0JEmSVIJBWpIkSSrBIC1JkiSV0KujC5C6g3nzF1Jz+l0dXcZSzTh7r44uQZKkbsMZaakHeeGFFxg2bBi1tbVsvvnmXHTRRQCcdtppDBw4kMGDB7Pvvvsya9YsAObPn89hhx3GoEGDqK2tZdSoUR1ZviRJnYpBWupBevXqxQUXXMBTTz3FhAkTuPTSS3nyyScZPnw406ZNY8qUKWyyySaLA/Mtt9zCu+++y9SpU3nssce4/PLLmTFjRsdehCRJnYRBWksVETURMa3ksXUR8dnlXdMy1jAmIvbvyBo6i/XXX5+tttoKgNVWW43a2lpefPFFRowYQa9elZVe22+/PTNnzgQgIpg7dy4LFixg3rx5fOQjH2H11VfvsPolSepMDNI9WESs2A7d1AGtDtIR8aHW7X/Y45fXObqCGTNmMHHiRLbbbrsl2q+66ir22GMPAPbff39WXXVV1l9/ffr378+pp57K2muv3RHlSpLU6fSIwNATRUQNcDfwJ2BL4G/A14EngauAEcAlEfE0MBpYBXgOOCIz34yIrYv93gYerjrv4cA2mXl8sX0ncH5m1kfE7sCPgRWB14AjgWOAhRFxKHBCZj7URK1jgDeKOh+PiO8DPwMGUfkePSMzb4uI3sBlwDbAAuCUzHygqGkvoDewakTsWhz/H8B0IKr62hr4CdCnqPHwzHw5IuqBR4Adgdsj4nngB8BC4K3M3KWJuo8Gjgbo23cdvj9oQfNfkE6ivr4egHnz5nHSSSdx1FFH8fjjjy9+//rrr2fWrFn069eP+vp6pk6dymuvvcaNN97InDlzOOmkk+jTpw8bbLBBB11BRUNDw+JrUdtzvNuX492+HO/21d3G2yDdvW0KHJmZ4yPiKuDYov2dzNwJICKmUAm44yLiTCrh8WTg6qr285bWUUSsA/wC2CUzp0fE2pn5RkSMBhoy8/ylnGIT4POZuTAifgzcn5lHRMSawJ8j4o9UQjmZOSgiBgJjI2KT4vgdgMFFn18urn0QsB7FDw8RsRKVgP2lzHw1Ig4EfgQcUZxjzcz8XHE9U4HdMvPFooYPyMwrgCsA+g/YOC+Y2vn/Os04pI758+ez9957c8wxx3DKKacsfu+aa67hiSee4L777mOVVVYBKmukDzvsMD7/+c8DcMcdd9CrVy/q6uo6ovzF6uvrO7yGnsTxbl+Od/tyvNtXdxtvl3Z0by9k5vji9fXATsXrmwEiYg0q4XFc0X4NsEsT7de1oq/tgQczczpAZr6xjLXekpkLi9cjgNMjYhJQT2WmuX9R/3XF+Z8G/kElgAPcW9XnLsCNmbkwM18C7i/aNwW2AO4tzv1dYMOqGm6uej0eGBMR36Ayw94tZCZHHnkktbW1S4Tou+++m3POOYfbb799cYgG6N+/P/fffz+Zydy5c5kwYQIDBw7siNIlSep0Ov8Umj6MbGZ77lKOiyaOXWQBS/4A1rsVx7RGdU0B7JeZzyxRVETQvMbX1FQtATyRmTss7RyZeUxEbEdlycikiBiama+30H+XMH78eK677joGDRrE0KFDAfjxj3/MiSeeyLvvvsvw4cOByg2Ho0eP5rjjjmPkyJFsscUWZCYjR45k8ODBHXkJkiR1Ggbp7q1/ROyQmY8CB1FZ67zlojcz862IeDMidi7WLn8NGJeZsyLirYjYKTMfBg6pOucM4NiIWAHoB2xbtD8KXBoRG1Uv7QDmAMv6mId7gBMi4oTMzIjYMjMnAg8WtdxfLOnoDzwDbNXo+AeB/4yIa4F1gWHAr4p911k0JsVSj00y84nGBUTEpzLzT8CfIuILwCeALh+kd9ppJzI/+DPGnnvu2eT+ffr04ZZbbmnrsiRJ6pJc2tG9PQUcVqyDXpvKjXqNHQacV+wzFDizaB9JJRg/Csyr2n88lRv4pgLnA48DZOarVG68+01ETObfyyTuAPaNiEkRsXMr6z4LWAmYUjx276yi/efAisX65Zup3Cj4bhPH/xZ4tqjxMmBcUeN7wP7AOUWNk2j+iSLnRcTUov8HgcmtrF2SJPUQzkh3b+9n5jGN2mqqNzJzEpX1zTRqfwwYUtV0RtGeLDlDXX3MH4A/NGr7G9DiWoDMPLzR9jzgP5vY7x3g8CbaxwBjqrYTOL6ZviZRWUPduL2u0faXW6q5sZVXWpFn/PhtSZJ6FGekJUmSpBKcke6mMnMGlSdUdBoR8R3gK42ab8nMH3VEPZIkSR+GQVrtpgjMhmZJktQtuLRDkiRJKsEgLUmSJJVgkJYkSZJKMEhLkiRJJRikJUmSpBIM0pIkSVIJBmlJkiSpBIO0JEmSVIJBWpIkSSrBIC1JkiSVYJCWJEmSSjBIS5IkSSUYpCVJkqQSDNKSJElSCQZpSZIkqQSDtCRJklSCQVqSJEkqwSAtSZIklWCQliRJkkowSEuSJEklGKQlSZKkEgzSkiRJUgkGaUmSJKkEg7QkSZJUgkFakiRJKsEgLUmSJJVgkJYkSZJKMEhLkiRJJRikJUmSpBIM0pIkSVIJBmlJkiSpBIO0JEmSVIJBWpIkSSrBIC1JkiSVYJCWJEmSSjBIS5IkSSUYpCVJkqQSDNKSJElSCQZpSZIkqYReHV2A1B3Mm7+QmtPv6ugyWjTj7L06ugRJkroVZ6SlHuSFF15g2LBh1NbWsvnmm3PRRRcBcNpppzFw4EAGDx7Mvvvuy6xZsxYfM2XKFHbYYQc233xzBg0axDvvvNNR5UuS1KkYpKUepFevXlxwwQU89dRTTJgwgUsvvZQnn3yS4cOHM23aNKZMmcImm2zCqFGjAFiwYAGHHnooo0eP5oknnqC+vp6VVlqpg69CkqTOwSCt0iKiJiIObsV+QyNiz1bsVxcRdy6f6pY4b31EbLO8z9sVrb/++my11VYArLbaatTW1vLiiy8yYsQIevWqrPTafvvtmTlzJgBjx45l8ODBDBkyBICPfexjrLjiih1TvCRJnYxBWksVEc2tpa8BlhqkgaHAUoP08tBCrctyjh6RFGfMmMHEiRPZbrvtlmi/6qqr2GOPPQD429/+RkSw2267sdVWW3Huued2RKmSJHVK3mzYDUVEDXBnZm5RbJ8K9AHeAI4BFgBPZuZXI2JV4GfAICrfD2dk5m0RcTiwF9AbWBX4jya6OhuojYhJwDXAZcWfbYo+TgHGA2cCK0fETsAoYDrwU2BlYB4wMjOfacV1rQ1cBQwA3gaOzswpEXEGsAGVYP9aRBwJXA1sBjxV9LPoHCOAHwIfBZ4r+m6IiBnFuUcAl0TEuo3Hamn1dSUNDQ3st99+/PSnP2X11Vdf3P6jH/2IXr16ccghhwCVpR0PP/wwf/nLX1hllVXYdddd+f/bu/c4q+p6/+OvT3jJ1FAEs7yEdyTE6UBejhyc8pJmpf6szKhE7Xg8iZmmaT/LtJsmWZpZZKVUp5SsTNLzQ00ZVPKSIje1yQtUmjc0RRBR8PP7Y6+ZNsNcF8weZub1fDzmMWt/11rf9VlftuN7vvPde48aNYr999+/p0qXJGmdYZDuX84Cts/M5RGxWdF2NnBrZh5XtN0TEX8o9u0DjMzM59vp7/TMfD9ARHwOIDN3j4hhwE3ALsA5wOjMnFAc92ZgbGauiIgDgG8AR3ai/vOA+zPz8Ih4D/AzKrPdAKOAMZm5LCJOA17OzJERMRKYVVx3MPBF4IDMXBoRZ1IJ+18p+nglM8cUx/6jlbFaRUScAJwAMHjwEM7ZfUUnbqHnNDQ0AJVw/IUvfIG99tqLQYMGNbdPmzaN3//+91x00UXMmDEDgMWLF7Prrrsyf/58AHbbbTeuueaaHl/esWTJkua61f0c79pyvGvL8a6tvjbeBun+ZS7wi4j4HfC7ou0g4IPFrDVUZqC3K7ZvbidEt2YMldltMvPPEfFXKkG6pYHATyNiZyCBzr56bQxF4M7MWyNii4gYWOybmpnLiu2xwHeL4+ZGxNyifW8qs9QzIwJgA+DOqv6nVG23NlaryMzLgcsBttthp7xo3rr9n9PCcfVkJscccwz77rsvF198cfO+adOmMXXqVGbMmMGQIUOa2/fYYw/2339/9txzTzbYYAO+9rWvceqpp1JfX98Dd/AvDQ0NPV5Df+J415bjXVuOd231tfFet//Pr7JWsOr69zcW3w+lEjI/CHwpIt4BBHBky6UVEbEXsLSL141OHvdVYHpmHlEsQ2lYg/6z+N6y1mx5YHH+zZl5dBv9V/ex2lhl5ro95dwJM2fO5Oc//zm77747dXWVyfxvfOMbfOYzn2H58uUceOCBQOUFh5MmTWLzzTfntNNO413vehcRwfve9z4OPdT3o5YkCQzSfdXTwJYRsQWwBHg/lWUW22bm9Ii4g8qLBDcBbgROjoiTMzMj4p2ZeX8nr/MSsGnV49uAccCtEbELlZntRmDnFscNBJ4otsd34b6a+v9qRNQDizJzcTG73Npx0yNiBDCyaL8LuCwidsrMRyLiTcA2mfmX6pMj4g20PlYv0MuNGTOGzNV/x3jf+9p+LejHP/5xPv7xj3dnWZIk9Uq+a0cflJmvUVn3ezdwPfBnYADwPxExD7gf+E5mvkBldnh9YG5EzC8ed9ZcYEVEzImIU4HvAwOKa0wBxmfmcmA6MDwiZkfEUcCFwPkRMbOoq7POBUYXSzUuAI5p47gfAJsUx30euAcgM5+lEtyvKvbdBQxr5fy2xkqSJKmZM9J9VGZ+l2KdcAfHLQP+q5X2ycDkDs59DWj59g3jWznueeBdLZqr105/qTiugXaWeRT9HNZK+7ktHi8DWn2Xjcy8tZVayMyhVduvUVmP3WkbrT+ARj+CW5KkfsUZaUmSJKkEZ6TVoYjYHfh5i+blmblXa8evhesdC5zSonlmZp7UHdeTJEkqwyCtDmXmPP71fs21uN6VVD5QRZIkaZ3l0g5JkiSpBIO0JEmSVIJBWpIkSSrBIC1JkiSVYJCWJEmSSjBIS5IkSSUYpCVJkqQSDNKSJElSCQZpSZIkqQSDtCRJklSCQVqSJEkqwSAtSZIklWCQliRJkkowSEuSJEklGKQlSZKkEgzSkiRJUgkGaUmSJKkEg7QkSZJUgkFakiRJKsEgLUmSJJVgkJYkSZJKMEhLkiRJJRikJUmSpBIM0pIkSVIJBmlJkiSpBIO0JEmSVIJBWpIkSSrBIC1JkiSVYJCWJEmSSjBIS5IkSSUYpCVJkqQSDNKSJElSCQZpSZIkqQSDtCRJklSCQVqSJEkqwSAtSZIklWCQliRJkkowSEuSJEklGKQlSZKkEgzSkiRJUgnr9XQBUl+w7LWVDD3rhh659sILDu2R60qS1N85Iy31AccddxxbbrklI0aMaG476qijqKuro66ujqFDh1JXV9e87/zzz2ennXZi11135cYbb+yJkiVJ6vWckZb6gPHjxzNhwgQ++clPNrdNmTKleftzn/scAwcOBODBBx/k6quv5oEHHuAf//gHBxxwAH/5y18YMGBAzeuWJKk3c0Z6LYqIoRExv0XbuRFxekRMjogFETE7ImZFxD49VWdvExGjI+K7PXDduoh4X62vW8bYsWMZNGhQq/syk1/96lccffTRAFx33XV89KMfZcMNN2T77bdnp5124p577qlluZIk9QkG6do6IzPrgLOAH9bywhHRa//6kJn3ZuZnannNYrzqgF4RpNtz++2385a3vIWdd94ZgCeeeIJtt922ef8222zDE0880VPlSZLUa/XacNXL3Qbs1NbOiPhP4ARgA+AR4BPA+sAcYIfMfD0i3gQ0AjsA2wGXAUOAl4H/zMw/R8Rk4HngncCsiJgCXAxsBCwDjs3MxqKvycAw4CFgKHBSZt4bEQcB5wEbAo8W5yxpo+6FwBTg3UXTxzLzkYh4O3BFUd+zRR9/i4gPA18GVgIvZubYNvqtB07PzPdHxLnF/Tbd98WZ2eZsdUR8EjgdSGBuZn4iIj4AfLEY3+eAcZn5dNH324r7XwSMATaKiDHA+Zk5pUXfJ1D5d2Lw4CGcs/uKtsroVg0NDQA89dRTLF26tPlxk+985zvsueeeze2PP/44Dz30UPPjJ598kgceeIDBgwfXrug1tGTJktXuU93H8a4tx7u2HO/a6mvjbZDuGR8A5rWz/7eZ+SOAiPgacHxmXhoRc4D9gOlFHzdm5msRcTlwYmY+HBF7Ad8H3lP0tQtwQGaujIg3A2Mzc0VEHAB8AzgS+DTwz8wcGREjgNnFtQdTCZwHZObSiDgTOA34Sju1L87MPYsAezHwfuB7wM8y86cRcRzwXeBw4BzgvZn5RERs1oXxG0YlrG8KNEbEDzLztZYHRcQ7gLOBfTNzUUQ0rX24A9g7MzMiPgV8HvhcsW8UMCYzl0XEeGB0Zk5orYjMvBy4HGC7HXbKi+b1zH9OC8fVV74vXMjGG29MfX19874VK1Zw1FFHcd9997HNNtsAcOeddwI0H3f++edz0EEHsc8+vWe1UUNDwyr3qe7leNeW411bjndt9bXxdmnH2pUdtE+MiNlUZjGPb6efERFxe0TMA8YB7yjapwBHFdsfBaZExCbAvwPXFH3/EHhrVV/XZObKYntgcdx84DtV/Y4BrgbIzPnA3KJ9b2A4MLPo+xjg7e3UDXBV1femZLYP8Mti++fF9QBmApOLGfiuvNLthsxcnpmLgGeAt7Rx3HuAXxfHkZnPF+3bADcW43sG/xoHgKmZuawLtazT/vCHPzBs2LDmEA3wwQ9+kKuvvprly5ezYMECHn74Yfbcc88erFKSpN7JIL12PQds3qJtEJVlAlCskc7MA4vA2pbJwITM3J3Ksoo3Fu1TgUOKmdVRwK1U/g1fKPpt+tqtqq+lVdtfBaZn5ggqM9pN/UYbdQRwc1W/wzOzvV8AYNVfJtr9xSIzT6Qy470tMDsituig7ybLq7ZX0vZfVqKNGi4FvleM73/xr3GAVcer1zj66KPZZ599aGxsZJtttuEnP/kJAFdffXXziwybvOMd7+AjH/kIw4cP5+CDD+ayyy7zHTskSSrBIL0WFWuHn4yI/QGKwHswlaUEXbFp0c/6VGakq/u/B7gEuD4zV2bmYmBBsd6YqNijjX4HAk2vKhtf1X4H8JHi/OHA7kX7XcC+EbFTse9NEbFLB7UfVfX9zmL7j1Rm0Cnu546ivx0z8+7MPIfKLxvbsnbdAnykKaBXLe2oHodj2jn/JSr/Fuu8q666iieffJLXXnuNxx9/nOOPr/y+M3nyZE488cTVjj/77LN59NFHaWxs5JBDDql1uZIk9QmukV77PglcFhEXFY/Py8xHI9qa9G3Vl4C7gb9SWUtdHeamANcA9VVt44AfRMQXqbwo8WoqL0xs6ULgpxFxGpXZ7CbfL9rnAvdTWdrxYmY+W6wTvioiNiyO/SLwl3Zq3zAi7qbyS1rTVOhngCsi4gyKFxsW7RMjYmcqM8e3tFFzaZn5QER8HZgRESup3Nt44FwqS1yeoPLLwvZtdDEdOKtY1rLaiw2rbbT+ABr9hEFJkvqVyGzrr+/qLyJiALB+Zr4SETtSCbW7ZOarXexnIZUX5y3q6Ni+Ztddd83GxsaeLqPf6GsvVlnXOd615XjXluNdW71lvCPivswc3dFxzkgL4E3A9GIpSQD/3dUQLUmS1N8YpHtQRFwG7Nui+ZLMvLKWdWTmS0CHv3U1iYhrWX05xJmZOXRN6oiI9wLfbNG8IDOP6OC8LajMore0f2Y+tyY1SZIktcUg3YMy86SerqGMjoLtGvR7I3BjifOeo/IphJIkSTXju3ZIkiRJJRikJUmSpBIM0pIkSVIJBmlJkiSpBIO0JEmSVIJBWpIkSSrBIC1JkiSVYJCWJEmSSjBIS5IkSSUYpCVJkqQSDNKSJElSCQZpSZIkqQSDtCRJklSCQVqSJEkqwSAtSZIklWCQliRJkkowSEuSJEklGKQlSZKkEgzSkiRJUgkGaUmSJKkEg7QkSZJUgkFakiRJKsEgLUmSJJVgkJYkSZJKMEhLkiRJJRikJUmSpBIM0pIkSVIJBmlJkiSpBIO0JEmSVIJBWpIkSSrBIC1JkiSVYJCWJEmSSjBIS5IkSSUYpCVJkqQSDNKSJElSCQZpSZIkqQSDtCRJklSCQVqSJEkqwSAtSZIklbBeTxcg9QXLXlvJ0LNu6PbrLLzg0G6/hiRJ6hxnpKVe5rjjjmPLLbdkxIgRq+371re+RUSwaNEiAK677jpGjhxJXV0do0eP5o477qh1uZIk9VkGaamXGT9+PNOmTVut/e9//zs333wz2223XXPb/vvvz5w5c5g9ezZXXHEFn/rUp2pZqiRJfZpBugdExNCImN+i7dyIOD0iJkfEgoiYHRGzImKfsn22d0xE1EXE+0rWPz4ivlfm3J4QEfURcX2J8zaLiE93R01rYuzYsQwaNGi19lNPPZULL7yQiGhu22STTZofL126dJV9kiRpzRik101nZGYdcBbww266Rh1QKkh3l4hY19bsbwasc0G6NVOnTmXrrbdmjz32WG3ftddey7Bhwzj00EO54ooreqA6SZL6pnUtuGhVtwE7tbUzIkYBVwAvA3dUtQ8ALgDqgQ2ByzLzh1X7NwC+AmwUEWOA84EFwMXARsAy4NjMbGyntrdFxDRgR+DazPx80ffRwP8FArghM88s2pdk5ibF9oeA92fm+IiYDDwPvBOYBXyuxT2+AXgMqMvMF4q2R4B9gbHAl4GVwIuZObadepv627O1+4yIdwBXAhtQ+QXzSOCrwI4RMRu4OTPPaNHXCcAJAIMHD+Gc3Vd0dPk11tDQAMBTTz3F0qVLaWho4JVXXuHMM89k4sSJzY9nzpzJwIEDAdh8882ZNGkSc+bMYcKECVx00UXdXmd3W7JkSfNYqPs53rXleNeW411bfW28DdLrtg8A89rZfyVwcmbOiIiJVe3HUwmW74qIDYGZEXETkACZ+WpEnAOMzswJABHxZmBsZq6IiAOAb1AJk22poxJ+lwONEXEplUD7TWAU8E/gpog4PDN/18F97gIckJkrW+7IzNcj4jrgCODKiNgLWJiZTxf38N7MfCIiNuvgGk3+3MZ9nghckpm/KH7RGEDlLwIjir8OrCYzLwcuB9huh53yonnd/5/TwnH1le8LF7LxxhtTX1/PvHnzeO6555gwYQIAixYt4uSTT+aee+5hq622aj63vr6eiy++mBEjRjB48OBur7U7NTQ0UF9f39Nl9BuOd2053rXleNdWXxtvg3TPyA7aJ0bEF4FnqYTi1UTEQGCzzJxRNP0cOKTYPggYWcz8AgwEdgb+0k5NA4GfRsTORR3rd3APt2Tmi0UtDwJvB7YAGjLz2aL9F1RmjTsK0te0FqKrTAHOofKLw0eLxwAzgckR8Svgtx1co0lb93kncHZEbAP8NjMf7i3riXfffXeeeeaZ5sdDhw7l3nvvZfDgwTzyyCPsuOOORASzZs3i1VdfZYsttujBaiVJ6jtcI90zngM2b9E2CFhUbJ+RmXWZeWBmtvUCwqDtQB5UZqrriq/tM/OmDmr6KjA9M0dQmQl/YwfHL6/aXknll7L2kmd1rS37XtrBte4EdoqIIcDhFKE5M08EvghsC8yOiM4kxFbvMzN/CXyQynKPGyPiPZ3oq0ccffTR7LPPPjQ2NrLNNtvwk5/8pM1jf/Ob3zBixAjq6uo46aSTmDJlii84lCRpLXFGugdk5pKIeDIi9s/MWyJiEHAwcAnw7k728UJEvBgRYzLzDmBc1e4bgf+OiFsz87WI2AV4okUXLwGbVj0eWHXM+BK3BXA3cElEDKaytONo4NJi39MRsRvQSGWZxkud7TQzMyKuBb4NPJSZzwFExI6ZeTdwd0R8gEqgfq6D7lq9z4jYAXgsM79bbI8E5rDqGK0Trrrqqnb3L1y4sHn7zDPP5Mwzz+zmiiRJ6p+cke45nwS+WLyQ7VbgvMx8tIt9HAtcFhF3UplJbfJj4EFgVvF2dz9k9V+apgPDi7eIkF3sAAAdlElEQVTZOwq4EDg/ImZSWR/cZZn5JPCFou85wKzMvK7YfRZwPZV7fbJE91OAj/OvZR1QWQIzr7jH24prdqSt+zwKmF/8ewwDflYE9pkRMb/FGnRJkiQis63VAZI6a9ddd83Gxvbe5ERrU197scq6zvGuLce7thzv2uot4x0R92Xm6I6Oc0ZakiRJKsE10r1ARFxG5X2Tq12SmVd283XfS+Xt7KotyMwjuul6xwKntGiemZkndfL8mtYrSZL6N4N0L9DZINkN172RygsXa3W9K6m8xV3Z82taryRJ6t9c2iFJkiSVYJCWJEmSSjBIS5IkSSUYpCVJkqQSDNKSJElSCQZpSZIkqQSDtCRJklSCQVqSJEkqwSAtSZIklWCQliRJkkowSEuSJEklGKQlSZKkEgzSkiRJUgkGaUmSJKkEg7QkSZJUgkFakiRJKsEgLUmSJJVgkJYkSZJKMEhLkiRJJRikJUmSpBIM0pIkSVIJBmlJkiSpBIO0JEmSVIJBWpIkSSrBIC1JkiSVYJCWJEmSSjBIS5IkSSUYpCVJkqQSDNKSJElSCQZpSZIkqQSDtCRJklSCQVqSJEkqwSAtSZIklWCQliRJkkowSEuSJEklGKQlSZKkEgzSkiRJUgkGaUmSJKkEg7QkSZJUwno9XYDUFyx7bSVDz7qhW/peeMGh3dKvJElaM85IS73Acccdx5ZbbsmIESOa28444wyGDRvGyJEjOeKII3jhhRcAWLhwIRtttBF1dXXU1dVx4okn9lTZkiT1aQZpqRcYP34806ZNW6XtwAMPZP78+cydO5dddtmF888/v3nfjjvuyOzZs5k9ezaTJk2qdbmSJPULBul+JCLGR8T31pV+1kIdG0bEHyJidkQc1Ynj6yPi+lrUtraNHTuWQYMGrdJ20EEHsd56ldVZe++9N48//nhPlCZJUr9lkO6jomKN/n0joqZr6Etc753A+plZl5lTuqOm3uKKK67gkEMOaX68YMEC3vnOd7Lffvtx++2392BlkiT1XQbpXiwiTouI+cXXZyNiaEQ8FBHfB2YB20bEsRHxl4iYAexbde6QiPhNRPyp+Nq3aD83Ii6PiJuAn7Vz+bdFxLSIeDgiLqzq9+iImFfU9M2q9iVV2x+KiMnF9uSI+HZETAe+SSsiYlBE/C4i5kbEXRExMiK2BP4HqCtmpHds49yDI+LPEXEH8H+q2veMiD9GxP3F912L9tsjoq7quJkRMbKdcehxX//611lvvfUYN24cAG9961v529/+xv3338+3v/1tPvaxj7F48eIerlKSpL7Hd+3opSJiFHAssBcQwN3ADGBX4NjM/HREvBU4DxgFvAhMB+4vurgE+E5m3hER2wE3ArsV+0YBYzJzWTsl1FGZEV4ONEbEpcBKKmF4FPBP4KaIODwzf9fB7ewCHJCZK9vYfx5wf2YeHhHvAX6WmXUR8Sng9Mx8f2snRcQbgR8B7wEeAapnrf8MjM3MFRFxAPAN4Ejgx8B44LMRsQuwYWbObaP/E4ATAAYPHsI5u6/o4DbLaWhoAOCpp55i6dKlzY8Bpk2bxu9//3suuugiZsyY0er5W2yxBVdddRW77rprt9TXE5YsWbLKOKh7Od615XjXluNdW31tvA3SvdcY4NrMXAoQEb8F/gP4a2beVRyzF9CQmc8Wx0yhEloBDgCGR0RTf2+OiE2L7akdhGiAWzLzxaLfB4G3A1u0uN4vgLFAR0H6mnZCdNO9HgmQmbdGxBYRMbCDPgGGAQsy8+Ginv+hCL7AQOCnEbEzkMD6TbUAX4qIM4DjgMltdZ6ZlwOXA2y3w0550bzu+c9p4bj6yveFC9l4442pr688njZtGlOnTmXGjBkMGTKk+fhnn32WQYMGMWDAAB577DGeffZZPvzhD6+2xro3a2hoaB4HdT/Hu7Yc79pyvGurr423Qbr3ijbal7Z4nG0c9wZgn5aBuQjWLftozfKq7ZVUnktt1dSyjje22NfR9Vrrt6376uxxXwWmZ+YRETEUaADIzJcj4mbgMOAjwOhOXqdbHX300TQ0NLBo0SK22WYbzjvvPM4//3yWL1/OgQceCFRecDhp0iRuu+02zjnnHNZbbz0GDBjApEmT+lSIliRpXWGQ7r1uAyZHxAVUguYRwCf414wrVJZ7XBIRWwCLgQ8Dc4p9NwETgIkAEVGXmbPXsKam6w2msrTjaODSYt/TEbEb0FjU+lIX+r0NGAd8NSLqgUWZubhqNr0tfwa2j4gdM/PRop4mA4Eniu3xLc77MfB74PbMfL4LdXabq666arW2448/vtVjjzzySI488sjuLkmSpH7PFxv2Upk5i8qyg3uoBNgfUwmv1cc8CZwL3An8gcoLEJt8BhhdvIDvQWCNP7WjuN4XqKzFngPMyszrit1nAdcDtwJPdrHrc5tqBS4AjulkPa9Q+cXihuLFhn+t2n0hcH5EzAQGtDjvPiq/eFzZxTolSVI/4ox0L5aZ3wa+3aJ5RItjrqSVQJiZi4DV3ns5M8/txHUnU7V2uPrFfpn5S+CXrZzza+DXrbSP78T1nqey1KJlewPFkox2zp1GZa10y/Y7+dd6cYAvNW1ExNuo/JJ5U0e1Ndlo/QE0+lHekiT1K85IS1Ui4pNUZvjPzszXe7oeSZK07nJGWm2KiPey+ns7L8jMI7rpescCp7RonpmZJ3Xi3GuB7Vs0n5mZN3alhsz8Ge2/f7YkSRJgkFY7ihDapSC6htdrdRlKJ8/tlnAvSZLUFpd2SJIkSSUYpCVJkqQSDNKSJElSCQZpSZIkqQSDtCRJklSCQVqSJEkqwSAtSZIklWCQliRJkkowSEuSJEklGKQlSZKkEgzSkiRJUgkGaUmSJKkEg7QkSZJUgkFakiRJKsEgLUmSJJVgkJYkSZJKMEhLkiRJJRikJUmSpBIM0pIkSVIJBmlJkiSpBIO0JEmSVIJBWpIkSSrBIC1JkiSVYJCWJEmSSjBIS5IkSSUYpCVJkqQSDNKSJElSCQZpSZIkqQSDtCRJklSCQVqSJEkqwSAtSZIklWCQliRJkkowSEuSJEklGKQlSZKkEgzSkiRJUgkGaUmSJKkEg7QkSZJUgkFakiRJKsEgLUmSJJVgkJYkSZJKWK+nC5D6gmWvrWToWTd0+viFFxzajdVIkqRacEZa6kEvvPACH/rQhxg2bBi77bYbd955J7Nnz2bvvfemrq6O0aNHc8899/R0mZIkqRXOSEs96JRTTuHggw/m17/+Na+++iovv/wyH/nIR/jyl7/MIYccwv/+7//y+c9/noaGhp4uVZIkteCMtFoVEedGxOnd2P9mEfHp7uq/K9eJiLdFxK/b2NcQEaO7o7bFixdz2223cfzxxwOwwQYbsNlmmxERLF68GIAXX3yRt73tbd1xeUmStIackVbNRcQAYDPg08D3u/lyHV4nM/8BfKib61jNY489xpAhQzj22GOZM2cOo0aN4pJLLuHiiy/mve99L6effjqvv/46f/zjH2tdmiRJ6oTIzJ6uQeuIiDgb+CTwd+BZ4D7gWuAyYAjwMvCfmfnniJgMvAK8A3gLcFpmXh8RQ4GfAxsX3U7IzD9GRD3wZeBJoA6YCxwGNAI3AzcA5wFPF/t/C8wDTgE2Ag7PzEcjYggwCdiu6P+zmTkzIs4t2nYovl+cmd+NiKurr5OZZ7Ry30OB6zNzRERsBFwJDAceAoYCJ2Xmva2cdwJwAsDgwUNGnXPxjzoxyhW7bz2QxsZGPv3pT3PppZcyfPhwLr30UjbeeGOWLFnCHnvswX777cf06dO5/vrrueiiizrdd3+wZMkSNtlkk54uo99wvGvL8a4tx7u2est4v/vd774vMzv8i7RBWgBExChgMrAXlb9UzKISWA8BTszMhyNiL+D8zHxPEaS3At4H7AhMB3aislzo9cx8JSJ2Bq7KzNFFkL4BGJGZC6rDa3H9euB3wG7A88BjwI8z88sRcQqwfWZ+NiJ+CXw/M++IiO2AGzNztyJIHwS8G9iUSnDeCti6+jpt3HtzLRFxWlHjcRExshiHvVsL0tW222GnfMNHLulwnJssvOBQnnrqKfbee28WLlwIwO23384FF1zAHXfcwQsvvEBEkJkMHDiweamHKhoaGqivr+/pMvoNx7u2HO/acrxrq7eMd0R0Kki7tENN/gO4NjNfBoiIqcAbgX8HromIpuM2rDrnV5n5OvBwRDwGDAMWAN+LiDpgJbBL1fH3ZOaCdmr4U2Y+WVz/UeCmon0elYAMcAAwvKqeN0fEpsX2DZm5HFgeEc9QmSnvqrHAdwEyc25EzC3RR6dstdVWbLvttjQ2NrLrrrtyyy23MHz4cB577DFmzJhBfX09t956KzvvvHN3lSBJktaAQVrVWv554g3AC5lZ18njEziVyvKMPYrzX6nav7SD6y+v2n696vHr/Ou5+gZgn8xcVn1iEayrz19J+ed3zf5Mc+mllzJu3DheffVVdthhB6688koOO+wwTjnlFFasWMEb3/hGLr/88lqVI0mSusAgrSa3AZMj4gIqz4sPAD8EFkTEhzPzmqik1ZGZOac458MR8VNgeyprkxuBgcDjmfl6RBwDDGjjei9RWYLRVTcBE4CJABFRl5mz2zm+q9e5DRgHTI+IEcDIEjV2Wl1dHffeu+qqkTFjxnDfffd152UlSdJa4NvfCYDMnAVMAWYDvwFuL3aNA46PiDnAA1ReuNekEZgB/D8q66hfofLuGMdExF1UlnW0Ogudmc8BMyNifkRM7EKpnwFGR8TciHgQOLGD++rqdX4AbFIs6fg84KehSJKkVjkjrWaZ+XXg663sOriNU2Zm5qkt+niYVWdxv1C0NwANLY79WIv+Gqr21VdtN5+bmYuAo1qp/dwWj0dUbbe8TstzFwIjiu1lwEfbO741G60/gEY/9luSpH7FGWlJkiSpBGekVUpmju/pGroqInan8h7X1ZZn5l49UY8kSerdDNLqNzJzHpUPe5EkSVpjLu2QJEmSSjBIS5IkSSUYpCVJkqQSDNKSJElSCQZpSZIkqQSDtCRJklSCQVqSJEkqwSAtSZIklWCQliRJkkowSEuSJEklGKQlSZKkEgzSkiRJUgkGaUmSJKkEg7QkSZJUgkFakiRJKsEgLUmSJJVgkJYkSZJKMEhLkiRJJRikJUmSpBIM0pIkSVIJBmlJkiSpBIO0JEmSVIJBWpIkSSrBIC1JkiSVYJCWJEmSSjBIS5IkSSUYpCVJkqQSDNKSJElSCQZpSZIkqQSDtCRJklSCQVqSJEkqwSAtSZIklWCQliRJkkowSEuSJEklGKQlSZKkEgzSkiRJUgkGaUmSJKkEg7QkSZJUgkFakiRJKmG9ni5A6guWvbaSoWfd0OFxCy84tAbVSJKkWnBGWuoBQ4cOZffdd6euro7Ro0evsu9b3/oWEcGiRYt6qDpJktQZzkhLPWT69OkMHjx4lba///3v3HzzzWy33XY9VJUkSeosZ6T7kYgYGhHzW7SdGxGnR8TkiFgQEbMjYlZE7NODdTZExOiOj1xr16uPiH+v1fXac+qpp3LhhRcSET1diiRJ6oBBWtXOyMw64Czgh505ISLW6K8aa3p+0ceANbxOPVDTIB0RHHTQQYwaNYrLL78cgKlTp7L11luzxx571LIUSZJUkks71JrbgJ3a2hkRDcAfgX2BqRHxM2AS0LQe4bOZOTMiBgFXADsALwMnZObciDgXeBswFFgUEccDVwLDgYeAjaqudRBwHrAh8ChwbGYuiYiFRd8HAd8Dru5EnX8BvghsADwHjCuudSKwMiI+DpwM/Lm1+2ml/xOAEwAGDx7CObuvaGvImjU0NAAwceJEBg8ezD//+U9OP/10li1bxqRJk5g4cSINDQ288sorzJw5k4EDB3bYZ3+0ZMmS5rFU93O8a8vxri3Hu7b62ngbpNWaDwDzOjhms8zcDyAifgl8JzPviIjtgBuB3agE4Psz8/CIeA/wM6CuOH8UMCYzl0XEacDLmTkyIkYCs4p+B1MJvgdk5tKIOBM4DfhK0ccrmTmmC3VuDuydmRkRnwI+n5mfi4hJwJLM/FYH97OKzLwcuBxgux12yovmdfyf08Jx9au1zZkzh8WLF/Pcc88xYcIEABYtWsTJJ5/MPffcw1ZbbdVhv/1NQ0MD9fX1PV1Gv+F415bjXVuOd231tfE2SPcv2UH7xIj4IvAscHwHfU2p2j4AGF61rvfNEbEpMAY4EiAzb42ILSKiaYp1amYuK7bHAt8tjpsbEXOL9r2pzFLPLPreALizjRo6U+c2wJSIeGvR14I2zmn1fjLzpU5cr0NLly7l9ddfZ9NNN2Xp0qXcdNNNnHPOOTzzzDPNxwwdOpR77713tRcjSpKkdYdBun95Dti8Rdsg/hUoz8jMX3eyr6VV228A9qkKxgBE66+YawrtS9toX6UL4ObMPLoTNXSmzkuBb2fm1IioB85t45xW72dtefrppzniiCMAWLFiBR/72Mc4+OCDu+NSkiSpG/liw34kM5cAT0bE/gDFGuaDgTvWsOubgAlNDyKiafnGbVTWIVME10WZubiV86uPGwGMLNrvAvaNiJ2KfW+KiF3WoM6BwBPF9jFV7S8Bm3biftaKHXbYgTlz5jBnzhweeOABzj777NWOWbhwobPRkiSt4wzS/c8ngS9GxGzgVuC8zHx0Dfv8DDA6IuZGxINUXrwHlRnf0cVSjQtYNbxW+wGwSXHc54F7ADLzWWA8cFWx7y5g2BrUeS5wTUTcDlR/2snvgSOKt/77j3buR5IkqZlLO/qZzHwQeHcr7eO70Ed9i8eLgKNaOe554LBW2s9t8XgZ8NE2rnUr8K5W2oeWqPM64LpWjvsL/5oFb7La/bRno/UH0OjHf0uS1K84Iy1JkiSV4Iy02hQRl1F5D+Zql2TmlT1RT1t6S52SJKlvMUirTZl5Uk/X0Bm9pU5JktS3uLRDkiRJKsEgLUmSJJVgkJYkSZJKMEhLkiRJJRikJUmSpBIM0pIkSVIJBmlJkiSpBIO0JEmSVIJBWpIkSSrBIC1JkiSVYJCWJEmSSjBIS5IkSSUYpCVJkqQSDNKSJElSCQZpSZIkqQSDtCRJklSCQVqSJEkqwSAtSZIklWCQliRJkkowSEuSJEklGKQlSZKkEgzSkiRJUgkGaUmSJKkEg7QkSZJUgkFakiRJKsEgLUmSJJVgkJYkSZJKMEhLkiRJJRikJUmSpBIM0pIkSVIJBmlJkiSpBIO0JEmSVIJBWpIkSSrBIC1JkiSVYJCWJEmSSjBIS5IkSSUYpCVJkqQSDNKSJElSCQZpSZIkqQSDtCRJklSCQVqSJEkqwSAtSZIklWCQliRJkkowSEuSJEklGKQlSZKkEiIze7oGqdeLiJeAxp6uox8ZDCzq6SL6Ece7thzv2nK8a6u3jPfbM3NIRwetV4tKpH6gMTNH93QR/UVE3Ot4147jXVuOd2053rXV18bbpR2SJElSCQZpSZIkqQSDtLR2XN7TBfQzjndtOd615XjXluNdW31qvH2xoSRJklSCM9KSJElSCQZpaQ1ExMER0RgRj0TEWT1dT18REQsjYl5EzI6Ie4u2QRFxc0Q8XHzfvGiPiPhu8W8wNyL+rWerX/dFxBUR8UxEzK9q6/L4RsQxxfEPR8QxPXEvvUEb431uRDxRPMdnR8T7qvZ9oRjvxoh4b1W7P286ISK2jYjpEfFQRDwQEacU7T7Hu0E7490/nuOZ6ZdffpX4AgYAjwI7ABsAc4DhPV1XX/gCFgKDW7RdCJxVbJ8FfLPYfh/w/4AA9gbu7un61/UvYCzwb8D8suMLDAIeK75vXmxv3tP3ti5+tTHe5wKnt3Ls8OJnyYbA9sXPmAH+vOnSeL8V+Ldie1PgL8W4+hyv7Xj3i+e4M9JSeXsCj2TmY5n5KnA1cFgP19SXHQb8tNj+KXB4VfvPsuIuYLOIeGtPFNhbZOZtwPMtmrs6vu8Fbs7M5zPzn8DNwMHdX33v08Z4t+Uw4OrMXJ6ZC4BHqPys8edNJ2Xmk5k5q9h+CXgI2Bqf492infFuS596jhukpfK2Bv5e9fhx2v/hoc5L4KaIuC8iTija3pKZT0LlBzewZdHuv8Pa0dXxddzX3IRiKcEVTcsMcLzXqogYCrwTuBuf492uxXhDP3iOG6Sl8qKVNt8GZ+3YNzP/DTgEOCkixrZzrP8O3aut8XXc18wPgB2BOuBJ4KKi3fFeSyJiE+A3wGczc3F7h7bS5ph3USvj3S+e4wZpqbzHgW2rHm8D/KOHaulTMvMfxfdngGup/Mnv6aYlG8X3Z4rD/XdYO7o6vo77GsjMpzNzZWa+DvyIynMcHO+1IiLWpxLqfpGZvy2afY53k9bGu788xw3SUnl/AnaOiO0jYgPgo8DUHq6p14uIjSNi06Zt4CBgPpWxbXrV/DHAdcX2VOCTxSvv9wZebPrzrbqkq+N7I3BQRGxe/Mn2oKJNndBiHf8RVJ7jUBnvj0bEhhGxPbAzcA/+vOm0iAjgJ8BDmfntql0+x7tBW+PdX57j6/V0AVJvlZkrImIClR+sA4ArMvOBHi6rL3gLcG3lZzPrAb/MzGkR8SfgVxFxPPA34MPF8f9L5VX3jwAvA8fWvuTeJSKuAuqBwRHxOPBl4AK6ML6Z+XxEfJXK//wAvpKZnX1BXb/SxnjXR0QdlT9dLwT+CyAzH4iIXwEPAiuAkzJzZdGPP286Z1/gE8C8iJhdtP1ffI53l7bG++j+8Bz3kw0lSZKkElzaIUmSJJVgkJYkSZJKMEhLkiRJJRikJUmSpBIM0pIkSVIJBmlJUk1ExMqImF31NbREH5tFxKfXfnXN/X8wIs7qrv7buObhETG8lteUtHb49neSpJqIiCWZucka9jEUuD4zR3TxvAFN71W7LomI9YAfU7mnX/d0PZK6xhlpSVKPiYgBETExIv4UEXMj4r+K9k0i4paImBUR8yLisOKUC4AdixntiRFRHxHXV/X3vYgYX2wvjIhzIuIO4MMRsWNETIuI+yLi9ogY1ko94yPie8X25Ij4QURMj4jHImK/iLgiIh6KiMlV5yyJiIuKWm+JiCFFe11E3FXc17XFp+MREQ0R8Y2ImAGcCXwQmFjc044R8Z/FeMyJiN9ExJuq6vluRPyxqOdDVTV8vhinORFxQdHW4f1KWjN+sqEkqVY2qvrkswWZeQRwPJWPZH5XRGwIzIyIm4C/A0dk5uKIGAzcFRFTgbOAEZlZBxAR9R1c85XMHFMcewtwYmY+HBF7Ad8H3tPB+ZsXx3wQ+D2VT3H7FPCniKjLzNnAxsCszPxcRJxD5ZMLJwA/A07OzBkR8ZWi/bNFv5tl5n5FXTtTNSMdES9k5o+K7a8VY3Rpcd5bgTHAMCofn/zriDgEOBzYKzNfjohBxbGXl7hfSV1gkJYk1cqypgBc5SBgZNXs6kBgZ+Bx4BsRMRZ4HdiaysfHd9UUqMxwA/8OXFN8/DzAhp04//eZmRExD3g6M+cV/T0ADAVmF/VNKY7/H+C3ETGQSlieUbT/FLimZV1tGFEE6M2ATah8ZHKT32Xm68CDEdE0HgcAV2bmy9D80dZl71dSFxikJUk9KajM2t64SmNlecYQYFRmvhYRC4E3tnL+ClZdptjymKXF9zcAL7QS5DuyvPj+etV20+O2/h/amRcfLW1n32Tg8MycU4xDfSv1QGXsmr63vGbZ+5XUBa6RliT1pBuB/46I9QEiYpeI2JjKzPQzRYh+N/D24viXgE2rzv8rMDwiNixmgfdv7SKZuRhYEBEfLq4TEbHHWrqHNwBNM+ofA+7IzBeBf0bEfxTtnwBmtHYyq9/TpsCTxZiM68T1bwKOq1pLPaib71dSwSAtSepJPwYeBGZFxHzgh1Rmen8BjI6Ie6mEyT8DZOZzVNZRz4+IiZn5d+BXwNzinPvbudY44PiImAM8ABzWzrFdsRR4R0TcR2UN8leK9mOovIhwLlBX1d7S1cAZEXF/ROwIfAm4G7iZ4r7bk5nTqKyXvrdYg356sau77ldSwbe/kyRpDcRaeFs/Sb2TM9KSJElSCc5IS5IkSSU4Iy1JkiSVYJCWJEmSSjBIS5IkSSUYpCVJkqQSDNKSJElSCQZpSZIkqYT/D1hGwoVwAn/WAAAAAElFTkSuQmCC\n",
      "text/plain": [
       "<matplotlib.figure.Figure at 0x23cd8dd0860>"
      ]
     },
     "metadata": {},
     "output_type": "display_data"
    }
   ],
   "source": [
    "# 변수 별 중요도를 그래프로 보여준다.\n",
    "import matplotlib.pyplot as plt\n",
    "lgb.plot_importance(bst, figsize=(9,20))\n",
    "plt.show()"
   ]
  },
  {
   "cell_type": "code",
   "execution_count": 21,
   "metadata": {},
   "outputs": [
    {
     "name": "stdout",
     "output_type": "stream",
     "text": [
      "build candidate list\n",
      "order row 10000\n",
      "order row 20000\n",
      "order row 30000\n",
      "order row 40000\n",
      "order row 50000\n",
      "order row 60000\n",
      "order row 70000\n",
      "user related features\n",
      "order related features\n",
      "product related features\n",
      "user_X_product related features\n",
      "order_id                              int32\n",
      "product_id                            int32\n",
      "user_total_orders                     int16\n",
      "user_total_items                      int16\n",
      "total_distinct_items                  int16\n",
      "user_average_days_between_orders    float32\n",
      "user_average_basket                 float32\n",
      "order_hour_of_day                      int8\n",
      "days_since_prior_order              float32\n",
      "days_since_ratio                    float32\n",
      "aisle_id                              uint8\n",
      "department_id                         uint8\n",
      "product_orders                        int32\n",
      "product_reorders                    float32\n",
      "product_reorder_rate                float32\n",
      "UP_orders                             int16\n",
      "UP_orders_ratio                     float32\n",
      "UP_average_pos_in_cart              float32\n",
      "UP_reorder_rate                     float32\n",
      "UP_orders_since_last                  int16\n",
      "UP_delta_hour_vs_last                  int8\n",
      "dtype: object\n",
      "Index                                     80\n",
      "order_id                            19333168\n",
      "product_id                          19333168\n",
      "user_total_orders                    9666584\n",
      "user_total_items                     9666584\n",
      "total_distinct_items                 9666584\n",
      "user_average_days_between_orders    19333168\n",
      "user_average_basket                 19333168\n",
      "order_hour_of_day                    4833292\n",
      "days_since_prior_order              19333168\n",
      "days_since_ratio                    19333168\n",
      "aisle_id                             4833292\n",
      "department_id                        4833292\n",
      "product_orders                      19333168\n",
      "product_reorders                    19333168\n",
      "product_reorder_rate                19333168\n",
      "UP_orders                            9666584\n",
      "UP_orders_ratio                     19333168\n",
      "UP_average_pos_in_cart              19333168\n",
      "UP_reorder_rate                     19333168\n",
      "UP_orders_since_last                 9666584\n",
      "UP_delta_hour_vs_last                4833292\n",
      "dtype: int64\n",
      "light GBM predict\n"
     ]
    }
   ],
   "source": [
    "### build candidates list for test ###\n",
    "\n",
    "df_test, _ = features(test_orders)\n",
    "\n",
    "print('light GBM predict')\n",
    "preds = bst.predict(df_test[f_to_use])\n",
    "\n",
    "df_test['pred'] = preds\n",
    "\n",
    "# 여기서 TRESHOLD 부분은 스크립트를 작성한 사람이 그냥 추측한 값을 적은 것이다.\n",
    "TRESHOLD = 0.22  # guess, should be tuned with crossval on a subset of train data\n",
    "\n",
    "# LGBM은 이진 값에 대한 확률를 반환해주기 떄문에,\n",
    "# 따로 한도를 정해서 0 또는 1로 분류를 해주어야한다. \n",
    "\n",
    "d = dict()\n",
    "for row in df_test.itertuples():\n",
    "    if row.pred > TRESHOLD:\n",
    "        try:\n",
    "            d[row.order_id] += ' ' + str(row.product_id)\n",
    "        except:\n",
    "            d[row.order_id] = str(row.product_id)\n",
    "\n",
    "# 이후에 아무런 재구매가 이루어지지 않는 경우도 고려를 한다.\n",
    "for order in test_orders.order_id:\n",
    "    if order not in d:\n",
    "        d[order] = 'None'"
   ]
  },
  {
   "cell_type": "code",
   "execution_count": 22,
   "metadata": {},
   "outputs": [],
   "source": [
    "sub = pd.DataFrame.from_dict(d, orient='index')\n",
    "\n",
    "sub.reset_index(inplace=True)\n",
    "sub.columns = ['order_id', 'products']\n",
    "sub.to_csv('sub_instacart_01.csv', index=False)"
   ]
  },
  {
   "cell_type": "code",
   "execution_count": 23,
   "metadata": {},
   "outputs": [
    {
     "data": {
      "text/html": [
       "<div>\n",
       "<style scoped>\n",
       "    .dataframe tbody tr th:only-of-type {\n",
       "        vertical-align: middle;\n",
       "    }\n",
       "\n",
       "    .dataframe tbody tr th {\n",
       "        vertical-align: top;\n",
       "    }\n",
       "\n",
       "    .dataframe thead th {\n",
       "        text-align: right;\n",
       "    }\n",
       "</style>\n",
       "<table border=\"1\" class=\"dataframe\">\n",
       "  <thead>\n",
       "    <tr style=\"text-align: right;\">\n",
       "      <th></th>\n",
       "      <th>order_id</th>\n",
       "      <th>products</th>\n",
       "    </tr>\n",
       "  </thead>\n",
       "  <tbody>\n",
       "    <tr>\n",
       "      <th>0</th>\n",
       "      <td>2774568</td>\n",
       "      <td>17668 21903 39190 47766 18599 43961 23650 24810</td>\n",
       "    </tr>\n",
       "    <tr>\n",
       "      <th>1</th>\n",
       "      <td>1528013</td>\n",
       "      <td>21903 38293</td>\n",
       "    </tr>\n",
       "    <tr>\n",
       "      <th>2</th>\n",
       "      <td>1376945</td>\n",
       "      <td>33572 28465 27959 44632 24799 34658 14947 8309...</td>\n",
       "    </tr>\n",
       "    <tr>\n",
       "      <th>3</th>\n",
       "      <td>1356845</td>\n",
       "      <td>11520 14992 7076 40377 28134 10863 13176</td>\n",
       "    </tr>\n",
       "    <tr>\n",
       "      <th>4</th>\n",
       "      <td>2161313</td>\n",
       "      <td>11266 196 10441 12427 37710 48142 14715 27839</td>\n",
       "    </tr>\n",
       "  </tbody>\n",
       "</table>\n",
       "</div>"
      ],
      "text/plain": [
       "   order_id                                           products\n",
       "0   2774568    17668 21903 39190 47766 18599 43961 23650 24810\n",
       "1   1528013                                        21903 38293\n",
       "2   1376945  33572 28465 27959 44632 24799 34658 14947 8309...\n",
       "3   1356845           11520 14992 7076 40377 28134 10863 13176\n",
       "4   2161313      11266 196 10441 12427 37710 48142 14715 27839"
      ]
     },
     "execution_count": 23,
     "metadata": {},
     "output_type": "execute_result"
    }
   ],
   "source": [
    "a = pd.read_csv('sub_instacart_01.csv')\n",
    "a.head()"
   ]
  }
 ],
 "metadata": {
  "kernelspec": {
   "display_name": "Python 3",
   "language": "python",
   "name": "python3"
  },
  "language_info": {
   "codemirror_mode": {
    "name": "ipython",
    "version": 3
   },
   "file_extension": ".py",
   "mimetype": "text/x-python",
   "name": "python",
   "nbconvert_exporter": "python",
   "pygments_lexer": "ipython3",
   "version": "3.6.4"
  }
 },
 "nbformat": 4,
 "nbformat_minor": 2
}
