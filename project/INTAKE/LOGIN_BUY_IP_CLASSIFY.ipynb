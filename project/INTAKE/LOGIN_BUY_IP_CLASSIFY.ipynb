{
 "cells": [
  {
   "cell_type": "code",
   "execution_count": 1,
   "metadata": {},
   "outputs": [],
   "source": [
    "import pandas as pd\n",
    "import re\n",
    "import pickle\n",
    "import datetime"
   ]
  },
  {
   "cell_type": "code",
   "execution_count": 2,
   "metadata": {},
   "outputs": [],
   "source": [
    "with open('log.pickle','rb') as f:\n",
    "    df = pickle.load(f)"
   ]
  },
  {
   "cell_type": "code",
   "execution_count": 3,
   "metadata": {},
   "outputs": [],
   "source": [
    "df['log_date'] = df.log_date.apply(lambda x: datetime.datetime.strptime(x, \"%d/%b/%Y:%H:%M:%S\"))\n",
    "\n",
    "df = df[df.device_info != 'Amazon CloudFront']\n",
    "df.drop('device_info', axis = 1, inplace = True)\n",
    "\n",
    "df = df.sort_values(by = 'log_ip')\n",
    "df.reset_index(inplace = True)\n",
    "df.drop('index', axis = 1, inplace = True)\n",
    "\n",
    "df = df.sort_values(by=['log_ip','log_date'])\n",
    "df.reset_index(inplace = True)\n",
    "df.drop('index', axis = 1, inplace = True)"
   ]
  },
  {
   "cell_type": "code",
   "execution_count": 4,
   "metadata": {
    "scrolled": false
   },
   "outputs": [
    {
     "data": {
      "text/html": [
       "<div>\n",
       "<style scoped>\n",
       "    .dataframe tbody tr th:only-of-type {\n",
       "        vertical-align: middle;\n",
       "    }\n",
       "\n",
       "    .dataframe tbody tr th {\n",
       "        vertical-align: top;\n",
       "    }\n",
       "\n",
       "    .dataframe thead th {\n",
       "        text-align: right;\n",
       "    }\n",
       "</style>\n",
       "<table border=\"1\" class=\"dataframe\">\n",
       "  <thead>\n",
       "    <tr style=\"text-align: right;\">\n",
       "      <th></th>\n",
       "      <th>log_date</th>\n",
       "      <th>before_url</th>\n",
       "      <th>after_url</th>\n",
       "      <th>device</th>\n",
       "      <th>os</th>\n",
       "      <th>app</th>\n",
       "    </tr>\n",
       "  </thead>\n",
       "  <tbody>\n",
       "    <tr>\n",
       "      <th>0</th>\n",
       "      <td>2018-07-16 16:18:18</td>\n",
       "      <td>http://m.mail.daum.net/hanmailex/mobile/Top.da...</td>\n",
       "      <td>https://www.shopintake.com/event/view/139/?utm...</td>\n",
       "      <td>Mobile</td>\n",
       "      <td>iPhone</td>\n",
       "      <td>Web</td>\n",
       "    </tr>\n",
       "    <tr>\n",
       "      <th>1</th>\n",
       "      <td>2018-07-16 16:19:05</td>\n",
       "      <td>https://www.shopintake.com/event/view/139/?utm...</td>\n",
       "      <td>https://www.shopintake.com/event/</td>\n",
       "      <td>Mobile</td>\n",
       "      <td>iPhone</td>\n",
       "      <td>Web</td>\n",
       "    </tr>\n",
       "    <tr>\n",
       "      <th>2</th>\n",
       "      <td>2018-07-16 16:19:27</td>\n",
       "      <td>https://www.shopintake.com/event/</td>\n",
       "      <td>https://www.shopintake.com/event/?page=2</td>\n",
       "      <td>Mobile</td>\n",
       "      <td>iPhone</td>\n",
       "      <td>Web</td>\n",
       "    </tr>\n",
       "  </tbody>\n",
       "</table>\n",
       "</div>"
      ],
      "text/plain": [
       "             log_date                                         before_url  \\\n",
       "0 2018-07-16 16:18:18  http://m.mail.daum.net/hanmailex/mobile/Top.da...   \n",
       "1 2018-07-16 16:19:05  https://www.shopintake.com/event/view/139/?utm...   \n",
       "2 2018-07-16 16:19:27                  https://www.shopintake.com/event/   \n",
       "\n",
       "                                           after_url  device      os  app  \n",
       "0  https://www.shopintake.com/event/view/139/?utm...  Mobile  iPhone  Web  \n",
       "1                  https://www.shopintake.com/event/  Mobile  iPhone  Web  \n",
       "2           https://www.shopintake.com/event/?page=2  Mobile  iPhone  Web  "
      ]
     },
     "execution_count": 4,
     "metadata": {},
     "output_type": "execute_result"
    }
   ],
   "source": [
    "#보안 문제로 IP주소는 삭제함.\n",
    "df.drop('log_ip', axis = 1).head(3)"
   ]
  },
  {
   "cell_type": "code",
   "execution_count": 5,
   "metadata": {},
   "outputs": [],
   "source": [
    "df['sign_up'] = df.after_url\n",
    "df['log_in'] = df.after_url\n",
    "df['pay_complete'] = df.after_url\n",
    "df['sign_up'] = df.sign_up.apply(lambda x: 100 if re.compile('/membership/signup/complete').search(x) else 0)\n",
    "df['log_in'] = df.log_in.apply(lambda x: 10 if re.compile('/membership/login').search(x) else 0)\n",
    "df['pay_complete'] = df.pay_complete.apply(lambda x: 1 if re.compile('/payment/complete').search(x) else 0)"
   ]
  },
  {
   "cell_type": "code",
   "execution_count": 6,
   "metadata": {},
   "outputs": [],
   "source": [
    "df_total = pd.DataFrame(columns = ['log_ip','log_date','sign_up','log_in', 'pay_complete'])\n",
    "df_total['log_ip'] = df.groupby(['log_ip']).apply(list).index\n",
    "df_total['log_date'] = df.groupby(['log_ip'])['log_date'].apply(list).values\n",
    "\n",
    "df_total['sign_up'] = df.groupby(['log_ip'])['sign_up'].apply(list).values\n",
    "df_total['log_in'] = df.groupby(['log_ip'])['log_in'].apply(list).values\n",
    "df_total['pay_complete'] = df.groupby(['log_ip'])['pay_complete'].apply(list).values\n",
    "\n",
    "df_total['url_cnt'] = df_total.log_date.apply(lambda x: len(x))"
   ]
  },
  {
   "cell_type": "code",
   "execution_count": 7,
   "metadata": {},
   "outputs": [],
   "source": [
    "# 한 세션의 기준은 30분으로 한다.\n",
    "df_total['split_index'] = df_total.log_date.apply(lambda x: [i for i in range(1,len(x)) if (x[i] - x[i-1]).seconds//60 > 30])"
   ]
  },
  {
   "cell_type": "code",
   "execution_count": 8,
   "metadata": {},
   "outputs": [
    {
     "data": {
      "text/plain": [
       "(29117, 7)"
      ]
     },
     "execution_count": 8,
     "metadata": {},
     "output_type": "execute_result"
    }
   ],
   "source": [
    "df_total.shape"
   ]
  },
  {
   "cell_type": "code",
   "execution_count": 9,
   "metadata": {},
   "outputs": [],
   "source": [
    "def coder(x_list):\n",
    "    r_list = list()\n",
    "    for x in x_list:\n",
    "        if (x//100 > 1) and (x%100 >= 10) and (x%10 >= 1) :\n",
    "            r_list.append('lb')\n",
    "        elif (x%100 >= 10) and (x%10 >=1):\n",
    "            r_list.append('lb')\n",
    "        elif (x//100 > 1) and (x%100 >= 10) and (x%10 == 0):\n",
    "            r_list.append('lnb')\n",
    "        elif (x%100 >= 10) and (x%10 == 0):\n",
    "            r_list.append('lnb')\n",
    "        else : \n",
    "            r_list.append('dn')\n",
    "    if 'lb' in r_list:\n",
    "        return 'lb'\n",
    "    elif 'lnb' in r_list:\n",
    "        return 'lnb'\n",
    "    else : \n",
    "        return 'dn'"
   ]
  },
  {
   "cell_type": "code",
   "execution_count": 10,
   "metadata": {},
   "outputs": [],
   "source": [
    "login_buy = list()\n",
    "login_nobuy = list()\n",
    "do_nothing = list()\n",
    "\n",
    "for _ in range(df_total.shape[0]):\n",
    "    user_type = list()\n",
    "    temp_df = df_total.iloc[_]\n",
    "    if len(temp_df.split_index) == 0:\n",
    "        c = coder([i+j for i,j in zip([i+j for i,j in zip(temp_df.sign_up, temp_df.log_in)], temp_df.pay_complete)])\n",
    "        if c == 'lb':\n",
    "            login_buy.append(temp_df.log_ip)\n",
    "        elif c =='lnb':\n",
    "            login_nobuy.append(temp_df.log_ip)\n",
    "        else:\n",
    "            do_nothing.append(temp_df.log_ip)\n",
    "            continue\n",
    "        \n",
    "        \n",
    "    elif len(temp_df.split_index) == 1:\n",
    "        for i in range(len(temp_df.split_index)):\n",
    "            if i == 0:\n",
    "                idx = temp_df.split_index[0]\n",
    "                c = coder([i+j for i,j in zip([i+j for i,j in zip(temp_df.sign_up[:idx], temp_df.log_in[:idx])], temp_df.pay_complete[:idx])]\\\n",
    "                +[i+j for i,j in zip([i+j for i,j in zip(temp_df.sign_up[idx:], temp_df.log_in[idx:])], temp_df.pay_complete[idx:])])\n",
    "                if c == 'lb':\n",
    "                    login_buy.append(temp_df.log_ip)\n",
    "                elif c =='lnb':\n",
    "                    login_nobuy.append(temp_df.log_ip)\n",
    "                else:\n",
    "                    do_nothing.append(temp_df.log_ip)\n",
    "                continue\n",
    "    else:\n",
    "        for i in range(len(temp_df.split_index)):\n",
    "            if i == 0:\n",
    "                idx = temp_df.split_index[i]\n",
    "                c_ = [i+j for i,j in zip([i+j for i,j in zip(temp_df.sign_up[:idx], temp_df.log_in[:idx])], temp_df.pay_complete[:idx])]\n",
    "                continue\n",
    "            elif i < len(temp_df.split_index)-1:\n",
    "                idx = temp_df.split_index[i]\n",
    "                c_ = c_ + [i+j for i,j in zip([i+j for i,j in zip(temp_df.sign_up[idx-1:idx], temp_df.log_in[idx-1:idx])], temp_df.pay_complete[idx-1:idx])]\n",
    "                continue\n",
    "            elif i == len(temp_df.split_index)-1:\n",
    "                idx = temp_df.split_index[i]\n",
    "                c_ = c_ + [i+j for i,j in zip([i+j for i,j in zip(temp_df.sign_up[idx-1:], temp_df.log_in[idx-1:])], temp_df.pay_complete[idx-1:])]\n",
    "            c = coder(c_)\n",
    "            if c == 'lb':\n",
    "                login_buy.append(temp_df.log_ip)\n",
    "            elif c =='lnb':\n",
    "                login_nobuy.append(temp_df.log_ip)\n",
    "            else:\n",
    "                do_nothing.append(temp_df.log_ip)"
   ]
  },
  {
   "cell_type": "code",
   "execution_count": 11,
   "metadata": {},
   "outputs": [
    {
     "name": "stdout",
     "output_type": "stream",
     "text": [
      "43 3137 25937\n"
     ]
    }
   ],
   "source": [
    "print(len(login_buy),   # 한 세션에서 로그인하고 상품을 구매한 사람 ( + 회원가입)\n",
    "      len(login_nobuy), # 한 세션에서 로그인하고 상품을 구매하지 않은 사람 (+ 회원가입)\n",
    "      len(do_nothing)   # 그 외\n",
    "     )"
   ]
  },
  {
   "cell_type": "code",
   "execution_count": 12,
   "metadata": {},
   "outputs": [],
   "source": [
    "ip_check_buy = {\n",
    "    'login_buy' : login_buy,\n",
    "    'login_nobuy' : login_nobuy,\n",
    "    'do_nothing' : do_nothing\n",
    "}"
   ]
  },
  {
   "cell_type": "code",
   "execution_count": 13,
   "metadata": {},
   "outputs": [],
   "source": [
    "with open('ip_check_buy.pickle', 'wb') as f:\n",
    "    pickle.dump(ip_check_buy, f)"
   ]
  }
 ],
 "metadata": {
  "kernelspec": {
   "display_name": "Python 3",
   "language": "python",
   "name": "python3"
  },
  "language_info": {
   "codemirror_mode": {
    "name": "ipython",
    "version": 3
   },
   "file_extension": ".py",
   "mimetype": "text/x-python",
   "name": "python",
   "nbconvert_exporter": "python",
   "pygments_lexer": "ipython3",
   "version": "3.6.4"
  }
 },
 "nbformat": 4,
 "nbformat_minor": 2
}
