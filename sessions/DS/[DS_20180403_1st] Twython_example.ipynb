{
 "cells": [
  {
   "cell_type": "markdown",
   "metadata": {},
   "source": [
    "# Twython 시작하기"
   ]
  },
  {
   "cell_type": "code",
   "execution_count": null,
   "metadata": {},
   "outputs": [],
   "source": [
    "from twython import Twython           #Search API\n",
    "from twython import TwythonStreamer   #Streaming API\n",
    "\n",
    "CONSUMER_KEY = \"\"\n",
    "CONSUMER_SECRET = \"\"\n",
    "ACCESS_TOKEN = \"\"\n",
    "ACCESS_TOKEN_SECRET = \"\""
   ]
  },
  {
   "cell_type": "markdown",
   "metadata": {},
   "source": [
    "Twython <- <b>Search API</b>에 쓰인다.<br>\n",
    "TwythonStreamer <- <b>Streaming API</b>에 쓰인다. <br><br>\n",
    "CONSUMER_KEY, CONSUMER_SECRET, ACCESS_TOKEN, ACCESS_TOKEN_SECRET ... 모두 미리 변수에 할당하였다."
   ]
  },
  {
   "cell_type": "markdown",
   "metadata": {},
   "source": [
    "## Search API"
   ]
  },
  {
   "cell_type": "code",
   "execution_count": null,
   "metadata": {},
   "outputs": [],
   "source": [
    "twitter = Twython(CONSUMER_KEY, CONSUMER_SECRET)\n",
    "\n",
    "# \"data science\"라는 단어가 들어가 있는 트윗 검색\n",
    "for status in twitter.search(q='\"data science\"')[\"statuses\"]:\n",
    "    user = status[\"user\"][\"screen_name\"].encode('utf-8')\n",
    "    text = status[\"text\"].encode('utf-8')\n",
    "    print(user,\":\",text.decode(\"utf-8\"))"
   ]
  },
  {
   "cell_type": "markdown",
   "metadata": {},
   "source": [
    "## Streaming API "
   ]
  },
  {
   "cell_type": "code",
   "execution_count": null,
   "metadata": {},
   "outputs": [],
   "source": [
    "tweets = []\n",
    "\n",
    "class MyStreamer(TwythonStreamer):\n",
    "    \"\"\"Streaming API를 어떻게 사용할지 명시하기 위해 직접 만든\n",
    "    TwythonStreamer의 하위 클래스\"\"\"\n",
    "\n",
    "    def on_success(self, data):\n",
    "        \"\"\"트위터에서 보내 온 데이터를 어떻게 처리할까?\n",
    "    여기서는 트윗을 dict 형태로 유지할 것이다\"\"\"\n",
    "\n",
    "        # 영어로 작성된 트윗만 원한다면\n",
    "        if data['lang'] == 'en':\n",
    "            tweets.append(data)\n",
    "\n",
    "        # 트윗을 적당히 모았다면 멈춤 (여기서는 5개 이상을 모았으면 멈춘다)\n",
    "        if len(tweets) >= 5:\n",
    "            self.disconnect()\n",
    "\n",
    "    def on_error(self, status_code, data):\n",
    "        print(status_code, data)\n",
    "        self.disconnect()"
   ]
  },
  {
   "cell_type": "code",
   "execution_count": null,
   "metadata": {},
   "outputs": [],
   "source": [
    "stream = MyStreamer(CONSUMER_KEY, CONSUMER_SECRET,\n",
    "                        ACCESS_TOKEN, ACCESS_TOKEN_SECRET)"
   ]
  },
  {
   "cell_type": "code",
   "execution_count": null,
   "metadata": {},
   "outputs": [],
   "source": [
    "stream.statuses.filter(track='data')\n",
    "print(\"가져온 트윗 개수 : \",len(tweets))"
   ]
  },
  {
   "cell_type": "code",
   "execution_count": null,
   "metadata": {},
   "outputs": [],
   "source": [
    "tweets[0]"
   ]
  },
  {
   "cell_type": "code",
   "execution_count": null,
   "metadata": {},
   "outputs": [],
   "source": [
    "tweets[0]['created_at']"
   ]
  },
  {
   "cell_type": "code",
   "execution_count": null,
   "metadata": {},
   "outputs": [],
   "source": [
    "tweets[1]['created_at']"
   ]
  },
  {
   "cell_type": "markdown",
   "metadata": {},
   "source": [
    "## Streaming API + Sqlite3"
   ]
  },
  {
   "cell_type": "markdown",
   "metadata": {},
   "source": [
    "예시가 아닌 실제 프로젝트를 진행할 떄는 불러온 트윗을 인메모리(in-memory)에 올려서 사용하는 것을 추천하지 않는다.<br>\n",
    "먼저 파일이나 <b>데이터베이스로 저장</b>을 하고 작업을 하도록 하자."
   ]
  },
  {
   "cell_type": "code",
   "execution_count": null,
   "metadata": {},
   "outputs": [],
   "source": [
    "import sqlite3\n",
    "\n",
    "conn = sqlite3.connect('C:/Users/lion5/Desktop/Study_Portfolio/동아리및학회/GrowthHackers/data-science-from-scratch-master/9장준비/3기 대상/DS.db')\n",
    "curs = conn.cursor()"
   ]
  },
  {
   "cell_type": "code",
   "execution_count": null,
   "metadata": {},
   "outputs": [],
   "source": [
    "CONSUMER_KEY = \"\"\n",
    "CONSUMER_SECRET = \"\"\n",
    "ACCESS_TOKEN = \"\"\n",
    "ACCESS_TOKEN_SECRET = \"\""
   ]
  },
  {
   "cell_type": "code",
   "execution_count": null,
   "metadata": {},
   "outputs": [],
   "source": [
    "from twython import TwythonStreamer,Twython"
   ]
  },
  {
   "cell_type": "code",
   "execution_count": null,
   "metadata": {},
   "outputs": [],
   "source": [
    "tweets = []\n",
    "\n",
    "class MyStreamer(TwythonStreamer):\n",
    "    \"\"\"Streaming API를 어떻게 사용할지 명시하기 위해 직접 만든\n",
    "    TwythonStreamer의 하위 클래스\"\"\"\n",
    "\n",
    "    def on_success(self, data):\n",
    "        \"\"\"트위터에서 보내 온 데이터를 어떻게 처리할까?\n",
    "    여기서는 트윗을 dict 형태로 유지할 것이다\"\"\"\n",
    "\n",
    "        # 영어로 작성된 트윗만 원한다면\n",
    "        if data['lang'] == 'en':\n",
    "            data = data['text'].replace('\"','`')\n",
    "            curs.execute('insert into twitter values (\"'+data+'\")')\n",
    "            tweets.append(\"0\")\n",
    "\n",
    "        # 트윗을 적당히 모았다면 멈춤 (여기서는 30개 이상을 모았으면 멈춘다)\n",
    "        if len(tweets) >= 50:\n",
    "            self.disconnect()\n",
    "            conn.commit()\n",
    "            conn.close()\n",
    "            \n",
    "    def on_error(self, status_code, data):\n",
    "        print(status_code, data)\n",
    "        self.disconnect()\n"
   ]
  },
  {
   "cell_type": "code",
   "execution_count": null,
   "metadata": {},
   "outputs": [],
   "source": [
    "stream = MyStreamer(CONSUMER_KEY, CONSUMER_SECRET,\n",
    "                        ACCESS_TOKEN, ACCESS_TOKEN_SECRET)"
   ]
  },
  {
   "cell_type": "code",
   "execution_count": null,
   "metadata": {},
   "outputs": [],
   "source": [
    "# 공개된 트윗 중 data라는 키워드를 포함하고 있는 트윗을 받아 오기 시작함\n",
    "stream.statuses.filter(track='data')"
   ]
  },
  {
   "cell_type": "code",
   "execution_count": null,
   "metadata": {},
   "outputs": [],
   "source": []
  }
 ],
 "metadata": {
  "kernelspec": {
   "display_name": "Python 3",
   "language": "python",
   "name": "python3"
  },
  "language_info": {
   "codemirror_mode": {
    "name": "ipython",
    "version": 3
   },
   "file_extension": ".py",
   "mimetype": "text/x-python",
   "name": "python",
   "nbconvert_exporter": "python",
   "pygments_lexer": "ipython3",
   "version": "3.6.4"
  }
 },
 "nbformat": 4,
 "nbformat_minor": 1
}
